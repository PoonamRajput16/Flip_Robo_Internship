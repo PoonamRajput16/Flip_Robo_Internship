{
 "cells": [
  {
   "cell_type": "markdown",
   "id": "1f89477c",
   "metadata": {},
   "source": [
    "# Webscrapping - 2 (Selenium)"
   ]
  },
  {
   "cell_type": "code",
   "execution_count": 6,
   "id": "914521ea",
   "metadata": {
    "scrolled": true
   },
   "outputs": [
    {
     "name": "stdout",
     "output_type": "stream",
     "text": [
      "Requirement already satisfied: selenium in c:\\users\\91977\\anaconda3\\lib\\site-packages (3.141.0)\n",
      "Requirement already satisfied: urllib3 in c:\\users\\91977\\anaconda3\\lib\\site-packages (from selenium) (1.26.4)\n"
     ]
    }
   ],
   "source": [
    "!pip install selenium"
   ]
  },
  {
   "cell_type": "code",
   "execution_count": 7,
   "id": "3eefb408",
   "metadata": {},
   "outputs": [],
   "source": [
    "import selenium\n",
    "import pandas as pd\n",
    "from selenium import webdriver\n",
    "\n",
    "from time import sleep\n",
    "import time"
   ]
  },
  {
   "cell_type": "code",
   "execution_count": 9,
   "id": "ee21af50",
   "metadata": {},
   "outputs": [],
   "source": [
    "driver = webdriver.Chrome(r\"C:\\Users\\91977\\Downloads\\chromedriver_win32\\chromedriver.exe\")"
   ]
  },
  {
   "cell_type": "markdown",
   "id": "96fcbb54",
   "metadata": {},
   "source": [
    "_______________________________________________________"
   ]
  },
  {
   "cell_type": "markdown",
   "id": "1ae43dc8",
   "metadata": {},
   "source": [
    "#### Q1: Write a python program to scrape data for “Data Analyst” Job position in “Bangalore” location. You have to scrape the job-title, job-location, company_name, experience_required. You have to scrape first 10 jobs data.\n"
   ]
  },
  {
   "cell_type": "code",
   "execution_count": 11,
   "id": "69202de5",
   "metadata": {},
   "outputs": [],
   "source": [
    "driver = webdriver.Chrome(r\"C:\\Users\\91977\\Downloads\\chromedriver_win32\\chromedriver.exe\")"
   ]
  },
  {
   "cell_type": "code",
   "execution_count": 12,
   "id": "112953c0",
   "metadata": {},
   "outputs": [],
   "source": [
    "url = 'https://www.naukri.com'\n",
    "driver.get(url)"
   ]
  },
  {
   "cell_type": "code",
   "execution_count": 13,
   "id": "9d8fa17d",
   "metadata": {},
   "outputs": [],
   "source": [
    "#enter data analyst in the job search section\n",
    "\n",
    "search_job = driver.find_element_by_xpath('//input[@class=\"sugInp\"]')\n",
    "search_job.send_keys('Data Analyst')"
   ]
  },
  {
   "cell_type": "code",
   "execution_count": 14,
   "id": "343560ea",
   "metadata": {},
   "outputs": [],
   "source": [
    "#enter Bangalore in the city name section \n",
    "\n",
    "search_loc = driver.find_element_by_id('qsb-location-sugg')\n",
    "search_loc.send_keys('Bangalore')"
   ]
  },
  {
   "cell_type": "code",
   "execution_count": 15,
   "id": "25ee5a8b",
   "metadata": {},
   "outputs": [],
   "source": [
    "#click on the search button\n",
    "\n",
    "search_btn = driver.find_element_by_xpath('//button[@class=\"btn\"]')\n",
    "search_btn.click()"
   ]
  },
  {
   "cell_type": "raw",
   "id": "d64aceb4",
   "metadata": {},
   "source": [
    "pop_up = driver.find_element_by_xpath('//span[@class=\"fr geoLocBtn later\"]')\n",
    "pop_up.click()"
   ]
  },
  {
   "cell_type": "code",
   "execution_count": 16,
   "id": "f3a953c7",
   "metadata": {},
   "outputs": [
    {
     "data": {
      "text/plain": [
       "[<selenium.webdriver.remote.webelement.WebElement (session=\"48a79a3c003c9f510212458baf3dfc29\", element=\"aae12c84-ab14-46e6-a57e-8bacfd22da76\")>,\n",
       " <selenium.webdriver.remote.webelement.WebElement (session=\"48a79a3c003c9f510212458baf3dfc29\", element=\"1971b772-931b-45b8-99f3-9dd536672091\")>,\n",
       " <selenium.webdriver.remote.webelement.WebElement (session=\"48a79a3c003c9f510212458baf3dfc29\", element=\"bff69a12-b9ea-439c-9f2f-ad8f0a625f2b\")>,\n",
       " <selenium.webdriver.remote.webelement.WebElement (session=\"48a79a3c003c9f510212458baf3dfc29\", element=\"7bb80043-0327-4a07-b797-72d6a04fb5fe\")>,\n",
       " <selenium.webdriver.remote.webelement.WebElement (session=\"48a79a3c003c9f510212458baf3dfc29\", element=\"2985af9a-8c73-4669-a7cb-eef287aed5ab\")>,\n",
       " <selenium.webdriver.remote.webelement.WebElement (session=\"48a79a3c003c9f510212458baf3dfc29\", element=\"3ae283df-a33d-48c2-b261-f05d06414cb7\")>,\n",
       " <selenium.webdriver.remote.webelement.WebElement (session=\"48a79a3c003c9f510212458baf3dfc29\", element=\"04f2251c-1712-4c5d-89aa-641bcfd45ac6\")>,\n",
       " <selenium.webdriver.remote.webelement.WebElement (session=\"48a79a3c003c9f510212458baf3dfc29\", element=\"0694ded2-380f-4efd-90f0-513b07e06d07\")>,\n",
       " <selenium.webdriver.remote.webelement.WebElement (session=\"48a79a3c003c9f510212458baf3dfc29\", element=\"4b8a6c7f-ba13-4490-8c3a-7f209286584d\")>,\n",
       " <selenium.webdriver.remote.webelement.WebElement (session=\"48a79a3c003c9f510212458baf3dfc29\", element=\"286ea8ed-34f2-43fe-bbf2-c4394c63afde\")>,\n",
       " <selenium.webdriver.remote.webelement.WebElement (session=\"48a79a3c003c9f510212458baf3dfc29\", element=\"34afeb9d-e2c8-4450-90ae-445db65e459d\")>,\n",
       " <selenium.webdriver.remote.webelement.WebElement (session=\"48a79a3c003c9f510212458baf3dfc29\", element=\"136f72e1-7427-454f-a1f0-34a63af159a1\")>,\n",
       " <selenium.webdriver.remote.webelement.WebElement (session=\"48a79a3c003c9f510212458baf3dfc29\", element=\"7954b698-959f-4ce8-bc63-fd9b996bd72d\")>,\n",
       " <selenium.webdriver.remote.webelement.WebElement (session=\"48a79a3c003c9f510212458baf3dfc29\", element=\"d47f3be3-81f5-46d0-8356-a901d113ec45\")>,\n",
       " <selenium.webdriver.remote.webelement.WebElement (session=\"48a79a3c003c9f510212458baf3dfc29\", element=\"721923a4-db28-40a5-9c35-541694e72c58\")>,\n",
       " <selenium.webdriver.remote.webelement.WebElement (session=\"48a79a3c003c9f510212458baf3dfc29\", element=\"046b675b-e61e-4148-b85b-f417d9fef652\")>,\n",
       " <selenium.webdriver.remote.webelement.WebElement (session=\"48a79a3c003c9f510212458baf3dfc29\", element=\"8af79181-86fa-4fc9-81f7-a9622eb1c19e\")>,\n",
       " <selenium.webdriver.remote.webelement.WebElement (session=\"48a79a3c003c9f510212458baf3dfc29\", element=\"a7eb26a6-6036-4008-8152-3b13f459b001\")>,\n",
       " <selenium.webdriver.remote.webelement.WebElement (session=\"48a79a3c003c9f510212458baf3dfc29\", element=\"6b60b91e-1511-4f82-b96e-89ff952b42f5\")>,\n",
       " <selenium.webdriver.remote.webelement.WebElement (session=\"48a79a3c003c9f510212458baf3dfc29\", element=\"36c2c67a-e585-4502-972b-9843a35da8fd\")>]"
      ]
     },
     "execution_count": 16,
     "metadata": {},
     "output_type": "execute_result"
    }
   ],
   "source": [
    "#find job title\n",
    "\n",
    "job_title = driver.find_elements_by_xpath('//a[@class=\"title fw500 ellipsis\"]')\n",
    "job_title"
   ]
  },
  {
   "cell_type": "code",
   "execution_count": 17,
   "id": "b806e4da",
   "metadata": {},
   "outputs": [
    {
     "data": {
      "text/plain": [
       "['Data Scientist / Data Analyst -Business Analyst',\n",
       " 'Junior Data Analyst',\n",
       " 'Junior Data Analyst',\n",
       " 'Network Design & Data Analyst',\n",
       " 'Market Data Analyst',\n",
       " 'Data analysts',\n",
       " 'Data Analyst',\n",
       " 'Consultant - Data Analyst',\n",
       " 'Assistant Vice President - MIS & Reporting ( Business Data Analyst)',\n",
       " 'Data Analyst',\n",
       " 'Data Analyst',\n",
       " 'Business Data Analyst - MIS & Reporting',\n",
       " 'Data Analyst',\n",
       " 'Data Analyst',\n",
       " 'Market Data Business Analyst,',\n",
       " 'Excel VBA Jobs Bangalore | VBA data analyst Jobs',\n",
       " 'Software Developer / Web Developer/data analyst',\n",
       " 'Data Analyst',\n",
       " 'Senior Data Analyst',\n",
       " 'Data Analyst – Financial, Healthcare, Sports Betting']"
      ]
     },
     "execution_count": 17,
     "metadata": {},
     "output_type": "execute_result"
    }
   ],
   "source": [
    "#select job title\n",
    "\n",
    "Job_Post = []\n",
    "for i in job_title:\n",
    "    Job_Post.append(i.text)\n",
    "Job_Post"
   ]
  },
  {
   "cell_type": "code",
   "execution_count": 18,
   "id": "3cc761ab",
   "metadata": {},
   "outputs": [
    {
     "data": {
      "text/plain": [
       "[<selenium.webdriver.remote.webelement.WebElement (session=\"48a79a3c003c9f510212458baf3dfc29\", element=\"1e4c594f-8415-437f-9402-0ed127d7ab37\")>,\n",
       " <selenium.webdriver.remote.webelement.WebElement (session=\"48a79a3c003c9f510212458baf3dfc29\", element=\"4f5c2c51-527e-4370-954d-8b7da0ce3395\")>,\n",
       " <selenium.webdriver.remote.webelement.WebElement (session=\"48a79a3c003c9f510212458baf3dfc29\", element=\"296929c4-4226-4330-acaf-fa51d3426433\")>,\n",
       " <selenium.webdriver.remote.webelement.WebElement (session=\"48a79a3c003c9f510212458baf3dfc29\", element=\"bd1a1b51-9056-4d5f-9c9a-fd68d43b2abc\")>,\n",
       " <selenium.webdriver.remote.webelement.WebElement (session=\"48a79a3c003c9f510212458baf3dfc29\", element=\"4dac2b85-1349-42ce-a1f4-564ac7e07de1\")>,\n",
       " <selenium.webdriver.remote.webelement.WebElement (session=\"48a79a3c003c9f510212458baf3dfc29\", element=\"905c9871-27a4-47c9-ae9d-0c5e2a8845d3\")>,\n",
       " <selenium.webdriver.remote.webelement.WebElement (session=\"48a79a3c003c9f510212458baf3dfc29\", element=\"72910b4b-d45b-463d-8e22-cf38e1586273\")>,\n",
       " <selenium.webdriver.remote.webelement.WebElement (session=\"48a79a3c003c9f510212458baf3dfc29\", element=\"28936659-fd2d-4302-b3f9-2fc9433aea5f\")>,\n",
       " <selenium.webdriver.remote.webelement.WebElement (session=\"48a79a3c003c9f510212458baf3dfc29\", element=\"0d919062-6a1b-47e8-9568-fb0933a5f52d\")>,\n",
       " <selenium.webdriver.remote.webelement.WebElement (session=\"48a79a3c003c9f510212458baf3dfc29\", element=\"1b47c8f0-337e-4df9-83e5-10faf3428c04\")>,\n",
       " <selenium.webdriver.remote.webelement.WebElement (session=\"48a79a3c003c9f510212458baf3dfc29\", element=\"da11c57b-62da-49d6-9c34-6f9ce684d88b\")>,\n",
       " <selenium.webdriver.remote.webelement.WebElement (session=\"48a79a3c003c9f510212458baf3dfc29\", element=\"22d4272f-55d6-4fb1-b94f-5d199b0068dd\")>,\n",
       " <selenium.webdriver.remote.webelement.WebElement (session=\"48a79a3c003c9f510212458baf3dfc29\", element=\"03f838cf-4a11-4607-81cd-4f346b39d491\")>,\n",
       " <selenium.webdriver.remote.webelement.WebElement (session=\"48a79a3c003c9f510212458baf3dfc29\", element=\"932bb1c0-d5f2-438a-8ded-4cc13e6706e2\")>,\n",
       " <selenium.webdriver.remote.webelement.WebElement (session=\"48a79a3c003c9f510212458baf3dfc29\", element=\"03b2fbf2-9288-4f4b-aa3c-9ce7e99d9913\")>,\n",
       " <selenium.webdriver.remote.webelement.WebElement (session=\"48a79a3c003c9f510212458baf3dfc29\", element=\"3e7dbd05-fd9b-402d-a547-f37d426f5645\")>,\n",
       " <selenium.webdriver.remote.webelement.WebElement (session=\"48a79a3c003c9f510212458baf3dfc29\", element=\"bb80d014-e5f8-482c-97e5-e064965c61bd\")>,\n",
       " <selenium.webdriver.remote.webelement.WebElement (session=\"48a79a3c003c9f510212458baf3dfc29\", element=\"eb3baaa9-e59b-44e3-a9fe-750151284e77\")>,\n",
       " <selenium.webdriver.remote.webelement.WebElement (session=\"48a79a3c003c9f510212458baf3dfc29\", element=\"d44e47f4-7780-45fb-a553-a528b3937b35\")>,\n",
       " <selenium.webdriver.remote.webelement.WebElement (session=\"48a79a3c003c9f510212458baf3dfc29\", element=\"a5316976-6542-46a2-8a14-eb933d65fb68\")>,\n",
       " <selenium.webdriver.remote.webelement.WebElement (session=\"48a79a3c003c9f510212458baf3dfc29\", element=\"7099a4d3-b294-435e-950f-ee60d7cf0e97\")>,\n",
       " <selenium.webdriver.remote.webelement.WebElement (session=\"48a79a3c003c9f510212458baf3dfc29\", element=\"ba984a74-7ab2-451d-aec1-ee1987edc36a\")>,\n",
       " <selenium.webdriver.remote.webelement.WebElement (session=\"48a79a3c003c9f510212458baf3dfc29\", element=\"3a7edeb8-a2af-4bb8-8eb4-c7d2c572616e\")>]"
      ]
     },
     "execution_count": 18,
     "metadata": {},
     "output_type": "execute_result"
    }
   ],
   "source": [
    "#find job locations\n",
    "loc = driver.find_elements_by_xpath('//li[@class=\"fleft grey-text br2 placeHolderLi location\"]//span')\n",
    "loc"
   ]
  },
  {
   "cell_type": "code",
   "execution_count": 19,
   "id": "a1113922",
   "metadata": {},
   "outputs": [
    {
     "data": {
      "text/plain": [
       "['Hyderabad/Secunderabad, Chennai, Bangalore/Bengaluru',\n",
       " 'Bangalore/Bengaluru(Sector 2 HSR Layout)',\n",
       " '(WFH during Covid)',\n",
       " 'Bangalore/Bengaluru(Sector 2 HSR Layout)',\n",
       " '(WFH during Covid)',\n",
       " 'Bangalore/Bengaluru',\n",
       " 'Madurai, Kolkata, Hyderabad/Secunderabad, Ahmedabad, Chennai, Bangalore/Bengaluru',\n",
       " 'Bangalore/Bengaluru',\n",
       " 'Lucknow, Bangalore/Bengaluru',\n",
       " '(WFH during Covid)',\n",
       " 'Bangalore/Bengaluru',\n",
       " 'Mumbai, Bangalore/Bengaluru',\n",
       " 'Bangalore/Bengaluru',\n",
       " 'Bangalore/Bengaluru',\n",
       " 'Mumbai, Bangalore/Bengaluru',\n",
       " 'Hyderabad/Secunderabad, Chennai, Bangalore/Bengaluru',\n",
       " 'Bangalore/Bengaluru',\n",
       " 'Bangalore/Bengaluru',\n",
       " 'Coimbatore, Bangalore/Bengaluru, Trivandrum/Thiruvananthapuram',\n",
       " 'Hyderabad/Secunderabad, Bangalore/Bengaluru',\n",
       " 'Bangalore/Bengaluru',\n",
       " 'Bangalore/Bengaluru(2nd Phase JP Nagar)',\n",
       " 'Pune, Chennai, Bangalore/Bengaluru']"
      ]
     },
     "execution_count": 19,
     "metadata": {},
     "output_type": "execute_result"
    }
   ],
   "source": [
    "#select job location and arrange them in list\n",
    "\n",
    "Job_Location = []\n",
    "\n",
    "for i in loc:\n",
    "    Job_Location.append(i.text)\n",
    "Job_Location"
   ]
  },
  {
   "cell_type": "code",
   "execution_count": 20,
   "id": "45d016d3",
   "metadata": {},
   "outputs": [
    {
     "data": {
      "text/plain": [
       "[<selenium.webdriver.remote.webelement.WebElement (session=\"48a79a3c003c9f510212458baf3dfc29\", element=\"f5ab546e-9b8b-4124-8962-cc2a40c3bbad\")>,\n",
       " <selenium.webdriver.remote.webelement.WebElement (session=\"48a79a3c003c9f510212458baf3dfc29\", element=\"4f36e98a-d30a-4826-925b-c5d31841bc42\")>,\n",
       " <selenium.webdriver.remote.webelement.WebElement (session=\"48a79a3c003c9f510212458baf3dfc29\", element=\"96cdde03-9c80-41d4-8991-d7ba34fc88db\")>,\n",
       " <selenium.webdriver.remote.webelement.WebElement (session=\"48a79a3c003c9f510212458baf3dfc29\", element=\"3f53754d-1dc7-4bd6-a6b0-86e4f28bc2e9\")>,\n",
       " <selenium.webdriver.remote.webelement.WebElement (session=\"48a79a3c003c9f510212458baf3dfc29\", element=\"2cb86e77-dd08-4dd9-9c5d-f04b3a338f16\")>,\n",
       " <selenium.webdriver.remote.webelement.WebElement (session=\"48a79a3c003c9f510212458baf3dfc29\", element=\"f241551c-306e-4dbb-9fe3-7d80f1f8f486\")>,\n",
       " <selenium.webdriver.remote.webelement.WebElement (session=\"48a79a3c003c9f510212458baf3dfc29\", element=\"b4ea8ee6-9420-47eb-a2d1-91314c4b0b4a\")>,\n",
       " <selenium.webdriver.remote.webelement.WebElement (session=\"48a79a3c003c9f510212458baf3dfc29\", element=\"c543f040-8ebb-4a49-95b7-518791dc18e9\")>,\n",
       " <selenium.webdriver.remote.webelement.WebElement (session=\"48a79a3c003c9f510212458baf3dfc29\", element=\"94fe13e8-e04b-4a66-9b6d-9b7f7abe1502\")>,\n",
       " <selenium.webdriver.remote.webelement.WebElement (session=\"48a79a3c003c9f510212458baf3dfc29\", element=\"e029211f-f258-4af5-a03d-166d27a75f3b\")>,\n",
       " <selenium.webdriver.remote.webelement.WebElement (session=\"48a79a3c003c9f510212458baf3dfc29\", element=\"673ac3e4-4694-4eb3-885e-50609063470d\")>,\n",
       " <selenium.webdriver.remote.webelement.WebElement (session=\"48a79a3c003c9f510212458baf3dfc29\", element=\"2d9dbea1-070e-43ee-8eaa-37a37157e0f5\")>,\n",
       " <selenium.webdriver.remote.webelement.WebElement (session=\"48a79a3c003c9f510212458baf3dfc29\", element=\"8219dfa8-6187-46b6-b80d-a7e22825c4f8\")>,\n",
       " <selenium.webdriver.remote.webelement.WebElement (session=\"48a79a3c003c9f510212458baf3dfc29\", element=\"1512bcf5-0683-4a41-8793-730b5ef8ecca\")>,\n",
       " <selenium.webdriver.remote.webelement.WebElement (session=\"48a79a3c003c9f510212458baf3dfc29\", element=\"849b9e0a-90ee-409a-9fae-5cbdc13b0303\")>,\n",
       " <selenium.webdriver.remote.webelement.WebElement (session=\"48a79a3c003c9f510212458baf3dfc29\", element=\"bf393e09-1abd-4306-aa04-97ec38ca8c0e\")>,\n",
       " <selenium.webdriver.remote.webelement.WebElement (session=\"48a79a3c003c9f510212458baf3dfc29\", element=\"c096244f-beac-4e76-a071-85598060fd68\")>,\n",
       " <selenium.webdriver.remote.webelement.WebElement (session=\"48a79a3c003c9f510212458baf3dfc29\", element=\"8bfb66c9-1075-47e6-aa30-3f9b0c2be5b5\")>,\n",
       " <selenium.webdriver.remote.webelement.WebElement (session=\"48a79a3c003c9f510212458baf3dfc29\", element=\"4213a39e-7aad-4047-86e3-3d2be1af6ce4\")>,\n",
       " <selenium.webdriver.remote.webelement.WebElement (session=\"48a79a3c003c9f510212458baf3dfc29\", element=\"c663ae83-c2d0-4434-8a64-c58ab98fc560\")>]"
      ]
     },
     "execution_count": 20,
     "metadata": {},
     "output_type": "execute_result"
    }
   ],
   "source": [
    "#find Company name \n",
    "company = driver.find_elements_by_xpath('//a[@class=\"subTitle ellipsis fleft\"]')\n",
    "company"
   ]
  },
  {
   "cell_type": "code",
   "execution_count": 21,
   "id": "095bae8f",
   "metadata": {},
   "outputs": [
    {
     "data": {
      "text/plain": [
       "['Inflexion Analytix Private Limited',\n",
       " 'Simplilearn',\n",
       " 'Simplilearn',\n",
       " 'Dell International Services India Private Limited',\n",
       " 'Gervitech Technologies',\n",
       " 'IBM India Pvt. Limited',\n",
       " 'CARNATION INFOTECH PRIVATE LIMITED',\n",
       " 'Flipkart Internet Private Limited',\n",
       " 'INTERTRUSTVITEOS CORPORATE AND FUND SERVICES PVT. LTD.',\n",
       " 'Flipkart Internet Private Limited',\n",
       " 'Uber',\n",
       " 'INTERTRUST GROUP',\n",
       " 'Infoservicesllc',\n",
       " 'Clarivate Analytics',\n",
       " 'Luxoft',\n",
       " 'Mind Circus Innovation',\n",
       " 'Edubridgeindia',\n",
       " 'Siemens Limited',\n",
       " 'Liventus, Inc.',\n",
       " 'Quantsys']"
      ]
     },
     "execution_count": 21,
     "metadata": {},
     "output_type": "execute_result"
    }
   ],
   "source": [
    "#select Company name and arrange them in list\n",
    "Company_Name = []\n",
    "\n",
    "for i in company:\n",
    "    Company_Name.append(i.text)\n",
    "Company_Name"
   ]
  },
  {
   "cell_type": "code",
   "execution_count": 22,
   "id": "4b355920",
   "metadata": {},
   "outputs": [
    {
     "data": {
      "text/plain": [
       "[<selenium.webdriver.remote.webelement.WebElement (session=\"48a79a3c003c9f510212458baf3dfc29\", element=\"e0a6a3dc-cd28-42e9-afee-a20ddfddd73e\")>,\n",
       " <selenium.webdriver.remote.webelement.WebElement (session=\"48a79a3c003c9f510212458baf3dfc29\", element=\"90983989-8134-4b8c-b7a3-6a65706a35a2\")>,\n",
       " <selenium.webdriver.remote.webelement.WebElement (session=\"48a79a3c003c9f510212458baf3dfc29\", element=\"5aabb8c7-3437-4be0-ae55-80f5dac677e0\")>,\n",
       " <selenium.webdriver.remote.webelement.WebElement (session=\"48a79a3c003c9f510212458baf3dfc29\", element=\"0a0f19bd-dad5-4d7a-946e-9f6a31ef1d21\")>,\n",
       " <selenium.webdriver.remote.webelement.WebElement (session=\"48a79a3c003c9f510212458baf3dfc29\", element=\"65a047b8-b95b-408b-ab4a-959007dfd23a\")>,\n",
       " <selenium.webdriver.remote.webelement.WebElement (session=\"48a79a3c003c9f510212458baf3dfc29\", element=\"8c70ff3d-e646-418b-b399-8e49913a4600\")>,\n",
       " <selenium.webdriver.remote.webelement.WebElement (session=\"48a79a3c003c9f510212458baf3dfc29\", element=\"d2915e0e-97a8-4a1d-b36a-e6469cd3ce3d\")>,\n",
       " <selenium.webdriver.remote.webelement.WebElement (session=\"48a79a3c003c9f510212458baf3dfc29\", element=\"257bc3be-1bf2-40b2-8b7a-4b00fb188688\")>,\n",
       " <selenium.webdriver.remote.webelement.WebElement (session=\"48a79a3c003c9f510212458baf3dfc29\", element=\"3830b7dd-82a4-417f-a136-72b0091043f1\")>,\n",
       " <selenium.webdriver.remote.webelement.WebElement (session=\"48a79a3c003c9f510212458baf3dfc29\", element=\"b857089a-aacb-4696-b040-f48fb3e24a7f\")>,\n",
       " <selenium.webdriver.remote.webelement.WebElement (session=\"48a79a3c003c9f510212458baf3dfc29\", element=\"d439bd28-1031-4883-abb9-c5a1f718555e\")>,\n",
       " <selenium.webdriver.remote.webelement.WebElement (session=\"48a79a3c003c9f510212458baf3dfc29\", element=\"3388ec9c-c4ad-4610-8f22-03216dd781e1\")>,\n",
       " <selenium.webdriver.remote.webelement.WebElement (session=\"48a79a3c003c9f510212458baf3dfc29\", element=\"905cec30-535f-49b0-b078-593e38390ce1\")>,\n",
       " <selenium.webdriver.remote.webelement.WebElement (session=\"48a79a3c003c9f510212458baf3dfc29\", element=\"ab41e400-6b14-4430-adf7-09a71e441f0f\")>,\n",
       " <selenium.webdriver.remote.webelement.WebElement (session=\"48a79a3c003c9f510212458baf3dfc29\", element=\"53da1b46-d4e8-425d-99b5-5778a32e5602\")>,\n",
       " <selenium.webdriver.remote.webelement.WebElement (session=\"48a79a3c003c9f510212458baf3dfc29\", element=\"322a1d49-3f7f-4831-a342-c149d62fdad0\")>,\n",
       " <selenium.webdriver.remote.webelement.WebElement (session=\"48a79a3c003c9f510212458baf3dfc29\", element=\"9dc5cf4d-c324-4ee1-8232-c8fb05946680\")>,\n",
       " <selenium.webdriver.remote.webelement.WebElement (session=\"48a79a3c003c9f510212458baf3dfc29\", element=\"bc769351-3da1-43da-9c4a-896b80b65488\")>,\n",
       " <selenium.webdriver.remote.webelement.WebElement (session=\"48a79a3c003c9f510212458baf3dfc29\", element=\"4e59446e-70f2-42d6-8bce-4c1a060de6a2\")>,\n",
       " <selenium.webdriver.remote.webelement.WebElement (session=\"48a79a3c003c9f510212458baf3dfc29\", element=\"0b0f47e5-8124-4f18-8372-49e10cbf9aaf\")>]"
      ]
     },
     "execution_count": 22,
     "metadata": {},
     "output_type": "execute_result"
    }
   ],
   "source": [
    "#find year of experience required\n",
    "\n",
    "experience = driver.find_elements_by_xpath('//li[@class=\"fleft grey-text br2 placeHolderLi experience\"]//span')\n",
    "experience"
   ]
  },
  {
   "cell_type": "code",
   "execution_count": 23,
   "id": "8e245962",
   "metadata": {},
   "outputs": [
    {
     "data": {
      "text/plain": [
       "['0-3 Yrs',\n",
       " '0-2 Yrs',\n",
       " '0-2 Yrs',\n",
       " '0-2 Yrs',\n",
       " '0-5 Yrs',\n",
       " '5-10 Yrs',\n",
       " '0-5 Yrs',\n",
       " '0-2 Yrs',\n",
       " '10-15 Yrs',\n",
       " '3-5 Yrs',\n",
       " '1-3 Yrs',\n",
       " '3-8 Yrs',\n",
       " '7-12 Yrs',\n",
       " '1-2 Yrs',\n",
       " '2-6 Yrs',\n",
       " '0-2 Yrs',\n",
       " '0-1 Yrs',\n",
       " '0-5 Yrs',\n",
       " '5-8 Yrs',\n",
       " '2-4 Yrs']"
      ]
     },
     "execution_count": 23,
     "metadata": {},
     "output_type": "execute_result"
    }
   ],
   "source": [
    "#select year of experience required and arrange in list\n",
    "\n",
    "Experience_Required = []\n",
    "for i in experience:\n",
    "    Experience_Required.append(i.text)\n",
    "Experience_Required"
   ]
  },
  {
   "cell_type": "code",
   "execution_count": 24,
   "id": "8c9c8df8",
   "metadata": {},
   "outputs": [
    {
     "data": {
      "text/html": [
       "<div>\n",
       "<style scoped>\n",
       "    .dataframe tbody tr th:only-of-type {\n",
       "        vertical-align: middle;\n",
       "    }\n",
       "\n",
       "    .dataframe tbody tr th {\n",
       "        vertical-align: top;\n",
       "    }\n",
       "\n",
       "    .dataframe thead th {\n",
       "        text-align: right;\n",
       "    }\n",
       "</style>\n",
       "<table border=\"1\" class=\"dataframe\">\n",
       "  <thead>\n",
       "    <tr style=\"text-align: right;\">\n",
       "      <th></th>\n",
       "      <th>Job_Post</th>\n",
       "      <th>Job_Location</th>\n",
       "      <th>Company_Name</th>\n",
       "      <th>Experience_Required</th>\n",
       "    </tr>\n",
       "  </thead>\n",
       "  <tbody>\n",
       "    <tr>\n",
       "      <th>0</th>\n",
       "      <td>Data Scientist / Data Analyst -Business Analyst</td>\n",
       "      <td>Hyderabad/Secunderabad, Chennai, Bangalore/Ben...</td>\n",
       "      <td>Inflexion Analytix Private Limited</td>\n",
       "      <td>0-3 Yrs</td>\n",
       "    </tr>\n",
       "    <tr>\n",
       "      <th>1</th>\n",
       "      <td>Junior Data Analyst</td>\n",
       "      <td>Bangalore/Bengaluru(Sector 2 HSR Layout)</td>\n",
       "      <td>Simplilearn</td>\n",
       "      <td>0-2 Yrs</td>\n",
       "    </tr>\n",
       "    <tr>\n",
       "      <th>2</th>\n",
       "      <td>Junior Data Analyst</td>\n",
       "      <td>(WFH during Covid)</td>\n",
       "      <td>Simplilearn</td>\n",
       "      <td>0-2 Yrs</td>\n",
       "    </tr>\n",
       "    <tr>\n",
       "      <th>3</th>\n",
       "      <td>Network Design &amp; Data Analyst</td>\n",
       "      <td>Bangalore/Bengaluru(Sector 2 HSR Layout)</td>\n",
       "      <td>Dell International Services India Private Limited</td>\n",
       "      <td>0-2 Yrs</td>\n",
       "    </tr>\n",
       "    <tr>\n",
       "      <th>4</th>\n",
       "      <td>Market Data Analyst</td>\n",
       "      <td>(WFH during Covid)</td>\n",
       "      <td>Gervitech Technologies</td>\n",
       "      <td>0-5 Yrs</td>\n",
       "    </tr>\n",
       "    <tr>\n",
       "      <th>5</th>\n",
       "      <td>Data analysts</td>\n",
       "      <td>Bangalore/Bengaluru</td>\n",
       "      <td>IBM India Pvt. Limited</td>\n",
       "      <td>5-10 Yrs</td>\n",
       "    </tr>\n",
       "    <tr>\n",
       "      <th>6</th>\n",
       "      <td>Data Analyst</td>\n",
       "      <td>Madurai, Kolkata, Hyderabad/Secunderabad, Ahme...</td>\n",
       "      <td>CARNATION INFOTECH PRIVATE LIMITED</td>\n",
       "      <td>0-5 Yrs</td>\n",
       "    </tr>\n",
       "    <tr>\n",
       "      <th>7</th>\n",
       "      <td>Consultant - Data Analyst</td>\n",
       "      <td>Bangalore/Bengaluru</td>\n",
       "      <td>Flipkart Internet Private Limited</td>\n",
       "      <td>0-2 Yrs</td>\n",
       "    </tr>\n",
       "    <tr>\n",
       "      <th>8</th>\n",
       "      <td>Assistant Vice President - MIS &amp; Reporting ( B...</td>\n",
       "      <td>Lucknow, Bangalore/Bengaluru</td>\n",
       "      <td>INTERTRUSTVITEOS CORPORATE AND FUND SERVICES P...</td>\n",
       "      <td>10-15 Yrs</td>\n",
       "    </tr>\n",
       "    <tr>\n",
       "      <th>9</th>\n",
       "      <td>Data Analyst</td>\n",
       "      <td>(WFH during Covid)</td>\n",
       "      <td>Flipkart Internet Private Limited</td>\n",
       "      <td>3-5 Yrs</td>\n",
       "    </tr>\n",
       "  </tbody>\n",
       "</table>\n",
       "</div>"
      ],
      "text/plain": [
       "                                            Job_Post  \\\n",
       "0    Data Scientist / Data Analyst -Business Analyst   \n",
       "1                                Junior Data Analyst   \n",
       "2                                Junior Data Analyst   \n",
       "3                      Network Design & Data Analyst   \n",
       "4                                Market Data Analyst   \n",
       "5                                      Data analysts   \n",
       "6                                       Data Analyst   \n",
       "7                          Consultant - Data Analyst   \n",
       "8  Assistant Vice President - MIS & Reporting ( B...   \n",
       "9                                       Data Analyst   \n",
       "\n",
       "                                        Job_Location  \\\n",
       "0  Hyderabad/Secunderabad, Chennai, Bangalore/Ben...   \n",
       "1           Bangalore/Bengaluru(Sector 2 HSR Layout)   \n",
       "2                                 (WFH during Covid)   \n",
       "3           Bangalore/Bengaluru(Sector 2 HSR Layout)   \n",
       "4                                 (WFH during Covid)   \n",
       "5                                Bangalore/Bengaluru   \n",
       "6  Madurai, Kolkata, Hyderabad/Secunderabad, Ahme...   \n",
       "7                                Bangalore/Bengaluru   \n",
       "8                       Lucknow, Bangalore/Bengaluru   \n",
       "9                                 (WFH during Covid)   \n",
       "\n",
       "                                        Company_Name Experience_Required  \n",
       "0                 Inflexion Analytix Private Limited             0-3 Yrs  \n",
       "1                                        Simplilearn             0-2 Yrs  \n",
       "2                                        Simplilearn             0-2 Yrs  \n",
       "3  Dell International Services India Private Limited             0-2 Yrs  \n",
       "4                             Gervitech Technologies             0-5 Yrs  \n",
       "5                             IBM India Pvt. Limited            5-10 Yrs  \n",
       "6                 CARNATION INFOTECH PRIVATE LIMITED             0-5 Yrs  \n",
       "7                  Flipkart Internet Private Limited             0-2 Yrs  \n",
       "8  INTERTRUSTVITEOS CORPORATE AND FUND SERVICES P...           10-15 Yrs  \n",
       "9                  Flipkart Internet Private Limited             3-5 Yrs  "
      ]
     },
     "execution_count": 24,
     "metadata": {},
     "output_type": "execute_result"
    }
   ],
   "source": [
    "#creating datframe to store first 10 job list\n",
    "\n",
    "Data_Analyst_Jobs = pd.DataFrame()\n",
    "\n",
    "Data_Analyst_Jobs['Job_Post'] = Job_Post[:10]\n",
    "Data_Analyst_Jobs['Job_Location'] = Job_Location[:10]\n",
    "Data_Analyst_Jobs['Company_Name'] = Company_Name[:10]\n",
    "Data_Analyst_Jobs['Experience_Required'] = Experience_Required[:10]\n",
    "\n",
    "Data_Analyst_Jobs"
   ]
  },
  {
   "cell_type": "markdown",
   "id": "524faf7b",
   "metadata": {},
   "source": [
    "__________________________________________________________________________"
   ]
  },
  {
   "cell_type": "markdown",
   "id": "43c6be07",
   "metadata": {},
   "source": [
    "#### Q2: Write a python program to scrape data for “Data Scientist” Job position in “Bangalore” location. You have to scrape the job-title, job-location, company_name, full job-description. You have to scrape first 10 jobs data.\n"
   ]
  },
  {
   "cell_type": "code",
   "execution_count": 407,
   "id": "26479251",
   "metadata": {},
   "outputs": [],
   "source": [
    "driver = webdriver.Chrome(r\"C:\\Users\\91977\\Downloads\\chromedriver_win32\\chromedriver.exe\")"
   ]
  },
  {
   "cell_type": "code",
   "execution_count": 408,
   "id": "2d901604",
   "metadata": {},
   "outputs": [],
   "source": [
    "url1 = 'https://www.naukri.com/'\n",
    "driver.get(url1)"
   ]
  },
  {
   "cell_type": "code",
   "execution_count": 409,
   "id": "2f7e85e7",
   "metadata": {},
   "outputs": [],
   "source": [
    "#Enter keywords in job and location and click search\n",
    "\n",
    "search_job1 = driver.find_element_by_id('qsb-keyword-sugg')\n",
    "search_job1.send_keys('Data Scientist')\n",
    "search_loc1 = driver.find_element_by_id('qsb-location-sugg')\n",
    "search_loc1.send_keys('Bangalore')\n",
    "search_btn1 = driver.find_element_by_xpath('//button[@class=\"btn\"]')\n",
    "search_btn1.click()\n",
    "time.sleep(5)"
   ]
  },
  {
   "cell_type": "code",
   "execution_count": 417,
   "id": "ee906a13",
   "metadata": {},
   "outputs": [
    {
     "data": {
      "text/plain": [
       "['Data Scientist',\n",
       " 'Senior Data Scientist',\n",
       " 'Lead Data Scientist',\n",
       " 'Data Scientist / Data Analyst -Business Analyst',\n",
       " 'Data Scientist: Advanced Analytics',\n",
       " 'Data Scientist',\n",
       " 'Senior Data Scientist',\n",
       " 'EXL - Senior Data Scientist, 5+ yrs, Mumbai / PUNE / BLR / Chennai',\n",
       " 'Data Scientist',\n",
       " 'Senior Data Scientist/ Tech Lead - SQL/ Python/ Big Data',\n",
       " 'Data Scientist',\n",
       " 'Data Scientist',\n",
       " 'Data Scientist',\n",
       " 'Data Scientist',\n",
       " 'Data Scientist 2',\n",
       " 'Data Scientist 2',\n",
       " 'Data Scientist',\n",
       " 'Hiring Data Scientist',\n",
       " 'DHS _ Hiring For Data Scientist - India',\n",
       " 'Data Scientist: Artificial Intelligence']"
      ]
     },
     "execution_count": 417,
     "metadata": {},
     "output_type": "execute_result"
    }
   ],
   "source": [
    "job_title1 = driver.find_elements_by_xpath('//a[@class=\"title fw500 ellipsis\"]')\n",
    "\n",
    "Job_Post1 = []\n",
    "for i in job_title1:\n",
    "    Job_Post1.append(i.text)\n",
    "Job_Post1 "
   ]
  },
  {
   "cell_type": "code",
   "execution_count": 411,
   "id": "862e65f0",
   "metadata": {},
   "outputs": [
    {
     "data": {
      "text/plain": [
       "['Bangalore/Bengaluru',\n",
       " 'Bangalore/Bengaluru',\n",
       " 'Hyderabad/Secunderabad, Chennai, Bangalore/Bengaluru',\n",
       " 'Bangalore/Bengaluru',\n",
       " 'Bangalore/Bengaluru',\n",
       " 'Hyderabad/Secunderabad, Gurgaon/Gurugram, Bangalore/Bengaluru',\n",
       " 'Pune, Chennai, Bangalore/Bengaluru, Delhi / NCR',\n",
       " 'Bangalore/Bengaluru',\n",
       " 'Pune, Chennai, Bangalore/Bengaluru',\n",
       " 'Bangalore/Bengaluru',\n",
       " 'Noida, Bangalore/Bengaluru',\n",
       " 'Bangalore/Bengaluru',\n",
       " 'Bangalore/Bengaluru, Mumbai (All Areas)',\n",
       " 'Bangalore/Bengaluru',\n",
       " 'Bangalore/Bengaluru',\n",
       " 'Bangalore/Bengaluru',\n",
       " 'Bangalore/Bengaluru(5th block Koramangala)',\n",
       " 'Bangalore/Bengaluru',\n",
       " 'Bangalore/Bengaluru',\n",
       " 'Bangalore/Bengaluru']"
      ]
     },
     "execution_count": 411,
     "metadata": {},
     "output_type": "execute_result"
    }
   ],
   "source": [
    "loc1 = driver.find_elements_by_xpath('//li[@class=\"fleft grey-text br2 placeHolderLi location\"]//span')\n",
    "\n",
    "Job_Location1 = []\n",
    "for i in loc1:\n",
    "    Job_Location1.append(i.text)\n",
    "Job_Location1"
   ]
  },
  {
   "cell_type": "code",
   "execution_count": 412,
   "id": "0ec980ce",
   "metadata": {},
   "outputs": [
    {
     "data": {
      "text/plain": [
       "['Flipkart Internet Private Limited',\n",
       " 'bd',\n",
       " 'Inflexion Analytix Private Limited',\n",
       " 'IBM India Pvt. Limited',\n",
       " 'IBM India Pvt. Limited',\n",
       " 'inVentiv International Pharma Services Pvt. Ltd.',\n",
       " 'EXL Service',\n",
       " 'Applied Materials',\n",
       " 'Exploro Solutions',\n",
       " 'Center for Study of Science, Technology and Policy',\n",
       " 'Oracle India Pvt. Ltd.',\n",
       " 'NatWest Markets',\n",
       " 'Vision Beyond Resources India Private Limited',\n",
       " 'Gojek Tech',\n",
       " 'GO-JEK India',\n",
       " 'Blue Ocean Catalyst Private Limited',\n",
       " 'IHX private limited',\n",
       " 'DeliverHealth Solutions',\n",
       " 'IBM India Pvt. Limited',\n",
       " 'IBM India Pvt. Limited']"
      ]
     },
     "execution_count": 412,
     "metadata": {},
     "output_type": "execute_result"
    }
   ],
   "source": [
    "company1 = driver.find_elements_by_xpath('//a[@class=\"subTitle ellipsis fleft\"]')\n",
    "\n",
    "Company_Name1 = []\n",
    "for i in company1:\n",
    "    Company_Name1.append(i.text)\n",
    "Company_Name1"
   ]
  },
  {
   "cell_type": "code",
   "execution_count": 413,
   "id": "de88d6ec",
   "metadata": {},
   "outputs": [
    {
     "data": {
      "text/plain": [
       "['https://www.naukri.com/job-listings-senior-data-scientist-flipkart-internet-private-limited-bangalore-bengaluru-5-to-10-years-090721908235?src=jobsearchDesk&sid=16259435212586229&xp=1&px=1',\n",
       " 'https://www.naukri.com/job-listings-lead-data-scientist-bd-bangalore-bengaluru-2-to-7-years-090721501722?src=jobsearchDesk&sid=16259435212586229&xp=2&px=1',\n",
       " 'https://www.naukri.com/job-listings-data-scientist-data-analyst-business-analyst-inflexion-analytix-private-limited-hyderabad-secunderabad-chennai-bangalore-bengaluru-0-to-3-years-020721003625?src=jobsearchDesk&sid=16259435212586229&xp=3&px=1',\n",
       " 'https://www.naukri.com/job-listings-data-scientist-advanced-analytics-ibm-india-pvt-limited-bangalore-bengaluru-5-to-10-years-090721906161?src=jobsearchDesk&sid=16259435212586229&xp=4&px=1',\n",
       " 'https://www.naukri.com/job-listings-data-scientist-ibm-india-pvt-limited-bangalore-bengaluru-3-to-6-years-080721906014?src=jobsearchDesk&sid=16259435212586229&xp=5&px=1',\n",
       " 'https://www.naukri.com/job-listings-senior-data-scientist-inventiv-international-pharma-services-pvt-ltd-hyderabad-secunderabad-gurgaon-gurugram-bangalore-bengaluru-3-to-6-years-090721000064?src=jobsearchDesk&sid=16259435212586229&xp=6&px=1',\n",
       " 'https://www.naukri.com/job-listings-exl-senior-data-scientist-5-yrs-mumbai-pune-blr-chennai-exl-service-pune-chennai-bangalore-bengaluru-delhi-ncr-5-to-10-years-080721005255?src=jobsearchDesk&sid=16259435212586229&xp=7&px=1',\n",
       " 'https://www.naukri.com/job-listings-data-scientist-applied-materials-india-private-limited-bangalore-bengaluru-5-to-10-years-090721902434?src=jobsearchDesk&sid=16259435212586229&xp=8&px=1',\n",
       " 'https://www.naukri.com/job-listings-senior-data-scientist-tech-lead-sql-python-big-data-exploro-solutions-pune-chennai-bangalore-bengaluru-5-to-10-years-080721908426?src=jobsearchDesk&sid=16259435212586229&xp=9&px=1',\n",
       " 'https://www.naukri.com/job-listings-data-scientist-center-for-study-of-science-technology-and-policy-bangalore-bengaluru-2-to-4-years-080721501346?src=jobsearchDesk&sid=16259435212586229&xp=10&px=1',\n",
       " 'https://www.naukri.com/job-listings-data-scientist-oracle-india-pvt-ltd-noida-bangalore-bengaluru-5-to-9-years-010621004567?src=jobsearchDesk&sid=16259435212586229&xp=11&px=1',\n",
       " 'https://www.naukri.com/job-listings-data-scientist-natwest-markets-bangalore-bengaluru-3-to-6-years-090721501813?src=jobsearchDesk&sid=16259435212586229&xp=12&px=1',\n",
       " 'https://www.naukri.com/job-listings-data-scientist-vision-beyond-resources-india-private-limited-bangalore-bengaluru-mumbai-all-areas-10-to-19-years-080721006482?src=jobsearchDesk&sid=16259435212586229&xp=13&px=1',\n",
       " 'https://www.naukri.com/job-listings-data-scientist-2-gojek-tech-bangalore-bengaluru-4-to-8-years-090721501896?src=jobsearchDesk&sid=16259435212586229&xp=14&px=1',\n",
       " 'https://www.naukri.com/job-listings-data-scientist-2-go-jek-india-bangalore-bengaluru-6-to-11-years-090721501884?src=jobsearchDesk&sid=16259435212586229&xp=15&px=1',\n",
       " 'https://www.naukri.com/job-listings-data-scientist-blue-ocean-catalyst-private-limited-bangalore-bengaluru-2-to-6-years-080721500490?src=jobsearchDesk&sid=16259435212586229&xp=16&px=1',\n",
       " 'https://www.naukri.com/job-listings-hiring-data-scientist-ihx-private-limited-bangalore-bengaluru-4-to-6-years-090721002695?src=jobsearchDesk&sid=16259435212586229&xp=17&px=1',\n",
       " 'https://www.naukri.com/job-listings-dhs-hiring-for-data-scientist-india-deliverhealth-solutions-bangalore-bengaluru-1-to-6-years-080721003439?src=jobsearchDesk&sid=16259435212586229&xp=18&px=1',\n",
       " 'https://www.naukri.com/job-listings-data-scientist-artificial-intelligence-ibm-india-pvt-limited-bangalore-bengaluru-4-to-8-years-080721906686?src=jobsearchDesk&sid=16259435212586229&xp=19&px=1',\n",
       " 'https://www.naukri.com/job-listings-data-scientist-ibm-india-pvt-limited-bangalore-bengaluru-6-to-10-years-090721905332?src=jobsearchDesk&sid=16259435212586229&xp=20&px=1']"
      ]
     },
     "execution_count": 413,
     "metadata": {},
     "output_type": "execute_result"
    }
   ],
   "source": [
    "#Extract each job opening main description page and saving them in list by using for loop\n",
    "\n",
    "job_openings_urls = []\n",
    "\n",
    "urls = driver.find_elements_by_xpath('//a[@class=\"title fw500 ellipsis\"]')\n",
    "\n",
    "for i in urls:\n",
    "    job_openings_urls.append(i.get_attribute('href'))\n",
    "job_openings_urls"
   ]
  },
  {
   "cell_type": "code",
   "execution_count": 414,
   "id": "7ce4d28b",
   "metadata": {},
   "outputs": [
    {
     "data": {
      "text/plain": [
       "['About the roleA Senior Data Scientist in Flipkart is required to drive research and development of various Machine Learning and Statistical modules, keeping business goals and product planning at the front. The responsible person should be able to communicate and collaborate with multiple stakeholders representing various teams. The crux of the work is defined by developing innovative problem statements as well as end to end implementation of state of the art ML and statistical algorithms. The candidate is additionally expected to work proactively with a team of junior Data Scientists and guide them in various research projects with a view to publish their findings.What you’ll doUnderstand Business and product needs and use advanced modeling techniques to provide solutions to those in a time bound fashion.Develop research and hypothesis on problem statements around on-going work to provide additional value to the organisation.Keep the team updated on current trends in the area of ML and Statistics, thereby ensuring that state of the art solutions are provided for the business problems.Regular collaboration with various stakeholders from business or product to better understand the vision and gain insights which is to be leveraged for providing better solutions.What you’ll need:B.Tech in CS or Statistics with demonstrable experience of over 8 years through publications/deployed solutions/projects.M.Tech or PhD in CS or Statistics with demonstrable experience of over 5 years through publications/deployed solutions/projects.A deep understanding of applied statistical analysis and predictive modeling is desired.The candidate must have a thorough grasp of the theory and application of broad ML algorithms namely, but not limited to regression, SVM, Tree, Random Forests, Boosting, Neural Network, clustering, forecasting, deep learning, text analysis etc. It is not expected that the candidate has actually worked on all these modules.Strong proficiency in Python or R is necessaryRoleData AnalystIndustry TypeInternetFunctional AreaAnalytics & Business IntelligenceEmployment TypeFull Time, PermanentRole CategoryAnalytics & BIEducationUG :B.A in Statistics, B.Sc in Statistics, B.Tech/B.E. in ComputersPG :MS/M.Sc(Science) in Statistics, M.A in Statistics, M.Tech in ComputersDoctorate :Ph.D/Doctorate in Statistics, ComputersKey SkillsData ScienceRSVMClusteringMachine LearningStatistical AnalysisStatisticsDeep LearningPython',\n",
       " 'Evaluating business requirements and developing compelling user stories in collaboration with business stakeholders across various functions and regionsCollecting, interpreting, preparing and modelling data to provide actionable insightsPrototyping advanced data analytics solutions for presentation to business partners and stakeholdersApplying predictive analytics and machine learning methods and techniques appropriately to address business requirementsProvide expertise to guide business stakeholders in identifying opportunities for the use of BD s data assets for the purpose of advanced data analyticsWork closely with data engineering and DataOps peers to productionalize advanced data analytics use casesQualificationsMaster s degree in STEM field or equivalent demonstrated work experienceExperience with Python, R, Hadoop, HIVE, SPARK, Jupyter and related advanced analytics / machine learning libraries (Scikitlearn, Tensorflow, Keras, )Minimum 2 years of relevant work experienceAbility to translate complex solutions to a non-technical audience (storytelling visualization)Expertise in machine learning, neural networks, clustering, classification, regression and other common advanced analytics methods and techniquesMature competency for critical thinking, problem solving, working with ambiguity, communications and collaborationPreferredExperience with technologies related to data preparation, processing optimization (e.g. Azure, HQL, SPARK SQL)Experience with data visualization tools (Power BI)Flexibility to accommodate meetings with international stakeholders in their respective time-zoneRoleAssociate/Senior Associate -(NonTechnical)Industry TypeMedical Services / HospitalFunctional AreaITES, BPO, KPO, LPO, Customer Service, OperationsEmployment TypeFull Time, PermanentRole CategoryVoiceEducationUG :Any GraduatePG :Post Graduation Not RequiredKey Skillsadvanced analyticsNeural networksMachine learningHealthcareGeneticsData analyticsdata visualizationPredictive analyticsSQLBusiness operations',\n",
       " \"Job Role: Data Scientist/Data Analyst /Business AnalystLocation: Chennai/Bangalore/HyderabadGreetings from CAIA - Center for Artificial Intelligence & Advanced Analytics43% of companies experienced a high deficit of skilled resources with Advanced Analytical skills and AI implementing capabilities in the year 2020. CAIA gives you a great opportunity to enter the world of future technologies and Innovations- Data Science, Analytics, AI, Data Visualization, and Cloud Computing.While 2020 was a year like no other, we are living in an interesting times where data is reshaping the world, and businesses are rapidly adopting technology to gain an edge over others. Hence, there's a substantial increase in demand for technology professionals who can implement systems in data science, machine learning, and AI in Tier 1 and Tier 2 organizations working closely with us.To help you build a sustainable career we would like you to utilize data, software and Analytical approaches in Data Science and AI to upskill and get recruited into an organization appreciating your skilling journey.Applications invited from all Freshers and experienced candidates (0-3 yrs) aspiring to make a career in Artificial Intelligence and Advanced Analytics and Data Science.If you wish to make a shift in your career or undergo a career transition, upskilling is essential since it allows you to learn more about the domain and acquire the required skills.Call to schedule interview Monday -Saturday from 10:00 am to 7 PmKoodesh B- +91 73395 11107Manigandan B - +91 93444 57360Email :careerguidance.koodes@centerforaia.commanigandan@centerforaia.comWhat is needed from you?Freshers who wish to start their career in Analytics and AI and professionals who wish toupskill or change their domain to analytics and emerging technologies are free to apply.Educational background in any one of the following- BE/B.Tech, ME/M Tech, MSc, BSc/MSc Math's and Statistics, B Com, BCA, BSc CS, BSC IT, MSC IT, MCASkills relating to Mathematics/Statistics.Natural passion towards numbers, business, coding, Analytics, and Artificial Intelligence, Machine Learning, visualizationGood verbal and written communication skillsAbility to understand domains in businesses across various sectorsSelection procedure includesAptitude Test & Communication Exam - Online / OfflineSQL/Python test - Online / OfflineCandidates who clear the above will have one-one discussions with our Career Guidance Manager for further evaluation and processing of your Resume.All the Shortlisted candidates will be eligible to continue the corporate training with CAIAWhat you can expect from us?You will get trained on the following modules for a period of 12-14 weeks:SQL & PLSQLData Wrangling using PythonData Visualization Using Power-BIStatistics for Machine LearningArtificial Intelligence, Data InterpretationSupervised & Unsupervised Learning,NLP & Deep LearningCloud Data LakeBusiness intelligence & Data VisualizationSimulation ProjectsExpected Outcome?At the end of the Training you are expected to be well versed with the following:Analysis of large and complex data sets from multiple sourcesDevelopment and evaluation of data analytics models, algorithms, and solutionsUnderstanding/implementation of ML algorithms, performance tuning, and reportingImplementation of algorithms to mine targeted data and the ability to convert data into a business storyTranslation of business requirements into technical requirements; Data extraction, preparation, and transformationIdentification, development, and implementation of statistical techniques and algorithms that address business challenges and adds value to the organizationRequirement Analysis and communication of findings in the form of a meaningful story with the stakeholdersFinding analytical solutions to abstract business issues.Apply objective analysis of facts before coming to a conclusionRoleData AnalystIndustry TypeIT Services & ConsultingFunctional AreaAnalytics & Business IntelligenceEmployment TypeFull Time, PermanentRole CategoryAnalytics & BIEducationUG :BCA in Any Specialization, B.Sc in Any Specialization, Any Graduate, B.B.A/ B.M.S in Any Specialization, B.Tech/B.E. in Any Specialization, B.Com in Any SpecializationKey SkillsBusiness IntelligencePower BiData WranglingArtificial IntelligenceBig DataITMachine LearningStatisticsAnalyticsDeep LearningBusiness AnalysisSQLData ScienceNLPCloud ComputingData AnalysisData VisualizationData WarehousingData AnalyticsETLPython\",\n",
       " 'Minimum Qualifications: (Specify if degree required & type, number of years of prior experience, certifications, etc.)Post Graduate or MBA (preferred) OR Graduates in Engineering / Mathematics / Operations Research / Science / StatisticsWith atleast 5+ years experience in analytics using SQL,SAS, R or Python, basic statistical concepts and analyzing data & interpreting results to the businessProficient in data wrangling using SQL and libraries of R,Python such as Dplyr/Pandas, Pyspark etcProficient in basic statistical concepts and analyzing data & interpreting results to the businessApplied Machine learning experience or experience in text mining, imaging mining, screen scraping and other big data techniques will be a plusResponsibilities and Essential Functions:Analytics Practice within SCIO:Ability to design data driven solutions and Frameworks (Descriptive and Predictive) from scratch & consult in a leadership capacity on potential Solutions/Storyboards and POCsDrives business metrics that add to the top-line and / or profitability for SCIOs revenue optimization businessPerform quantitative and qualitative analysis like (raw) data analysis, statistical modeling, data deep-dives etc. to acquire insights from dataDevelops Descriptive (reporting) through to Prescriptive AnalyticsTranslates insights into an analysis reports and communicate insights back to the stakeholdersApplies next-gen technology to all parts of the analytics lifecycle from data extraction, exploratory data analysis, predictive modeling, Data Mining and information extraction from unstructured data to visualization & story boardingSpecial Skills and Qualifications:This role would suit candidates with the following attributes:Flexibility to work with different countries (time-zones), groups, and business environmentShould be versatile and ready to learn and apply new technologies, techniques in data scienceAbility to break down a vague business problem into structured data analysis approachesAbility to work with incomplete information and take judgment-driven decisions based on experienceShould have good organizational and people skillsShould have good communication able to collaborate with onshore stakeholdersStrong aptitude to learn/understand health care data / databasesRoleAnalytics ManagerIndustry TypeAnalytics / KPO / ResearchFunctional AreaAnalytics & Business IntelligenceEmployment TypeFull Time, PermanentRole CategoryAnalytics & BIEducationUG :B.Tech/B.E. in Any SpecializationPG :MS/M.Sc(Science) in Any Specialization, M.Tech in Any Specialization, MBA/PGDM in Any SpecializationKey SkillsDats ScientistMachine LearningPythonData ScienceRNLPSQLSkills highlighted with ‘‘ are preferred keyskills',\n",
       " 'Responsibilities :- Lead a team of data scientists, machine learning engineers and big data specialists- Be the main point of contact for the customers- Lead data mining and collection procedures- Ensure data quality and integrity- Interpret and analyze data problems- Conceive, plan and prioritize data projects- Build analytic systems and predictive models- Test performance of data-driven products- Visualize data and create reports- Experiment with new models and techniques- Align data projects with organizational goalsRequirements (please read carefully) :- Very strong in statistics fundamentals. Not all data is Big Data. The candidate should be able to derive statistical insights from very few data points if required, using traditional statistical methods.- Education - no bar, but preferably from a Statistics academic background (eg MSc-Stats, MSc-Econometrics, etc), given the first point- Strong expertise in Python (any other statistical languages/tools like R, SAS, SPSS, etc are just optional, but Python is absolutely essential). If the person is very strong in Python, but has almost nil knowledge in the other statistical tools, he/she will still be considered a good candidate for this role.- Proven experience as a Data Scientist or similar role, for about 7-8 years- Solid understanding of machine learning and AI concepts, especially wrt choice of apt candidate algorithms for a use case, and model evaluation.- Good expertise in writing SQL queries (should not be dependent upon anyone else for pulling in data, joining them, data wrangling etc)- Knowledge of data management and visualization techniques --- more from a Data Science perspective.- Should be able to grasp business problems, ask the right questions to better understand the problem breadthwise /depthwise, design apt solutions, and explain that to the business stakeholders.- Again, the last point above is extremely important --- should be able to identify solutions that can be explained to stakeholders, and furthermore, be able to present them in simple, direct language.RoleData AnalystIndustry TypeIT Services & ConsultingFunctional AreaAnalytics & Business IntelligenceEmployment TypeFull Time, PermanentRole CategoryAnalytics & BIEducationUG :B.Sc in Statistics, B.A in StatisticsPG :MS/M.Sc(Science) in StatisticsDoctorate :Doctorate Not RequiredKey SkillsData ScienceSASData ScientistArtificial IntelligenceData ManagementBig DataData VisualizationMachine LearningPythonSQL',\n",
       " 'Data Scientist-AI and Digital Lab (2-4 Years)Role OverviewTechnical leadership of data science and AI/ML projects in the AI and Digital Lab.ResponsibilitiesAnalyse domain data (defence supply chain, healthcare etc.) and present findings.Design data analytics pipelines and apply best practices throughout the lifecycle.Identify and apply relevant advanced analytics and AI/ML techniques to areas such as demand prediction, inventory optimisation, etc.Explore and identify the right algorithms and models based on experience and latest research.Qualifications and ExperienceB.Tech or M.Tech degree2 to 4 years of project experience in developing statistical, advanced analytics, and AI/ML algorithms and models, and analysing large, complex data sets.Exposure to the full lifecycle of machine-learning model development activities, including data engineering, feature development, validation, implementation/assessment, transitioning to a production environment, and performance maintenance.Skill SetDeep knowledge of data science concepts and techniques.Ability to apply advanced analytics and AI/ML concepts and techniques for structured data of any size.Exposure across the data science lifecycle -- from data exploration, visualisation, generating different hypothesis, model training, evaluating and tuning, to deployment.Hands-on experience in Python data science libraries, SQL, and Git.Desire and ability to research, learn, and apply new concepts and techniques to create an impact.Excellent communication skills.Knowledge of handling unstructured data using Computer Vision and NLP; exposure to healthcare, supply chain, and logistics domains; and exposure to Cloud platforms such as AWS, GCP, Azure, etc. would be a plus.RoleClinical Research Associate/ScientistIndustry TypeAnalytics / KPO / ResearchFunctional AreaMedical, Healthcare, R&D, Pharmaceuticals, BiotechnologyEmployment TypeFull Time, PermanentRole CategoryR&DEducationUG :Any GraduatePG :Post Graduation Not RequiredKey SkillsSupply chainComputer visionadvanced analyticsdata scienceGCPMachine learningHealthcareSQLPythonLogistics',\n",
       " 'Join us as a Data ScientistWe ll look to you to evaluate and improve the business processes and products using scientific rigour and statistical methodsThis is an opportunity to participate in the data scientist community to identify and deliver opportunities to support the bank s strategic direction through better use of dataGain valuable exposure and hone your expertise as you advance your career in this challenging roleWhat youll doAs a Data Scientist, you ll be supporting and collaborating with multi-disciplinary teams of data engineers and analysts on a wide range of business problems including the prevention of financial crime, understanding customer interactions with the bank and the management of credit risk.You ll also be:Identifying and working with data sets from across the bank s data estate to solve difficult, non-routine analysis problemsApplying advanced analytical methods as needed, typically as part of a team to support wider decision makingDeveloping your knowledge of data structures and metrics, advocating for changes where needed for product developmentProviding analysis that includes data gathering and requirements specification in collaboration with business stakeholdersThe skills youll needTo succeed in this role, you ll need extensive experience with statistical software, database languages, big data technologies and cloud environments, along with experience articulating and translating business questions and using statistical techniques. You ll also hold a degree in a quantitative discipline or equivalent practical experience in a data analysis related field.Additionally, you ll demonstrate:The ability to demonstrate self-direction and motivation and willingness to learn new techniquesEffective written and verbal communication skillsExperience working as part of a multidisciplinary teamExpertise with statistical data analysis such as linear models, multivariate analysis, stochastic models and sampling methodsExperience in deploying machine learning models into a production environmentRoleResearch ScientistIndustry TypeBankingFunctional AreaMedical, Healthcare, R&D, Pharmaceuticals, BiotechnologyEmployment TypeFull Time, PermanentRole CategoryR&DEducationUG :Any GraduatePG :Post Graduation Not RequiredKey SkillsBusiness StrategyRStatistical SoftwareData ScientistData StructuresCredit RiskData AnalysisBig Data TechnologiesMachine LearningAnalytics',\n",
       " 'Roles and ResponsibilitiesIdentify valuable data sources and automate collection processesUndertake preprocessing of structured and unstructured dataAnalyze large amounts of information to discover trends and patternsBuild predictive models and machine-learning algorithmsCombine models through ensemble modelingDesired Candidate ProfileMust have 10+ years of experiencePH.D PreferredHands on Experience in AI ML PythonPerks and BenefitsRoleTechnical ArchitectIndustry TypeRecruitment / StaffingFunctional AreaIT Software - Application Programming, MaintenanceEmployment TypeFull Time, PermanentRole CategoryProgramming & DesignEducationUG :Any GraduateKey SkillsData SciencePredictive ModelingAlgorithmsSASArtificial IntelligenceEnsembledata scientistStatic DataMachine LearningDeep LearningPythonml',\n",
       " 'About the Role  They say no man is an island - a notion that holds particularly true for this role. As a Data Scientist, you ll be an instrumental cog in the Marketplace wheel of Gojek that directly impacts GoFoods revenue and user experience.   Your main objective will be to utilize various quantitative techniques such as Machine Learning, Optimization, Simulation, and Bayesian Techniques to drive asymmetric values for our business at Gojek. The folks over at the Data Science Platform team will be your companions during this ride, as they help to bring your models to production. Best yet, you ll have the opportunity to flex and hone in on your skills in ideation, research, and building prototypes!  What You Will DoDesign and develop various machine learning solutions for improving search relevanceOwn the Data Science model end-to-end from data collection to model building to monitoring the model in productionAlong with Product Managers, own the business outcomes/metrics which the data science model/algorithm drivesIdentify ways to better leverage our content and improve its quality and attributes, to improve the overall search experienceWhat You Will NeedAt least 5 years of experience in building machine learning models for product applicationsMust have the ability to understand business concerns and formulate them as technical problems that can be solved using data and math/stats/MLFamiliarity with essential data science libraries, including Pandas, Numpy, Scipy, Scikit-LearnExperience building scalable ML solutions to NLP problemsFamiliarity with ML infrastructure needs and best practicesExperience working with cross-functional teams including product, design, engineering, mobile to deliver product outcomes using data science  RoleProduct ManagerIndustry TypeInternetFunctional AreaIT Software - eCommerce, Internet TechnologiesEmployment TypeFull Time, PermanentRole CategoryProgramming & DesignEducationUG :Any GraduatePG :Post Graduation Not RequiredKey SkillsDesign engineeringSimulationdata scienceMachine learningFlexData collectionProduct designQuantitative techniquesMonitoringAndroid',\n",
       " '  About the Role  They say no man is an island - a notion that holds particularly true for this role. As a Data Scientist, you ll be an instrumental cog in the Marketplace wheel of Gojek that directly impacts GoFoods revenue and user experience. Your main objective will be to utilize various quantitative techniques such as Machine Learning, Optimization, Simulation, and Bayesian Techniques to drive asymmetric values for our business at Gojek.   The folks over at the Data Science Platform team will be your companions during this ride, as they help to bring your models to production. Best yet, you ll have the opportunity to flex and hone in on your skills in ideation, research, and building prototypes!  What You Will DoDesign and develop various machine learning solutions for improving search relevanceOwn the Data Science model end-to-end from data collection to model building to monitoring the model in productionAlong with Product Managers, own the business outcomes/metrics which the data science model/algorithm drivesIdentify ways to better leverage our content and improve its quality and attributes, to improve the overall search experienceWhat You Will NeedAt least 5 years of experience in building machine learning models for product applicationsMust have the ability to understand business concerns and formulate them as technical problems that can be solved using data and math/stats/MLFamiliarity with essential data science libraries, including Pandas, Numpy, Scipy, Scikit-LearnExperience building scalable ML solutions to NLP problemsFamiliarity with ML infrastructure needs and best practicesExperience working with cross-functional teams including product, design, engineering, mobile to deliver product outcomes using data scienceRoleProduct ManagerIndustry TypeIT Services & ConsultingFunctional AreaIT Software - eCommerce, Internet TechnologiesEmployment TypeFull Time, PermanentRole CategoryProgramming & DesignEducationUG :Any GraduatePG :Post Graduation Not RequiredKey SkillsDesign engineeringSimulationdata scienceMachine learningFlexData collectionProduct designQuantitative techniquesMonitoringAndroid',\n",
       " 'Responsible for scoping, developing, modeling, implementing, and delivering robust data analytics Actively and consistently support all efforts to simplify and enhance the Clinical Trial Predication use cases.Understand customer business use cases and be able to translate them to technical specifications and vision on how to implement a solutionApply knowledge in analytic and statistical algorithms to help customers explore methods to improve their businessContribute toward analytical research projects through all stages including concept formulation, determination of appropriate statistical methodology, data manipulation, research evaluation, and final research report Design, build and extract large and complex data sets while providing insights into uses of data and how data use interacts with data design Contribute toward the design and implementation of statistical data quality procedures for existing and new data sources Visualize and report data findings creatively in a variety of visual formats that appropriately provide insight to the stakeholders Establish links across existing data sources and find new, interesting data correlations Achieve defined project goals within customer deadlines; proactively communicate status and escalate issues as needed Willing to learn: Develop expertise in areas outside of core comfort zoneRoleClinical Research Associate/ScientistIndustry TypeManagement ConsultingFunctional AreaMedical, Healthcare, R&D, Pharmaceuticals, BiotechnologyEmployment TypeFull Time, PermanentRole CategoryR&DEducationUG :Any GraduatePG :Post Graduation Not RequiredKey Skillsdata manipulationFormulationAnalytical researchData qualityData analyticsAnalytics',\n",
       " 'A consistent record of using product data to drive product, sales, and/or marketing teams to achieve ambitious goals and influencing outcomes.The ability to clearly and effectively communicate the results of complex analysis to a broad audience Expertise in at least one programming language for data analysis (e.g.Python, R).Expertise in designing and testing experiments.Experience working with data technologies that allow effective storage and analysis of large amounts of data (e.g. Hadoop, Hive, Spark, Presto, S3, etc).An advanced degree in Computer Science (or allied field) from a top-tier institute (Preferred).4+ years of experience of which 2+ in data - pipelining, modeling, andlearningDemonstrated hands-on experience developing and building learning models for data at scale Solid understanding of data pipelining, extraction, and cleanup Strong familiarity with information extraction and applicability of various learning models (supervised and unsupervised) is required The candidate will work directly with the senior leadership team and will have an opportunity to do ground-breaking work in healthcare.Desired Skills - Machine learning, Python, sql, keras, NLP and understanding of different model architecturesThis is a very creative role. candidate is expected to have demonstrated competitive skills in ML/AI via winning Kaggle or Chalearn competitions. Candidate is expected to contribute to IP and patents with innovation in automatic model generation and various algorithms like NAS, meta-learning, transfer learning, and model monitoring.Working knowledge and hands-on implementation experience of CRISP-DM modelKnowledge of google automl , IBM autoAI, H20, Scikit learn, autokerasExperience in designing data interfacesTo work with customers to critical AI deployment problems and solve with innovation To own the complete project planRoleTechnical ArchitectIndustry TypeAccounting / AuditingFunctional AreaIT Software - Application Programming, MaintenanceEmployment TypeFull Time, PermanentRole CategoryProgramming & DesignEducationUG :B.Sc in ComputersKey SkillsRPrestoNLPArtificial IntelligenceInformation ExtractionKerasSparkMachine LearningPythonSQL',\n",
       " 'KEY RESPONSIBILITIES:Having meetings with team members regarding projects.Collecting and interpreting data.Automating and integrating processes.Researching solutions to overcome data analytics challenges.Developing complex mathematical models that integrate business rules and requirements.Demonstrate advanced insights and understanding of customers business/industry and challenge appropriately the way a customer views both their business and processes.Communicating and meeting with engineers, IT teams, and other interested parties.Sharing complex ideas verbally and visually in an understandable manner with stakeholders.Play an advisory role to the stakeholders on importance and needs of Business Intelligence and value addition to organizations requirement.Providing technical expertise in data storage structures, data mining, and data cleansing.PREFERRED EXPERIENCE, SKILLS AND QUALIFICATIONS:A MSc degree or equivalent in applied mathematics or statistics.2 5 years of industry experience, preferably in healthcare industry.Proficient in Advanced Excel and PowerBI. Implementation of BI projects on MS Azure cloud infrastructure would be an added advantage.Advanced coursework in machine learning and programming.Experience using data visualization tools, PowerBI preferred.Contact : Karthik S - 9741374446karthik.s1@Deliverhealth.comRoleData AnalystIndustry TypeIT Services & ConsultingFunctional AreaAnalytics & Business IntelligenceEmployment TypeFull Time, PermanentRole CategoryAnalytics & BIEducationUG :Any GraduateKey SkillsBusiness IntelligenceNLPPower BiBusiness RulesArtificial IntelligenceTime Series AnalysisNatural Language ProcessingData MiningData CleansingData AnalyticsMachine Learning']"
      ]
     },
     "execution_count": 414,
     "metadata": {},
     "output_type": "execute_result"
    }
   ],
   "source": [
    "Job_Description1 = []\n",
    "\n",
    "for i in job_openings_urls:\n",
    "    driver.get(i)\n",
    "    desc1 = driver.find_elements_by_xpath('//section[@class=\"job-desc\"]')\n",
    "    for j in desc1:\n",
    "        Job_Description1.append(j.text.replace('\\n','').replace('Job description',''))\n",
    "Job_Description1"
   ]
  },
  {
   "cell_type": "code",
   "execution_count": 415,
   "id": "ad6f50ab",
   "metadata": {},
   "outputs": [
    {
     "data": {
      "text/plain": [
       "'About the roleA Senior Data Scientist in Flipkart is required to drive research and development of various Machine Learning and Statistical modules, keeping business goals and product planning at the front. The responsible person should be able to communicate and collaborate with multiple stakeholders representing various teams. The crux of the work is defined by developing innovative problem statements as well as end to end implementation of state of the art ML and statistical algorithms. The candidate is additionally expected to work proactively with a team of junior Data Scientists and guide them in various research projects with a view to publish their findings.What you’ll doUnderstand Business and product needs and use advanced modeling techniques to provide solutions to those in a time bound fashion.Develop research and hypothesis on problem statements around on-going work to provide additional value to the organisation.Keep the team updated on current trends in the area of ML and Statistics, thereby ensuring that state of the art solutions are provided for the business problems.Regular collaboration with various stakeholders from business or product to better understand the vision and gain insights which is to be leveraged for providing better solutions.What you’ll need:B.Tech in CS or Statistics with demonstrable experience of over 8 years through publications/deployed solutions/projects.M.Tech or PhD in CS or Statistics with demonstrable experience of over 5 years through publications/deployed solutions/projects.A deep understanding of applied statistical analysis and predictive modeling is desired.The candidate must have a thorough grasp of the theory and application of broad ML algorithms namely, but not limited to regression, SVM, Tree, Random Forests, Boosting, Neural Network, clustering, forecasting, deep learning, text analysis etc. It is not expected that the candidate has actually worked on all these modules.Strong proficiency in Python or R is necessaryRoleData AnalystIndustry TypeInternetFunctional AreaAnalytics & Business IntelligenceEmployment TypeFull Time, PermanentRole CategoryAnalytics & BIEducationUG :B.A in Statistics, B.Sc in Statistics, B.Tech/B.E. in ComputersPG :MS/M.Sc(Science) in Statistics, M.A in Statistics, M.Tech in ComputersDoctorate :Ph.D/Doctorate in Statistics, ComputersKey SkillsData ScienceRSVMClusteringMachine LearningStatistical AnalysisStatisticsDeep LearningPython'"
      ]
     },
     "execution_count": 415,
     "metadata": {},
     "output_type": "execute_result"
    }
   ],
   "source": [
    "Job_Description1[0]"
   ]
  },
  {
   "cell_type": "code",
   "execution_count": 418,
   "id": "d4613ec4",
   "metadata": {},
   "outputs": [
    {
     "data": {
      "text/html": [
       "<div>\n",
       "<style scoped>\n",
       "    .dataframe tbody tr th:only-of-type {\n",
       "        vertical-align: middle;\n",
       "    }\n",
       "\n",
       "    .dataframe tbody tr th {\n",
       "        vertical-align: top;\n",
       "    }\n",
       "\n",
       "    .dataframe thead th {\n",
       "        text-align: right;\n",
       "    }\n",
       "</style>\n",
       "<table border=\"1\" class=\"dataframe\">\n",
       "  <thead>\n",
       "    <tr style=\"text-align: right;\">\n",
       "      <th></th>\n",
       "      <th>Job_Post</th>\n",
       "      <th>Job_Location</th>\n",
       "      <th>Company_Name</th>\n",
       "      <th>Job_Description</th>\n",
       "    </tr>\n",
       "  </thead>\n",
       "  <tbody>\n",
       "    <tr>\n",
       "      <th>0</th>\n",
       "      <td>Data Scientist</td>\n",
       "      <td>Bangalore/Bengaluru</td>\n",
       "      <td>Flipkart Internet Private Limited</td>\n",
       "      <td>About the roleA Senior Data Scientist in Flipk...</td>\n",
       "    </tr>\n",
       "    <tr>\n",
       "      <th>1</th>\n",
       "      <td>Senior Data Scientist</td>\n",
       "      <td>Bangalore/Bengaluru</td>\n",
       "      <td>bd</td>\n",
       "      <td>Evaluating business requirements and developin...</td>\n",
       "    </tr>\n",
       "    <tr>\n",
       "      <th>2</th>\n",
       "      <td>Lead Data Scientist</td>\n",
       "      <td>Hyderabad/Secunderabad, Chennai, Bangalore/Ben...</td>\n",
       "      <td>Inflexion Analytix Private Limited</td>\n",
       "      <td>Job Role: Data Scientist/Data Analyst /Busines...</td>\n",
       "    </tr>\n",
       "    <tr>\n",
       "      <th>3</th>\n",
       "      <td>Data Scientist / Data Analyst -Business Analyst</td>\n",
       "      <td>Bangalore/Bengaluru</td>\n",
       "      <td>IBM India Pvt. Limited</td>\n",
       "      <td>Minimum Qualifications: (Specify if degree req...</td>\n",
       "    </tr>\n",
       "    <tr>\n",
       "      <th>4</th>\n",
       "      <td>Data Scientist: Advanced Analytics</td>\n",
       "      <td>Bangalore/Bengaluru</td>\n",
       "      <td>IBM India Pvt. Limited</td>\n",
       "      <td>Responsibilities :- Lead a team of data scient...</td>\n",
       "    </tr>\n",
       "    <tr>\n",
       "      <th>5</th>\n",
       "      <td>Data Scientist</td>\n",
       "      <td>Hyderabad/Secunderabad, Gurgaon/Gurugram, Bang...</td>\n",
       "      <td>inVentiv International Pharma Services Pvt. Ltd.</td>\n",
       "      <td>Data Scientist-AI and Digital Lab (2-4 Years)R...</td>\n",
       "    </tr>\n",
       "    <tr>\n",
       "      <th>6</th>\n",
       "      <td>Senior Data Scientist</td>\n",
       "      <td>Pune, Chennai, Bangalore/Bengaluru, Delhi / NCR</td>\n",
       "      <td>EXL Service</td>\n",
       "      <td>Join us as a Data ScientistWe ll look to you t...</td>\n",
       "    </tr>\n",
       "    <tr>\n",
       "      <th>7</th>\n",
       "      <td>EXL - Senior Data Scientist, 5+ yrs, Mumbai / ...</td>\n",
       "      <td>Bangalore/Bengaluru</td>\n",
       "      <td>Applied Materials</td>\n",
       "      <td>Roles and ResponsibilitiesIdentify valuable da...</td>\n",
       "    </tr>\n",
       "    <tr>\n",
       "      <th>8</th>\n",
       "      <td>Data Scientist</td>\n",
       "      <td>Pune, Chennai, Bangalore/Bengaluru</td>\n",
       "      <td>Exploro Solutions</td>\n",
       "      <td>About the Role  They say no man is an island -...</td>\n",
       "    </tr>\n",
       "    <tr>\n",
       "      <th>9</th>\n",
       "      <td>Senior Data Scientist/ Tech Lead - SQL/ Python...</td>\n",
       "      <td>Bangalore/Bengaluru</td>\n",
       "      <td>Center for Study of Science, Technology and Po...</td>\n",
       "      <td>About the Role  They say no man is an island...</td>\n",
       "    </tr>\n",
       "  </tbody>\n",
       "</table>\n",
       "</div>"
      ],
      "text/plain": [
       "                                            Job_Post  \\\n",
       "0                                     Data Scientist   \n",
       "1                              Senior Data Scientist   \n",
       "2                                Lead Data Scientist   \n",
       "3    Data Scientist / Data Analyst -Business Analyst   \n",
       "4                 Data Scientist: Advanced Analytics   \n",
       "5                                     Data Scientist   \n",
       "6                              Senior Data Scientist   \n",
       "7  EXL - Senior Data Scientist, 5+ yrs, Mumbai / ...   \n",
       "8                                     Data Scientist   \n",
       "9  Senior Data Scientist/ Tech Lead - SQL/ Python...   \n",
       "\n",
       "                                        Job_Location  \\\n",
       "0                                Bangalore/Bengaluru   \n",
       "1                                Bangalore/Bengaluru   \n",
       "2  Hyderabad/Secunderabad, Chennai, Bangalore/Ben...   \n",
       "3                                Bangalore/Bengaluru   \n",
       "4                                Bangalore/Bengaluru   \n",
       "5  Hyderabad/Secunderabad, Gurgaon/Gurugram, Bang...   \n",
       "6    Pune, Chennai, Bangalore/Bengaluru, Delhi / NCR   \n",
       "7                                Bangalore/Bengaluru   \n",
       "8                 Pune, Chennai, Bangalore/Bengaluru   \n",
       "9                                Bangalore/Bengaluru   \n",
       "\n",
       "                                        Company_Name  \\\n",
       "0                  Flipkart Internet Private Limited   \n",
       "1                                                 bd   \n",
       "2                 Inflexion Analytix Private Limited   \n",
       "3                             IBM India Pvt. Limited   \n",
       "4                             IBM India Pvt. Limited   \n",
       "5   inVentiv International Pharma Services Pvt. Ltd.   \n",
       "6                                        EXL Service   \n",
       "7                                  Applied Materials   \n",
       "8                                  Exploro Solutions   \n",
       "9  Center for Study of Science, Technology and Po...   \n",
       "\n",
       "                                     Job_Description  \n",
       "0  About the roleA Senior Data Scientist in Flipk...  \n",
       "1  Evaluating business requirements and developin...  \n",
       "2  Job Role: Data Scientist/Data Analyst /Busines...  \n",
       "3  Minimum Qualifications: (Specify if degree req...  \n",
       "4  Responsibilities :- Lead a team of data scient...  \n",
       "5  Data Scientist-AI and Digital Lab (2-4 Years)R...  \n",
       "6  Join us as a Data ScientistWe ll look to you t...  \n",
       "7  Roles and ResponsibilitiesIdentify valuable da...  \n",
       "8  About the Role  They say no man is an island -...  \n",
       "9    About the Role  They say no man is an island...  "
      ]
     },
     "execution_count": 418,
     "metadata": {},
     "output_type": "execute_result"
    }
   ],
   "source": [
    "Data_Scientist_Job_Results = pd.DataFrame()\n",
    "\n",
    "Data_Scientist_Job_Results['Job_Post'] = Job_Post1[:10]\n",
    "Data_Scientist_Job_Results['Job_Location'] = Job_Location1[:10]\n",
    "Data_Scientist_Job_Results['Company_Name'] = Company_Name1[:10]\n",
    "Data_Scientist_Job_Results['Job_Description'] = Job_Description1[:10]\n",
    "\n",
    "Data_Scientist_Job_Results"
   ]
  },
  {
   "cell_type": "markdown",
   "id": "25297f69",
   "metadata": {},
   "source": [
    "________________________________________________________________"
   ]
  },
  {
   "cell_type": "markdown",
   "id": "1883ac6e",
   "metadata": {},
   "source": [
    "### Q3.scrape data using the filters available on the webpage"
   ]
  },
  {
   "cell_type": "code",
   "execution_count": 419,
   "id": "0c140f35",
   "metadata": {},
   "outputs": [],
   "source": [
    "driver = webdriver.Chrome(r\"C:\\Users\\91977\\Downloads\\chromedriver_win32\\chromedriver.exe\")"
   ]
  },
  {
   "cell_type": "code",
   "execution_count": 420,
   "id": "a362a345",
   "metadata": {},
   "outputs": [],
   "source": [
    "url2 = 'https://www.naukri.com/'\n",
    "driver.get(url2)"
   ]
  },
  {
   "cell_type": "code",
   "execution_count": 421,
   "id": "1137ec83",
   "metadata": {},
   "outputs": [],
   "source": [
    "search_job2 = driver.find_element_by_xpath('//input[@class=\"sugInp\"]')\n",
    "search_job2.send_keys('Data Scientist')\n",
    "search_btn2 = driver.find_element_by_xpath('//button[@class=\"btn\"]')\n",
    "search_btn2.click()"
   ]
  },
  {
   "cell_type": "code",
   "execution_count": 422,
   "id": "f9cbf3a2",
   "metadata": {},
   "outputs": [],
   "source": [
    "#To click on checkbox to select Delhi/NCR in location filter\n",
    "time.sleep(3)\n",
    "loc_filter = driver.find_element_by_xpath('//label[@for=\"chk-Delhi / NCR-cityTypeGid-\"]//span')\n",
    "loc_filter.click()"
   ]
  },
  {
   "cell_type": "code",
   "execution_count": 427,
   "id": "efc5d589",
   "metadata": {},
   "outputs": [],
   "source": [
    "time.sleep(3)\n",
    "#To click on checkbox to select 3-6 lakhs in salary filter\n",
    "salary_filter = driver.find_element_by_xpath('/html/body/div[1]/div[3]/div[2]/section[1]/div[2]/div[4]/div[2]/div[2]/label/p/span[1]')\n",
    "salary_filter.click()"
   ]
  },
  {
   "cell_type": "code",
   "execution_count": 428,
   "id": "b0d6e938",
   "metadata": {},
   "outputs": [
    {
     "data": {
      "text/plain": [
       "['Data Scientist/Data Analyst /Business Analyst',\n",
       " 'Senior Data Scientist',\n",
       " 'Team Leader Operations/Data Scientist',\n",
       " 'Only Fresher / Data Scientist / Data Analyst / Analytics - MNC Jobs',\n",
       " 'Data Scientist (Early Joiner)',\n",
       " 'Advanced Analytics -Data Scientist',\n",
       " 'Data Scientist - Machine Learning/ NLP',\n",
       " 'Data Scientist',\n",
       " 'Data Scientist || Python || C2H',\n",
       " 'Data Scientist || Python || C2H']"
      ]
     },
     "execution_count": 428,
     "metadata": {},
     "output_type": "execute_result"
    }
   ],
   "source": [
    "job_title2 = driver.find_elements_by_xpath('//a[@class=\"title fw500 ellipsis\"]')\n",
    "\n",
    "Job_Post2 = []\n",
    "\n",
    "for i in job_title2:\n",
    "    Job_Post2.append(i.text)\n",
    "Job_Post2 = Job_Post2[0:10]\n",
    "Job_Post2 "
   ]
  },
  {
   "cell_type": "code",
   "execution_count": 429,
   "id": "474d93b1",
   "metadata": {},
   "outputs": [
    {
     "data": {
      "text/plain": [
       "['Pune, Delhi / NCR, Mumbai (All Areas)',\n",
       " 'Hyderabad/Secunderabad, Gurgaon/Gurugram, Bangalore/Bengaluru',\n",
       " 'Gurgaon/Gurugram, Delhi / NCR',\n",
       " 'Noida, Greater Noida, Delhi / NCR',\n",
       " 'Noida(Sector-59 Noida)',\n",
       " 'New Delhi, Hyderabad/Secunderabad',\n",
       " 'Gurgaon/Gurugram',\n",
       " 'Hyderabad/Secunderabad, Gurgaon/Gurugram, Bangalore/Bengaluru',\n",
       " 'Noida, Kolkata, Gurgaon/Gurugram, Bangalore/Bengaluru',\n",
       " 'Noida, Kolkata, Gurgaon/Gurugram, Bangalore/Bengaluru']"
      ]
     },
     "execution_count": 429,
     "metadata": {},
     "output_type": "execute_result"
    }
   ],
   "source": [
    "loc2 = driver.find_elements_by_xpath('//li[@class=\"fleft grey-text br2 placeHolderLi location\"]//span')\n",
    "\n",
    "Job_Location2 = []\n",
    "\n",
    "for i in loc2:\n",
    "    Job_Location2.append(i.text)\n",
    "Job_Location2 = Job_Location2[:10]\n",
    "Job_Location2"
   ]
  },
  {
   "cell_type": "code",
   "execution_count": 430,
   "id": "00510aa6",
   "metadata": {},
   "outputs": [
    {
     "data": {
      "text/plain": [
       "['Inflexion Analytix Private Limited',\n",
       " 'inVentiv International Pharma Services Pvt. Ltd.',\n",
       " 'Optimint Solutions Pvt. Ltd.',\n",
       " 'GABA Consultancy services',\n",
       " 'R Systems International Ltd.',\n",
       " 'ERM Placement Services (P) Ltd.',\n",
       " 'TalPro',\n",
       " 'recruitment advisory line',\n",
       " 'Growel Softech Pvt. Ltd.',\n",
       " 'Growel Softech Pvt. Ltd.']"
      ]
     },
     "execution_count": 430,
     "metadata": {},
     "output_type": "execute_result"
    }
   ],
   "source": [
    "company2 = driver.find_elements_by_xpath('//a[@class=\"subTitle ellipsis fleft\"]')\n",
    "\n",
    "Company_Name2 = []\n",
    "for i in company2:\n",
    "    Company_Name2.append(i.text)\n",
    "Company_Name2 = Company_Name2[:10]\n",
    "Company_Name2"
   ]
  },
  {
   "cell_type": "code",
   "execution_count": 431,
   "id": "2e756ac8",
   "metadata": {},
   "outputs": [
    {
     "data": {
      "text/plain": [
       "['0-3 Yrs',\n",
       " '3-6 Yrs',\n",
       " '2-5 Yrs',\n",
       " '0-0 Yrs',\n",
       " '4-8 Yrs',\n",
       " '3-7 Yrs',\n",
       " '2-6 Yrs',\n",
       " '3-6 Yrs',\n",
       " '4-6 Yrs',\n",
       " '4-6 Yrs']"
      ]
     },
     "execution_count": 431,
     "metadata": {},
     "output_type": "execute_result"
    }
   ],
   "source": [
    "experience2 = driver.find_elements_by_xpath('//li[@class=\"fleft grey-text br2 placeHolderLi experience\"]//span')\n",
    "Experience_Required2 = []\n",
    "for i in experience2:\n",
    "    Experience_Required2.append(i.text)\n",
    "Experience_Required2 = Experience_Required2[:10]\n",
    "Experience_Required2"
   ]
  },
  {
   "cell_type": "code",
   "execution_count": 432,
   "id": "13c153d5",
   "metadata": {},
   "outputs": [
    {
     "data": {
      "text/html": [
       "<div>\n",
       "<style scoped>\n",
       "    .dataframe tbody tr th:only-of-type {\n",
       "        vertical-align: middle;\n",
       "    }\n",
       "\n",
       "    .dataframe tbody tr th {\n",
       "        vertical-align: top;\n",
       "    }\n",
       "\n",
       "    .dataframe thead th {\n",
       "        text-align: right;\n",
       "    }\n",
       "</style>\n",
       "<table border=\"1\" class=\"dataframe\">\n",
       "  <thead>\n",
       "    <tr style=\"text-align: right;\">\n",
       "      <th></th>\n",
       "      <th>Job_Post</th>\n",
       "      <th>Job_Location</th>\n",
       "      <th>Company_Name</th>\n",
       "      <th>Required_Experience</th>\n",
       "    </tr>\n",
       "  </thead>\n",
       "  <tbody>\n",
       "    <tr>\n",
       "      <th>0</th>\n",
       "      <td>Data Scientist/Data Analyst /Business Analyst</td>\n",
       "      <td>Pune, Delhi / NCR, Mumbai (All Areas)</td>\n",
       "      <td>Inflexion Analytix Private Limited</td>\n",
       "      <td>0-3 Yrs</td>\n",
       "    </tr>\n",
       "    <tr>\n",
       "      <th>1</th>\n",
       "      <td>Senior Data Scientist</td>\n",
       "      <td>Hyderabad/Secunderabad, Gurgaon/Gurugram, Bang...</td>\n",
       "      <td>inVentiv International Pharma Services Pvt. Ltd.</td>\n",
       "      <td>3-6 Yrs</td>\n",
       "    </tr>\n",
       "    <tr>\n",
       "      <th>2</th>\n",
       "      <td>Team Leader Operations/Data Scientist</td>\n",
       "      <td>Gurgaon/Gurugram, Delhi / NCR</td>\n",
       "      <td>Optimint Solutions Pvt. Ltd.</td>\n",
       "      <td>2-5 Yrs</td>\n",
       "    </tr>\n",
       "    <tr>\n",
       "      <th>3</th>\n",
       "      <td>Only Fresher / Data Scientist / Data Analyst /...</td>\n",
       "      <td>Noida, Greater Noida, Delhi / NCR</td>\n",
       "      <td>GABA Consultancy services</td>\n",
       "      <td>0-0 Yrs</td>\n",
       "    </tr>\n",
       "    <tr>\n",
       "      <th>4</th>\n",
       "      <td>Data Scientist (Early Joiner)</td>\n",
       "      <td>Noida(Sector-59 Noida)</td>\n",
       "      <td>R Systems International Ltd.</td>\n",
       "      <td>4-8 Yrs</td>\n",
       "    </tr>\n",
       "    <tr>\n",
       "      <th>5</th>\n",
       "      <td>Advanced Analytics -Data Scientist</td>\n",
       "      <td>New Delhi, Hyderabad/Secunderabad</td>\n",
       "      <td>ERM Placement Services (P) Ltd.</td>\n",
       "      <td>3-7 Yrs</td>\n",
       "    </tr>\n",
       "    <tr>\n",
       "      <th>6</th>\n",
       "      <td>Data Scientist - Machine Learning/ NLP</td>\n",
       "      <td>Gurgaon/Gurugram</td>\n",
       "      <td>TalPro</td>\n",
       "      <td>2-6 Yrs</td>\n",
       "    </tr>\n",
       "    <tr>\n",
       "      <th>7</th>\n",
       "      <td>Data Scientist</td>\n",
       "      <td>Hyderabad/Secunderabad, Gurgaon/Gurugram, Bang...</td>\n",
       "      <td>recruitment advisory line</td>\n",
       "      <td>3-6 Yrs</td>\n",
       "    </tr>\n",
       "    <tr>\n",
       "      <th>8</th>\n",
       "      <td>Data Scientist || Python || C2H</td>\n",
       "      <td>Noida, Kolkata, Gurgaon/Gurugram, Bangalore/Be...</td>\n",
       "      <td>Growel Softech Pvt. Ltd.</td>\n",
       "      <td>4-6 Yrs</td>\n",
       "    </tr>\n",
       "    <tr>\n",
       "      <th>9</th>\n",
       "      <td>Data Scientist || Python || C2H</td>\n",
       "      <td>Noida, Kolkata, Gurgaon/Gurugram, Bangalore/Be...</td>\n",
       "      <td>Growel Softech Pvt. Ltd.</td>\n",
       "      <td>4-6 Yrs</td>\n",
       "    </tr>\n",
       "  </tbody>\n",
       "</table>\n",
       "</div>"
      ],
      "text/plain": [
       "                                            Job_Post  \\\n",
       "0      Data Scientist/Data Analyst /Business Analyst   \n",
       "1                              Senior Data Scientist   \n",
       "2              Team Leader Operations/Data Scientist   \n",
       "3  Only Fresher / Data Scientist / Data Analyst /...   \n",
       "4                      Data Scientist (Early Joiner)   \n",
       "5                 Advanced Analytics -Data Scientist   \n",
       "6             Data Scientist - Machine Learning/ NLP   \n",
       "7                                     Data Scientist   \n",
       "8                    Data Scientist || Python || C2H   \n",
       "9                    Data Scientist || Python || C2H   \n",
       "\n",
       "                                        Job_Location  \\\n",
       "0              Pune, Delhi / NCR, Mumbai (All Areas)   \n",
       "1  Hyderabad/Secunderabad, Gurgaon/Gurugram, Bang...   \n",
       "2                      Gurgaon/Gurugram, Delhi / NCR   \n",
       "3                  Noida, Greater Noida, Delhi / NCR   \n",
       "4                             Noida(Sector-59 Noida)   \n",
       "5                  New Delhi, Hyderabad/Secunderabad   \n",
       "6                                   Gurgaon/Gurugram   \n",
       "7  Hyderabad/Secunderabad, Gurgaon/Gurugram, Bang...   \n",
       "8  Noida, Kolkata, Gurgaon/Gurugram, Bangalore/Be...   \n",
       "9  Noida, Kolkata, Gurgaon/Gurugram, Bangalore/Be...   \n",
       "\n",
       "                                       Company_Name Required_Experience  \n",
       "0                Inflexion Analytix Private Limited             0-3 Yrs  \n",
       "1  inVentiv International Pharma Services Pvt. Ltd.             3-6 Yrs  \n",
       "2                      Optimint Solutions Pvt. Ltd.             2-5 Yrs  \n",
       "3                         GABA Consultancy services             0-0 Yrs  \n",
       "4                      R Systems International Ltd.             4-8 Yrs  \n",
       "5                   ERM Placement Services (P) Ltd.             3-7 Yrs  \n",
       "6                                            TalPro             2-6 Yrs  \n",
       "7                         recruitment advisory line             3-6 Yrs  \n",
       "8                          Growel Softech Pvt. Ltd.             4-6 Yrs  \n",
       "9                          Growel Softech Pvt. Ltd.             4-6 Yrs  "
      ]
     },
     "execution_count": 432,
     "metadata": {},
     "output_type": "execute_result"
    }
   ],
   "source": [
    "Data_Scientist_Job_Results2 = pd.DataFrame()\n",
    "\n",
    "Data_Scientist_Job_Results2['Job_Post'] = Job_Post2\n",
    "Data_Scientist_Job_Results2['Job_Location'] = Job_Location2\n",
    "Data_Scientist_Job_Results2['Company_Name'] = Company_Name2\n",
    "Data_Scientist_Job_Results2['Required_Experience'] = Experience_Required2\n",
    "\n",
    "Data_Scientist_Job_Results2"
   ]
  },
  {
   "cell_type": "markdown",
   "id": "dc6d557f",
   "metadata": {},
   "source": [
    "_____________________________________________________________________________________"
   ]
  },
  {
   "cell_type": "markdown",
   "id": "1b97420c",
   "metadata": {},
   "source": [
    "#### Q4: Write a python program to scrape data for first 10 job results for Data scientist Designation in Noida location. You have to scrape company_name, No. of days ago when job was posted, Rating of the company.\n"
   ]
  },
  {
   "cell_type": "code",
   "execution_count": 301,
   "id": "45461601",
   "metadata": {},
   "outputs": [],
   "source": [
    "from selenium import webdriver\n",
    "from selenium.webdriver.common.keys import Keys"
   ]
  },
  {
   "cell_type": "code",
   "execution_count": 302,
   "id": "6e8cf2d4",
   "metadata": {},
   "outputs": [],
   "source": [
    "driver = webdriver.Chrome(r\"C:\\Users\\91977\\Downloads\\chromedriver_win32\\chromedriver.exe\")"
   ]
  },
  {
   "cell_type": "code",
   "execution_count": 303,
   "id": "7bf71146",
   "metadata": {},
   "outputs": [],
   "source": [
    "url4 = 'https://www.glassdoor.co.in/index.htm'\n",
    "driver.get(url4)"
   ]
  },
  {
   "cell_type": "code",
   "execution_count": 308,
   "id": "a355aa37",
   "metadata": {},
   "outputs": [],
   "source": [
    "time.sleep(5)\n",
    "\n",
    "try:\n",
    "    signin1 = driver.find_element_by_xpath('//button[@class=\"d-none d-lg-block p-0 LockedHomeHeaderStyles__signInButton\"]')\n",
    "    signin1.click()\n",
    "except:\n",
    "    signin2 = driver.find_element_by_xpath('//button[@class=\"d-flex align-items-center justify-content-center order-1 order-md-2 mr-auto mr-md-0 p-0 LockedHomeHeaderStyles__signInButton\"]')\n",
    "    signin2.click()"
   ]
  },
  {
   "cell_type": "code",
   "execution_count": 309,
   "id": "43a749f8",
   "metadata": {},
   "outputs": [],
   "source": [
    "time.sleep(5)\n",
    "signin_email = driver.find_element_by_id('userEmail')\n",
    "signin_email.send_keys('poonamsingh1692@gmail.com')"
   ]
  },
  {
   "cell_type": "code",
   "execution_count": 310,
   "id": "569cf3ef",
   "metadata": {},
   "outputs": [],
   "source": [
    "time.sleep(3)\n",
    "signin_pswd = driver.find_element_by_id('userPassword')\n",
    "signin_pswd.send_keys('Pakhi*16')"
   ]
  },
  {
   "cell_type": "code",
   "execution_count": 315,
   "id": "dd7d205b",
   "metadata": {},
   "outputs": [],
   "source": [
    "search_job4 = driver.find_element_by_id('sc.keyword')\n",
    "search_job4.send_keys(\"Data Scientist\")\n"
   ]
  },
  {
   "cell_type": "code",
   "execution_count": 317,
   "id": "56cf4f5a",
   "metadata": {},
   "outputs": [],
   "source": [
    "clr = driver.find_element_by_id(\"sc.location\")\n",
    "clr.send_keys(Keys.CONTROL,'a')"
   ]
  },
  {
   "cell_type": "code",
   "execution_count": 318,
   "id": "544e8320",
   "metadata": {},
   "outputs": [],
   "source": [
    "cut = driver.find_element_by_id(\"sc.location\")\n",
    "cut.send_keys(Keys.CONTROL,'x')"
   ]
  },
  {
   "cell_type": "code",
   "execution_count": 319,
   "id": "5fc8294c",
   "metadata": {},
   "outputs": [],
   "source": [
    "search_loc4 = driver.find_element_by_id(\"sc.location\")\n",
    "search_loc4.send_keys('Noida')"
   ]
  },
  {
   "cell_type": "code",
   "execution_count": 320,
   "id": "d633dd70",
   "metadata": {},
   "outputs": [],
   "source": [
    "#going to search bar\n",
    "search_bar = driver.find_element_by_xpath('//button[@class=\"gd-ui-button ml-std col-auto SearchStyles__newSearchButton css-iixdfr\"]')\n",
    "search_bar.click()"
   ]
  },
  {
   "cell_type": "code",
   "execution_count": 321,
   "id": "8a503e07",
   "metadata": {},
   "outputs": [],
   "source": [
    "time.sleep(3)\n",
    "end_tab = driver.find_element_by_xpath('//button[@class=\"css-1abfq40 e8e8plt1\"]')\n",
    "end_tab.click()\n"
   ]
  },
  {
   "cell_type": "code",
   "execution_count": 322,
   "id": "2e5aada6",
   "metadata": {},
   "outputs": [
    {
     "data": {
      "text/plain": [
       "['Bechtel',\n",
       " 'Bechtel',\n",
       " 'Ericsson',\n",
       " 'Crowe',\n",
       " 'NatWest Group',\n",
       " 'Siemens Technology and Services Private Limited',\n",
       " 'MobiKwik',\n",
       " 'Lantern Digital Services',\n",
       " 'Ally wiredsoft solutions (P) ltd',\n",
       " 'Priority Vendor',\n",
       " 'Biz2Credit Inc',\n",
       " 'White Vectors',\n",
       " 'Gauge Data Solutions',\n",
       " 'Data Patterns',\n",
       " 'Novo',\n",
       " 'Techlive',\n",
       " 'WinZO',\n",
       " 'MasterCard',\n",
       " 'WishFin',\n",
       " 'Applicate IT Solutions Pvt. Ltd.',\n",
       " 'xtLytics',\n",
       " 'Innovacer',\n",
       " 'Algoscale',\n",
       " 'SearchUrCollege',\n",
       " 'Salasar New Age Technologies',\n",
       " 'Dürr Somac GmbH',\n",
       " 'Barclays',\n",
       " 'Gravity Advisors Pvt Ltd',\n",
       " 'ADCI - Haryana',\n",
       " 'Team Computers',\n",
       " 'Dürr IT Services India',\n",
       " 'Ank Aha']"
      ]
     },
     "execution_count": 322,
     "metadata": {},
     "output_type": "execute_result"
    }
   ],
   "source": [
    "search_job4 = driver.find_elements_by_xpath('//div[@class=\"d-flex justify-content-between align-items-start\"]')\n",
    "Company_name = []\n",
    "for i in search_job4:\n",
    "    Company_name.append(i.text)"
   ]
  },
  {
   "cell_type": "code",
   "execution_count": 323,
   "id": "251e7cfa",
   "metadata": {},
   "outputs": [
    {
     "data": {
      "text/plain": [
       "['12d',\n",
       " '1d',\n",
       " '16d',\n",
       " '9d',\n",
       " '1d',\n",
       " '22d',\n",
       " '25d',\n",
       " '3d',\n",
       " '2d',\n",
       " '9d',\n",
       " '18d',\n",
       " '3d',\n",
       " '9d',\n",
       " '25d',\n",
       " '7d',\n",
       " '15d',\n",
       " '24h',\n",
       " '15d',\n",
       " '20d',\n",
       " '4d',\n",
       " '24d',\n",
       " '15d',\n",
       " '9d',\n",
       " '9d',\n",
       " '23d',\n",
       " '24h',\n",
       " '2d',\n",
       " '24h',\n",
       " '23d',\n",
       " '25d',\n",
       " '24h',\n",
       " '9d']"
      ]
     },
     "execution_count": 323,
     "metadata": {},
     "output_type": "execute_result"
    }
   ],
   "source": [
    "job_age = driver.find_elements_by_xpath('//div[@class=\"d-flex align-items-end pl-std css-mi55ob\"]')\n",
    "Job_Posted = []\n",
    "for i in job_age:\n",
    "    Job_Posted.append(i.text)"
   ]
  },
  {
   "cell_type": "code",
   "execution_count": 324,
   "id": "15ea15e7",
   "metadata": {},
   "outputs": [],
   "source": [
    "job_r = driver.find_elements_by_xpath('//span[@class=\"css-19pjha7 e1cjmv6j1\"]')\n",
    "Job_Ratings = []\n",
    "for i in job_r:\n",
    "    Job_Ratings.append(i.text)"
   ]
  },
  {
   "cell_type": "code",
   "execution_count": 327,
   "id": "45c0cb1d",
   "metadata": {},
   "outputs": [],
   "source": [
    "Glassdoor_Posts = pd.DataFrame()\n",
    "Glassdoor_Posts['Company'] = Company_name[:10]\n",
    "Glassdoor_Posts['Job_Posted'] = Job_Posted[:10]\n",
    "Glassdoor_Posts['Ratings'] = Job_Ratings[:10]"
   ]
  },
  {
   "cell_type": "code",
   "execution_count": 328,
   "id": "15b728ff",
   "metadata": {},
   "outputs": [
    {
     "data": {
      "text/html": [
       "<div>\n",
       "<style scoped>\n",
       "    .dataframe tbody tr th:only-of-type {\n",
       "        vertical-align: middle;\n",
       "    }\n",
       "\n",
       "    .dataframe tbody tr th {\n",
       "        vertical-align: top;\n",
       "    }\n",
       "\n",
       "    .dataframe thead th {\n",
       "        text-align: right;\n",
       "    }\n",
       "</style>\n",
       "<table border=\"1\" class=\"dataframe\">\n",
       "  <thead>\n",
       "    <tr style=\"text-align: right;\">\n",
       "      <th></th>\n",
       "      <th>Company</th>\n",
       "      <th>Job_Posted</th>\n",
       "      <th>Ratings</th>\n",
       "    </tr>\n",
       "  </thead>\n",
       "  <tbody>\n",
       "    <tr>\n",
       "      <th>0</th>\n",
       "      <td>Bechtel</td>\n",
       "      <td>12d</td>\n",
       "      <td>4.0</td>\n",
       "    </tr>\n",
       "    <tr>\n",
       "      <th>1</th>\n",
       "      <td>Bechtel</td>\n",
       "      <td>1d</td>\n",
       "      <td>4.0</td>\n",
       "    </tr>\n",
       "    <tr>\n",
       "      <th>2</th>\n",
       "      <td>Ericsson</td>\n",
       "      <td>16d</td>\n",
       "      <td>4.1</td>\n",
       "    </tr>\n",
       "    <tr>\n",
       "      <th>3</th>\n",
       "      <td>Crowe</td>\n",
       "      <td>9d</td>\n",
       "      <td>3.8</td>\n",
       "    </tr>\n",
       "    <tr>\n",
       "      <th>4</th>\n",
       "      <td>NatWest Group</td>\n",
       "      <td>1d</td>\n",
       "      <td>3.9</td>\n",
       "    </tr>\n",
       "    <tr>\n",
       "      <th>5</th>\n",
       "      <td>Siemens Technology and Services Private Limited</td>\n",
       "      <td>22d</td>\n",
       "      <td>4.1</td>\n",
       "    </tr>\n",
       "    <tr>\n",
       "      <th>6</th>\n",
       "      <td>MobiKwik</td>\n",
       "      <td>25d</td>\n",
       "      <td>4.0</td>\n",
       "    </tr>\n",
       "    <tr>\n",
       "      <th>7</th>\n",
       "      <td>Lantern Digital Services</td>\n",
       "      <td>3d</td>\n",
       "      <td>3.5</td>\n",
       "    </tr>\n",
       "    <tr>\n",
       "      <th>8</th>\n",
       "      <td>Ally wiredsoft solutions (P) ltd</td>\n",
       "      <td>2d</td>\n",
       "      <td>3.7</td>\n",
       "    </tr>\n",
       "    <tr>\n",
       "      <th>9</th>\n",
       "      <td>Priority Vendor</td>\n",
       "      <td>9d</td>\n",
       "      <td>3.9</td>\n",
       "    </tr>\n",
       "  </tbody>\n",
       "</table>\n",
       "</div>"
      ],
      "text/plain": [
       "                                           Company Job_Posted Ratings\n",
       "0                                          Bechtel        12d     4.0\n",
       "1                                          Bechtel         1d     4.0\n",
       "2                                         Ericsson        16d     4.1\n",
       "3                                            Crowe         9d     3.8\n",
       "4                                    NatWest Group         1d     3.9\n",
       "5  Siemens Technology and Services Private Limited        22d     4.1\n",
       "6                                         MobiKwik        25d     4.0\n",
       "7                         Lantern Digital Services         3d     3.5\n",
       "8                 Ally wiredsoft solutions (P) ltd         2d     3.7\n",
       "9                                  Priority Vendor         9d     3.9"
      ]
     },
     "execution_count": 328,
     "metadata": {},
     "output_type": "execute_result"
    }
   ],
   "source": [
    "Glassdoor_Posts"
   ]
  },
  {
   "cell_type": "markdown",
   "id": "77a3b112",
   "metadata": {},
   "source": [
    "_________________________________"
   ]
  },
  {
   "cell_type": "markdown",
   "id": "5bb1eda8",
   "metadata": {},
   "source": [
    "### Q5: Write a python program to scrape the salary data for Data Scientist designation in Noida location."
   ]
  },
  {
   "cell_type": "code",
   "execution_count": 365,
   "id": "d42440ed",
   "metadata": {},
   "outputs": [],
   "source": [
    "import selenium\n",
    "import pandas as pd\n",
    "from selenium import webdriver\n",
    "\n",
    "from selenium.webdriver.common.keys import Keys"
   ]
  },
  {
   "cell_type": "code",
   "execution_count": 554,
   "id": "73f530c3",
   "metadata": {},
   "outputs": [],
   "source": [
    "driver = webdriver.Chrome(r\"C:\\Users\\91977\\Downloads\\chromedriver_win32\\chromedriver.exe\")"
   ]
  },
  {
   "cell_type": "code",
   "execution_count": 555,
   "id": "f95c850a",
   "metadata": {},
   "outputs": [],
   "source": [
    "url5 = 'https://www.glassdoor.co.in/Salaries/index.htm'\n",
    "driver.get(url5)"
   ]
  },
  {
   "cell_type": "code",
   "execution_count": 556,
   "id": "e7657f51",
   "metadata": {},
   "outputs": [],
   "source": [
    "search_job5 = driver.find_element_by_id('KeywordSearch')\n",
    "search_job5.send_keys('Data Scientist')"
   ]
  },
  {
   "cell_type": "code",
   "execution_count": 557,
   "id": "a095e3ef",
   "metadata": {},
   "outputs": [],
   "source": [
    "clear = driver.find_element_by_id(\"LocationSearch\")\n",
    "clear.send_keys(Keys.CONTROL,'a')"
   ]
  },
  {
   "cell_type": "code",
   "execution_count": 558,
   "id": "df8aee02",
   "metadata": {},
   "outputs": [],
   "source": [
    "Cut = driver.find_element_by_id(\"LocationSearch\")\n",
    "Cut.send_keys(Keys.CONTROL,'x')"
   ]
  },
  {
   "cell_type": "code",
   "execution_count": 559,
   "id": "820a9f03",
   "metadata": {},
   "outputs": [],
   "source": [
    "search_loc5 = driver.find_element_by_id('LocationSearch')\n",
    "search_loc5.send_keys('Noida')"
   ]
  },
  {
   "cell_type": "code",
   "execution_count": 560,
   "id": "b7f669ef",
   "metadata": {},
   "outputs": [],
   "source": [
    "search5 = driver.find_element_by_id('HeroSearchButton')\n",
    "search5.click()\n",
    "time.sleep(5)"
   ]
  },
  {
   "cell_type": "code",
   "execution_count": 618,
   "id": "e6c084b0",
   "metadata": {},
   "outputs": [],
   "source": [
    "Glassdoor  = {}\n",
    "Glassdoor['Min_Salary'] = []\n",
    "Glassdoor['Max_Salary'] = []\n",
    "Glassdoor['Company'] = []\n",
    "Glassdoor['Average_Salary'] = []\n",
    "Glassdoor['Ratings'] = []"
   ]
  },
  {
   "cell_type": "code",
   "execution_count": 619,
   "id": "d19af2a9",
   "metadata": {},
   "outputs": [],
   "source": [
    "#Scrapping minimum salary\n",
    "\n",
    "s1 = driver.find_elements_by_xpath('//div[@class=\"d-flex mt-xxsm css-79elbk epuxyqn0\"]//p')\n",
    "for i in range(0,len(s1),2):\n",
    "    Glassdoor['Min_Salary'].append(s1[i].text.replace('\\n',''))"
   ]
  },
  {
   "cell_type": "code",
   "execution_count": 620,
   "id": "e1ef08f3",
   "metadata": {},
   "outputs": [
    {
     "data": {
      "text/plain": [
       "['₹6L',\n",
       " '₹3L',\n",
       " '₹6L',\n",
       " '₹5L',\n",
       " '₹4L',\n",
       " '₹8L',\n",
       " '₹5L',\n",
       " '₹6L',\n",
       " '₹4L',\n",
       " '₹2L',\n",
       " '₹8L',\n",
       " '₹6L',\n",
       " '₹8L',\n",
       " '₹10L',\n",
       " '₹4L',\n",
       " '₹8L',\n",
       " '₹12T',\n",
       " '₹4L',\n",
       " '₹8L',\n",
       " '₹9L']"
      ]
     },
     "execution_count": 620,
     "metadata": {},
     "output_type": "execute_result"
    }
   ],
   "source": [
    "Glassdoor['Min_Salary']"
   ]
  },
  {
   "cell_type": "code",
   "execution_count": 631,
   "id": "03bcfc39",
   "metadata": {},
   "outputs": [
    {
     "data": {
      "text/plain": [
       "20"
      ]
     },
     "execution_count": 631,
     "metadata": {},
     "output_type": "execute_result"
    }
   ],
   "source": [
    "len(Glassdoor['Min_Salary'])"
   ]
  },
  {
   "cell_type": "code",
   "execution_count": 621,
   "id": "78db890e",
   "metadata": {},
   "outputs": [],
   "source": [
    "#Scrapping maximum salary\n",
    "\n",
    "s1 = driver.find_elements_by_xpath('//div[@class=\"d-flex mt-xxsm css-79elbk epuxyqn0\"]//p')\n",
    "for i in range(1,len(s1),2):\n",
    "    Glassdoor['Max_Salary'].append(s1[i].text.replace('\\n',''))"
   ]
  },
  {
   "cell_type": "code",
   "execution_count": 622,
   "id": "bd741f27",
   "metadata": {},
   "outputs": [
    {
     "data": {
      "text/plain": [
       "['₹27L',\n",
       " '₹13L',\n",
       " '₹22L',\n",
       " '₹1Cr',\n",
       " '₹16L',\n",
       " '₹15L',\n",
       " '₹15L',\n",
       " '₹15L',\n",
       " '₹22L',\n",
       " '₹18L',\n",
       " '₹20L',\n",
       " '₹17L',\n",
       " '₹13L',\n",
       " '₹19L',\n",
       " '₹16L',\n",
       " '₹20L',\n",
       " '₹63T',\n",
       " '₹17L',\n",
       " '₹30L',\n",
       " '₹15L']"
      ]
     },
     "execution_count": 622,
     "metadata": {},
     "output_type": "execute_result"
    }
   ],
   "source": [
    "Glassdoor['Max_Salary']"
   ]
  },
  {
   "cell_type": "code",
   "execution_count": 632,
   "id": "f20461dc",
   "metadata": {},
   "outputs": [
    {
     "data": {
      "text/plain": [
       "20"
      ]
     },
     "execution_count": 632,
     "metadata": {},
     "output_type": "execute_result"
    }
   ],
   "source": [
    "len(Glassdoor['Max_Salary'])"
   ]
  },
  {
   "cell_type": "code",
   "execution_count": 623,
   "id": "20faa520",
   "metadata": {},
   "outputs": [],
   "source": [
    "#Scrapping Company name\n",
    "comp = driver.find_elements_by_xpath('//div[@class=\"col px-xsm\"]//a')\n",
    "for i in range(0,len(comp),2):\n",
    "    Glassdoor['Company'].append(comp[i].text)"
   ]
  },
  {
   "cell_type": "code",
   "execution_count": 624,
   "id": "ae9770bd",
   "metadata": {},
   "outputs": [
    {
     "data": {
      "text/plain": [
       "['IBM',\n",
       " 'Tata Consultancy Services',\n",
       " 'Accenture',\n",
       " 'Delhivery',\n",
       " 'Ericsson-Worldwide',\n",
       " 'UnitedHealth Group',\n",
       " 'Valiance Solutions',\n",
       " 'EXL Service',\n",
       " 'Optum Global Solutions',\n",
       " 'ZS Associates',\n",
       " 'Optum',\n",
       " 'Innovaccer',\n",
       " 'Cognizant Technology Solutions',\n",
       " 'OYO',\n",
       " 'Nagarro',\n",
       " 'dunnhumby',\n",
       " 'Vidooly Media Tech',\n",
       " 'Tech Mahindra',\n",
       " 'R Systems',\n",
       " 'CARS24.com']"
      ]
     },
     "execution_count": 624,
     "metadata": {},
     "output_type": "execute_result"
    }
   ],
   "source": [
    "Glassdoor['Company']"
   ]
  },
  {
   "cell_type": "code",
   "execution_count": 625,
   "id": "e9a4ed2e",
   "metadata": {},
   "outputs": [
    {
     "data": {
      "text/plain": [
       "20"
      ]
     },
     "execution_count": 625,
     "metadata": {},
     "output_type": "execute_result"
    }
   ],
   "source": [
    "len(Glassdoor['Company'])"
   ]
  },
  {
   "cell_type": "code",
   "execution_count": 626,
   "id": "8d803bbf",
   "metadata": {},
   "outputs": [],
   "source": [
    "#Scrapping Average Salary\n",
    "AVG_sal = driver.find_elements_by_xpath('//div[@class=\"col-12 col-lg-4 px-lg-0 d-flex align-items-baseline\"]')\n",
    "for i in AVG_sal:\n",
    "    Glassdoor['Average_Salary'].append(i.text.replace('\\n','').replace('/',''))\n"
   ]
  },
  {
   "cell_type": "code",
   "execution_count": 627,
   "id": "96dfd976",
   "metadata": {},
   "outputs": [
    {
     "data": {
      "text/plain": [
       "['₹9,00,000 yr',\n",
       " '₹6,15,289 yr',\n",
       " '₹11,63,336 yr',\n",
       " '₹12,18,244 yr',\n",
       " '₹7,39,238 yr',\n",
       " '₹13,00,000 yr',\n",
       " '₹8,63,750 yr',\n",
       " '₹11,10,000 yr',\n",
       " '₹13,28,697 yr',\n",
       " '₹11,42,356 yr',\n",
       " '₹13,20,960 yr',\n",
       " '₹12,09,040 yr',\n",
       " '₹10,09,021 yr',\n",
       " '₹12,58,227 yr',\n",
       " '₹9,92,632 yr',\n",
       " '₹10,55,478 yr',\n",
       " '₹34,157 mo',\n",
       " '₹10,54,402 yr',\n",
       " '₹18,40,134 yr',\n",
       " '₹10,00,000 yr']"
      ]
     },
     "execution_count": 627,
     "metadata": {},
     "output_type": "execute_result"
    }
   ],
   "source": [
    "Glassdoor['Average_Salary']"
   ]
  },
  {
   "cell_type": "code",
   "execution_count": 628,
   "id": "fd8bece9",
   "metadata": {},
   "outputs": [
    {
     "data": {
      "text/plain": [
       "20"
      ]
     },
     "execution_count": 628,
     "metadata": {},
     "output_type": "execute_result"
    }
   ],
   "source": [
    "len(Glassdoor['Average_Salary'] )"
   ]
  },
  {
   "cell_type": "code",
   "execution_count": 629,
   "id": "e321efa5",
   "metadata": {},
   "outputs": [],
   "source": [
    "#Scrapping company Ratings\n",
    "Ratings = driver.find_elements_by_xpath('//span[@class=\"m-0 css-kyx745\"]')\n",
    "for i in Ratings:\n",
    "    Glassdoor['Ratings'].append(i.text)\n"
   ]
  },
  {
   "cell_type": "code",
   "execution_count": 630,
   "id": "8990a725",
   "metadata": {},
   "outputs": [
    {
     "data": {
      "text/plain": [
       "['3.9',\n",
       " '3.9',\n",
       " '4',\n",
       " '3.9',\n",
       " '4',\n",
       " '3.7',\n",
       " '4.2',\n",
       " '3.6',\n",
       " '3.9',\n",
       " '4',\n",
       " '3.6',\n",
       " '3.8',\n",
       " '3.8',\n",
       " '3.2',\n",
       " '4',\n",
       " '4.1',\n",
       " '3.7',\n",
       " '3.6',\n",
       " '3.5',\n",
       " '4.1']"
      ]
     },
     "execution_count": 630,
     "metadata": {},
     "output_type": "execute_result"
    }
   ],
   "source": [
    "Glassdoor['Ratings']"
   ]
  },
  {
   "cell_type": "code",
   "execution_count": 633,
   "id": "5b1df6ef",
   "metadata": {},
   "outputs": [
    {
     "data": {
      "text/plain": [
       "20"
      ]
     },
     "execution_count": 633,
     "metadata": {},
     "output_type": "execute_result"
    }
   ],
   "source": [
    "len(Glassdoor['Ratings'])"
   ]
  },
  {
   "cell_type": "code",
   "execution_count": 634,
   "id": "b4750696",
   "metadata": {},
   "outputs": [],
   "source": [
    "Glassdoor['Min_Salary'] = Glassdoor['Min_Salary'][:10]\n",
    "Glassdoor['Max_Salary'] = Glassdoor['Max_Salary'][:10]\n",
    "Glassdoor['Company'] = Glassdoor['Company'][:10]\n",
    "Glassdoor['Average_Salary'] = Glassdoor['Average_Salary'][:10]\n",
    "Glassdoor['Ratings'] = Glassdoor['Ratings'][:10]"
   ]
  },
  {
   "cell_type": "code",
   "execution_count": 635,
   "id": "0e366d57",
   "metadata": {},
   "outputs": [],
   "source": [
    "Glassdoor_Job = pd.DataFrame(Glassdoor)"
   ]
  },
  {
   "cell_type": "code",
   "execution_count": 636,
   "id": "1f6a2054",
   "metadata": {},
   "outputs": [
    {
     "data": {
      "text/html": [
       "<div>\n",
       "<style scoped>\n",
       "    .dataframe tbody tr th:only-of-type {\n",
       "        vertical-align: middle;\n",
       "    }\n",
       "\n",
       "    .dataframe tbody tr th {\n",
       "        vertical-align: top;\n",
       "    }\n",
       "\n",
       "    .dataframe thead th {\n",
       "        text-align: right;\n",
       "    }\n",
       "</style>\n",
       "<table border=\"1\" class=\"dataframe\">\n",
       "  <thead>\n",
       "    <tr style=\"text-align: right;\">\n",
       "      <th></th>\n",
       "      <th>Min_Salary</th>\n",
       "      <th>Max_Salary</th>\n",
       "      <th>Company</th>\n",
       "      <th>Average_Salary</th>\n",
       "      <th>Ratings</th>\n",
       "    </tr>\n",
       "  </thead>\n",
       "  <tbody>\n",
       "    <tr>\n",
       "      <th>0</th>\n",
       "      <td>₹6L</td>\n",
       "      <td>₹27L</td>\n",
       "      <td>IBM</td>\n",
       "      <td>₹9,00,000 yr</td>\n",
       "      <td>3.9</td>\n",
       "    </tr>\n",
       "    <tr>\n",
       "      <th>1</th>\n",
       "      <td>₹3L</td>\n",
       "      <td>₹13L</td>\n",
       "      <td>Tata Consultancy Services</td>\n",
       "      <td>₹6,15,289 yr</td>\n",
       "      <td>3.9</td>\n",
       "    </tr>\n",
       "    <tr>\n",
       "      <th>2</th>\n",
       "      <td>₹6L</td>\n",
       "      <td>₹22L</td>\n",
       "      <td>Accenture</td>\n",
       "      <td>₹11,63,336 yr</td>\n",
       "      <td>4</td>\n",
       "    </tr>\n",
       "    <tr>\n",
       "      <th>3</th>\n",
       "      <td>₹5L</td>\n",
       "      <td>₹1Cr</td>\n",
       "      <td>Delhivery</td>\n",
       "      <td>₹12,18,244 yr</td>\n",
       "      <td>3.9</td>\n",
       "    </tr>\n",
       "    <tr>\n",
       "      <th>4</th>\n",
       "      <td>₹4L</td>\n",
       "      <td>₹16L</td>\n",
       "      <td>Ericsson-Worldwide</td>\n",
       "      <td>₹7,39,238 yr</td>\n",
       "      <td>4</td>\n",
       "    </tr>\n",
       "    <tr>\n",
       "      <th>5</th>\n",
       "      <td>₹8L</td>\n",
       "      <td>₹15L</td>\n",
       "      <td>UnitedHealth Group</td>\n",
       "      <td>₹13,00,000 yr</td>\n",
       "      <td>3.7</td>\n",
       "    </tr>\n",
       "    <tr>\n",
       "      <th>6</th>\n",
       "      <td>₹5L</td>\n",
       "      <td>₹15L</td>\n",
       "      <td>Valiance Solutions</td>\n",
       "      <td>₹8,63,750 yr</td>\n",
       "      <td>4.2</td>\n",
       "    </tr>\n",
       "    <tr>\n",
       "      <th>7</th>\n",
       "      <td>₹6L</td>\n",
       "      <td>₹15L</td>\n",
       "      <td>EXL Service</td>\n",
       "      <td>₹11,10,000 yr</td>\n",
       "      <td>3.6</td>\n",
       "    </tr>\n",
       "    <tr>\n",
       "      <th>8</th>\n",
       "      <td>₹4L</td>\n",
       "      <td>₹22L</td>\n",
       "      <td>Optum Global Solutions</td>\n",
       "      <td>₹13,28,697 yr</td>\n",
       "      <td>3.9</td>\n",
       "    </tr>\n",
       "    <tr>\n",
       "      <th>9</th>\n",
       "      <td>₹2L</td>\n",
       "      <td>₹18L</td>\n",
       "      <td>ZS Associates</td>\n",
       "      <td>₹11,42,356 yr</td>\n",
       "      <td>4</td>\n",
       "    </tr>\n",
       "  </tbody>\n",
       "</table>\n",
       "</div>"
      ],
      "text/plain": [
       "  Min_Salary Max_Salary                    Company Average_Salary Ratings\n",
       "0        ₹6L       ₹27L                        IBM   ₹9,00,000 yr     3.9\n",
       "1        ₹3L       ₹13L  Tata Consultancy Services   ₹6,15,289 yr     3.9\n",
       "2        ₹6L       ₹22L                  Accenture  ₹11,63,336 yr       4\n",
       "3        ₹5L       ₹1Cr                  Delhivery  ₹12,18,244 yr     3.9\n",
       "4        ₹4L       ₹16L         Ericsson-Worldwide   ₹7,39,238 yr       4\n",
       "5        ₹8L       ₹15L         UnitedHealth Group  ₹13,00,000 yr     3.7\n",
       "6        ₹5L       ₹15L         Valiance Solutions   ₹8,63,750 yr     4.2\n",
       "7        ₹6L       ₹15L                EXL Service  ₹11,10,000 yr     3.6\n",
       "8        ₹4L       ₹22L     Optum Global Solutions  ₹13,28,697 yr     3.9\n",
       "9        ₹2L       ₹18L              ZS Associates  ₹11,42,356 yr       4"
      ]
     },
     "execution_count": 636,
     "metadata": {},
     "output_type": "execute_result"
    }
   ],
   "source": [
    "Glassdoor_Job "
   ]
  },
  {
   "cell_type": "markdown",
   "id": "c2b55edf",
   "metadata": {},
   "source": [
    "________________________________________________________________________"
   ]
  },
  {
   "cell_type": "markdown",
   "id": "bb3dc6ab",
   "metadata": {},
   "source": [
    "### Q6 : Scrape data of first 100 sunglasses listings on flipkart.com"
   ]
  },
  {
   "cell_type": "code",
   "execution_count": 447,
   "id": "f28e45ba",
   "metadata": {},
   "outputs": [],
   "source": [
    "driver = webdriver.Chrome(r\"C:\\Users\\91977\\Downloads\\chromedriver_win32\\chromedriver.exe\")"
   ]
  },
  {
   "cell_type": "code",
   "execution_count": 448,
   "id": "54b36bb2",
   "metadata": {},
   "outputs": [],
   "source": [
    "url6 = 'https://www.flipkart.com/'\n",
    "driver.get(url6)\n",
    "    \n",
    "close = driver.find_element_by_xpath('//button[@class=\"_2KpZ6l _2doB4z\"]')\n",
    "close.click()\n",
    "\n",
    "search_product6 = driver.find_element_by_xpath('/html/body/div[1]/div/div[1]/div[1]/div[2]/div[2]/form/div/div/input')\n",
    "search_product6.send_keys('sunglasses')\n",
    "\n",
    "search_btn6 = driver.find_element_by_xpath('//button[@class=\"L0Z3Pu\"]')\n",
    "search_btn6.click()\n"
   ]
  },
  {
   "cell_type": "code",
   "execution_count": 449,
   "id": "193018aa",
   "metadata": {},
   "outputs": [],
   "source": [
    "time.sleep(3)\n",
    "desc6 = driver.find_elements_by_xpath('//div[@class=\"_2B099V\"]//a')\n",
    "product_description1 = []\n",
    "for i in range(0,len(desc6),2):\n",
    "    product_description1.append(desc6[i].text)"
   ]
  },
  {
   "cell_type": "code",
   "execution_count": 455,
   "id": "5adb0d16",
   "metadata": {},
   "outputs": [],
   "source": [
    "brand6 = driver.find_elements_by_xpath('//div[@class=\"_2WkVRV\"]')\n",
    "product_brand1 = []\n",
    "for i in brand6:\n",
    "    product_brand1.append(i.text)\n",
    "\n",
    "time.sleep(3)\n",
    "desc6 = driver.find_elements_by_xpath('//div[@class=\"_2B099V\"]//a')\n",
    "product_description1 = []\n",
    "for i in range(0,len(desc6),2):\n",
    "    product_description1.append(desc6[i].text)\n",
    "\n",
    "price = driver.find_elements_by_xpath('//div[@class=\"_30jeq3\"]')\n",
    "product_price1 = []\n",
    "for i in price:\n",
    "    product_price1.append(i.text)\n",
    "\n",
    "discount = driver.find_elements_by_xpath('//div[@class=\"_3Ay6Sb\"]//span')\n",
    "product_discount1 = []\n",
    "for i in discount:\n",
    "     product_discount1.append(i.text)"
   ]
  },
  {
   "cell_type": "code",
   "execution_count": 462,
   "id": "645eea03",
   "metadata": {},
   "outputs": [
    {
     "data": {
      "text/plain": [
       "40"
      ]
     },
     "execution_count": 462,
     "metadata": {},
     "output_type": "execute_result"
    }
   ],
   "source": [
    "# going on next page\n",
    "next_page1 = driver.find_element_by_xpath('//a[@class=\"_1LKTO3\"]//span')\n",
    "next_page1.click()\n",
    "\n",
    "len(product_discount1)"
   ]
  },
  {
   "cell_type": "code",
   "execution_count": 463,
   "id": "6dfb9ec0",
   "metadata": {},
   "outputs": [],
   "source": [
    "brand6 = driver.find_elements_by_xpath('//div[@class=\"_2WkVRV\"]')\n",
    "product_brand2 = []\n",
    "for i in brand6:\n",
    "    product_brand2.append(i.text)\n",
    "\n",
    "desc6 = driver.find_elements_by_xpath('//a[@class=\"IRpwTa\"]')\n",
    "product_description2 = []\n",
    "for i in range(0,len(desc6)):\n",
    "    product_description2.append(desc6[i].text)\n",
    "product_description2 = product_description2[:40]\n",
    "\n",
    "price = driver.find_elements_by_xpath('//div[@class=\"_30jeq3\"]')\n",
    "product_price2 = []\n",
    "for i in price:\n",
    "    product_price2.append(i.text)\n",
    "\n",
    "discount = driver.find_elements_by_xpath('//div[@class=\"_3Ay6Sb\"]//span')\n",
    "product_discount2 = []\n",
    "for i in discount:\n",
    "     product_discount2.append(i.text)\n"
   ]
  },
  {
   "cell_type": "code",
   "execution_count": 464,
   "id": "b4a28185",
   "metadata": {},
   "outputs": [
    {
     "data": {
      "text/plain": [
       "40"
      ]
     },
     "execution_count": 464,
     "metadata": {},
     "output_type": "execute_result"
    }
   ],
   "source": [
    "len(product_description2)"
   ]
  },
  {
   "cell_type": "code",
   "execution_count": 465,
   "id": "4949dc85",
   "metadata": {},
   "outputs": [],
   "source": [
    "next_page2 = driver.find_element_by_xpath('/html/body/div/div/div[3]/div[1]/div[2]/div[12]/div/div/nav/a[12]/span')\n",
    "next_page2.click()"
   ]
  },
  {
   "cell_type": "code",
   "execution_count": 466,
   "id": "89d718b7",
   "metadata": {},
   "outputs": [],
   "source": [
    "brand6 = driver.find_elements_by_xpath('//div[@class=\"_2WkVRV\"]')\n",
    "product_brand3 = []\n",
    "for i in range(0,20):\n",
    "    product_brand3.append(brand6[i].text)\n",
    "\n",
    "desc6 = driver.find_elements_by_xpath('//a[@class=\"IRpwTa\"]')\n",
    "product_description3 = []\n",
    "for i in range(0,20):\n",
    "    product_description3.append(desc6[i].text)\n",
    "\n",
    "price = driver.find_elements_by_xpath('//div[@class=\"_30jeq3\"]')\n",
    "product_price3 = []\n",
    "for i in range(0,20):\n",
    "    product_price3.append(price[i].text)\n",
    "\n",
    "discount = driver.find_elements_by_xpath('//div[@class=\"_3Ay6Sb\"]//span')\n",
    "product_discount3 = []\n",
    "for i in range(0,20):\n",
    "     product_discount3.append(discount[i].text)"
   ]
  },
  {
   "cell_type": "code",
   "execution_count": 467,
   "id": "8c72d52a",
   "metadata": {},
   "outputs": [
    {
     "data": {
      "text/html": [
       "<div>\n",
       "<style scoped>\n",
       "    .dataframe tbody tr th:only-of-type {\n",
       "        vertical-align: middle;\n",
       "    }\n",
       "\n",
       "    .dataframe tbody tr th {\n",
       "        vertical-align: top;\n",
       "    }\n",
       "\n",
       "    .dataframe thead th {\n",
       "        text-align: right;\n",
       "    }\n",
       "</style>\n",
       "<table border=\"1\" class=\"dataframe\">\n",
       "  <thead>\n",
       "    <tr style=\"text-align: right;\">\n",
       "      <th></th>\n",
       "      <th>Brand</th>\n",
       "      <th>Description</th>\n",
       "      <th>Price</th>\n",
       "      <th>Discount</th>\n",
       "    </tr>\n",
       "  </thead>\n",
       "  <tbody>\n",
       "    <tr>\n",
       "      <th>0</th>\n",
       "      <td>NuVew</td>\n",
       "      <td>UV Protection Aviator Sunglasses (58)</td>\n",
       "      <td>₹215</td>\n",
       "      <td>₹570 off</td>\n",
       "    </tr>\n",
       "    <tr>\n",
       "      <th>1</th>\n",
       "      <td>elegante</td>\n",
       "      <td>UV Protection Round Sunglasses (Free Size)</td>\n",
       "      <td>₹199</td>\n",
       "      <td>₹800 off</td>\n",
       "    </tr>\n",
       "    <tr>\n",
       "      <th>2</th>\n",
       "      <td>kingsunglasses</td>\n",
       "      <td>UV Protection Rectangular Sunglasses (Free Size)</td>\n",
       "      <td>₹210</td>\n",
       "      <td>₹1089 off</td>\n",
       "    </tr>\n",
       "    <tr>\n",
       "      <th>3</th>\n",
       "      <td>ROZZETTA CRAFT</td>\n",
       "      <td>UV Protection, Gradient Round Sunglasses (Free...</td>\n",
       "      <td>₹449</td>\n",
       "      <td>₹1550 off</td>\n",
       "    </tr>\n",
       "    <tr>\n",
       "      <th>4</th>\n",
       "      <td>PHENOMENAL</td>\n",
       "      <td>UV Protection Clubmaster Sunglasses (Free Size)</td>\n",
       "      <td>₹319</td>\n",
       "      <td>₹1679 off</td>\n",
       "    </tr>\n",
       "    <tr>\n",
       "      <th>...</th>\n",
       "      <td>...</td>\n",
       "      <td>...</td>\n",
       "      <td>...</td>\n",
       "      <td>...</td>\n",
       "    </tr>\n",
       "    <tr>\n",
       "      <th>95</th>\n",
       "      <td>Fastrack</td>\n",
       "      <td>UV Protection Wayfarer Sunglasses (Free Size)</td>\n",
       "      <td>₹539</td>\n",
       "      <td>₹260 off</td>\n",
       "    </tr>\n",
       "    <tr>\n",
       "      <th>96</th>\n",
       "      <td>NuVew</td>\n",
       "      <td>UV Protection, Riding Glasses Wayfarer Sunglas...</td>\n",
       "      <td>₹235</td>\n",
       "      <td>₹740 off</td>\n",
       "    </tr>\n",
       "    <tr>\n",
       "      <th>97</th>\n",
       "      <td>Crackers</td>\n",
       "      <td>UV Protection Aviator Sunglasses (55)</td>\n",
       "      <td>₹170</td>\n",
       "      <td>₹829 off</td>\n",
       "    </tr>\n",
       "    <tr>\n",
       "      <th>98</th>\n",
       "      <td>kingsunglasses</td>\n",
       "      <td>Mirrored, UV Protection Aviator Sunglasses (56)</td>\n",
       "      <td>₹249</td>\n",
       "      <td>₹1050 off</td>\n",
       "    </tr>\n",
       "    <tr>\n",
       "      <th>99</th>\n",
       "      <td>Singco India</td>\n",
       "      <td>Riding Glasses, UV Protection, Others Aviator ...</td>\n",
       "      <td>₹227</td>\n",
       "      <td>₹1272 off</td>\n",
       "    </tr>\n",
       "  </tbody>\n",
       "</table>\n",
       "<p>100 rows × 4 columns</p>\n",
       "</div>"
      ],
      "text/plain": [
       "             Brand                                        Description Price  \\\n",
       "0            NuVew              UV Protection Aviator Sunglasses (58)  ₹215   \n",
       "1         elegante         UV Protection Round Sunglasses (Free Size)  ₹199   \n",
       "2   kingsunglasses   UV Protection Rectangular Sunglasses (Free Size)  ₹210   \n",
       "3   ROZZETTA CRAFT  UV Protection, Gradient Round Sunglasses (Free...  ₹449   \n",
       "4       PHENOMENAL    UV Protection Clubmaster Sunglasses (Free Size)  ₹319   \n",
       "..             ...                                                ...   ...   \n",
       "95        Fastrack      UV Protection Wayfarer Sunglasses (Free Size)  ₹539   \n",
       "96           NuVew  UV Protection, Riding Glasses Wayfarer Sunglas...  ₹235   \n",
       "97        Crackers              UV Protection Aviator Sunglasses (55)  ₹170   \n",
       "98  kingsunglasses    Mirrored, UV Protection Aviator Sunglasses (56)  ₹249   \n",
       "99    Singco India  Riding Glasses, UV Protection, Others Aviator ...  ₹227   \n",
       "\n",
       "     Discount  \n",
       "0    ₹570 off  \n",
       "1    ₹800 off  \n",
       "2   ₹1089 off  \n",
       "3   ₹1550 off  \n",
       "4   ₹1679 off  \n",
       "..        ...  \n",
       "95   ₹260 off  \n",
       "96   ₹740 off  \n",
       "97   ₹829 off  \n",
       "98  ₹1050 off  \n",
       "99  ₹1272 off  \n",
       "\n",
       "[100 rows x 4 columns]"
      ]
     },
     "execution_count": 467,
     "metadata": {},
     "output_type": "execute_result"
    }
   ],
   "source": [
    "Flipkart_Sunglasses = pd.DataFrame()\n",
    "\n",
    "Flipkart_Sunglasses['Brand'] = product_brand1 + product_brand2 + product_brand3\n",
    "Flipkart_Sunglasses['Description'] = product_description1 + product_description2 + product_description3\n",
    "Flipkart_Sunglasses['Price'] = product_price1 + product_price2 + product_price3\n",
    "Flipkart_Sunglasses['Discount'] = product_discount1 + product_discount2 + product_discount3\n",
    "    \n",
    "Flipkart_Sunglasses"
   ]
  },
  {
   "cell_type": "markdown",
   "id": "d143520b",
   "metadata": {},
   "source": [
    "_________________________________________________________"
   ]
  },
  {
   "cell_type": "markdown",
   "id": "8d0650c5",
   "metadata": {},
   "source": [
    "### Q7: Scrape 100 reviews data from flipkart.com for iphone11 phone. \n",
    "Link: https://www.flipkart.com/apple-iphone-11-black-64-gb-includesearpods-poweradapter/p/itm0f37c2240b217pid=MOBFKCTSVZAXUHGR&lid=LSTMOBFKCTSVZAXUHGREPBFGI&marketplace.\n"
   ]
  },
  {
   "cell_type": "code",
   "execution_count": 468,
   "id": "390fb947",
   "metadata": {},
   "outputs": [],
   "source": [
    "driver = webdriver.Chrome(r\"C:\\Users\\91977\\Downloads\\chromedriver_win32\\chromedriver.exe\")"
   ]
  },
  {
   "cell_type": "code",
   "execution_count": 469,
   "id": "7a10f9c6",
   "metadata": {},
   "outputs": [],
   "source": [
    "url7 = 'https://www.flipkart.com/apple-iphone-11-black-64-gb-includesearpods-poweradapter/p/itm0f37c2240b217?pid=MOBFKCTSVZAXUHGR&lid=LSTMOBFKCTSVZAXUHGREPBFGI&marketplace'\n",
    "driver.get(url7)"
   ]
  },
  {
   "cell_type": "code",
   "execution_count": 470,
   "id": "2c1f3e0a",
   "metadata": {},
   "outputs": [],
   "source": [
    "all_rev = driver.find_element_by_xpath('//div[@class=\"_3UAT2v _16PBlm\"]//span')\n",
    "all_rev.click()"
   ]
  },
  {
   "cell_type": "code",
   "execution_count": 471,
   "id": "dfcef7dc",
   "metadata": {},
   "outputs": [
    {
     "data": {
      "text/plain": [
       "{'Rating': [], 'Summary': [], 'Full_Review': []}"
      ]
     },
     "execution_count": 471,
     "metadata": {},
     "output_type": "execute_result"
    }
   ],
   "source": [
    "Product = {}\n",
    "\n",
    "Product['Rating'] = []\n",
    "Product['Summary'] = []\n",
    "Product['Full_Review'] = []\n",
    "\n",
    "Product"
   ]
  },
  {
   "cell_type": "code",
   "execution_count": 476,
   "id": "f77c510b",
   "metadata": {},
   "outputs": [],
   "source": [
    "rating = driver.find_elements_by_xpath('//div[@class=\"col _2wzgFH K0kLPL\"]')\n",
    "summary = driver.find_elements_by_xpath('//p[@class=\"_2-N8zT\"]')\n",
    "review = driver.find_elements_by_xpath('//div[@class=\"t-ZTKy\"]')"
   ]
  },
  {
   "cell_type": "code",
   "execution_count": 477,
   "id": "bc1cf264",
   "metadata": {},
   "outputs": [],
   "source": [
    "r1 = []\n",
    "for i in range(0,len(rating)):\n",
    "    r1.append(rating[i].text)\n",
    "for j in range(0,len(r1)):\n",
    "    Product['Rating'].append(r1[j][0])\n",
    "    \n",
    "for i in summary:\n",
    "    Product['Summary'].append(i.text)\n",
    "\n",
    "for i in review:\n",
    "    Product['Full_Review'].append(i.text.replace('\\n',''))"
   ]
  },
  {
   "cell_type": "code",
   "execution_count": 478,
   "id": "4b37becc",
   "metadata": {},
   "outputs": [
    {
     "data": {
      "text/plain": [
       "['5', '5', '5', '5', '5', '5', '4', '5', '5', '5']"
      ]
     },
     "execution_count": 478,
     "metadata": {},
     "output_type": "execute_result"
    }
   ],
   "source": [
    "Product['Rating']"
   ]
  },
  {
   "cell_type": "code",
   "execution_count": 479,
   "id": "45b22ca9",
   "metadata": {},
   "outputs": [
    {
     "name": "stdout",
     "output_type": "stream",
     "text": [
      "10 10 10\n"
     ]
    }
   ],
   "source": [
    "print(len(Product['Summary']),\n",
    "len(Product['Rating']),\n",
    "len(Product['Full_Review']))"
   ]
  },
  {
   "cell_type": "code",
   "execution_count": 480,
   "id": "efe5872b",
   "metadata": {},
   "outputs": [],
   "source": [
    "next = driver.find_element_by_xpath('/html/body/div[1]/div/div[3]/div/div/div[2]/div[13]/div/div/nav/a[11]/span')\n",
    "next.click()\n"
   ]
  },
  {
   "cell_type": "code",
   "execution_count": 481,
   "id": "f5539679",
   "metadata": {},
   "outputs": [],
   "source": [
    "rating = driver.find_elements_by_xpath('//div[@class=\"col _2wzgFH K0kLPL\"]')\n",
    "summary = driver.find_elements_by_xpath('//p[@class=\"_2-N8zT\"]')\n",
    "review = driver.find_elements_by_xpath('//div[@class=\"t-ZTKy\"]')"
   ]
  },
  {
   "cell_type": "code",
   "execution_count": 482,
   "id": "37d72667",
   "metadata": {},
   "outputs": [],
   "source": [
    "r1 = []\n",
    "\n",
    "for i in range(0,len(rating)):\n",
    "    r1.append(rating[i].text)\n",
    "for j in range(0,len(r1)):\n",
    "    Product['Rating'].append(r1[j][0])\n",
    "    \n",
    "for i in summary:\n",
    "    Product['Summary'].append(i.text)\n",
    "\n",
    "for i in review:\n",
    "    Product['Full_Review'].append(i.text.replace('\\n',''))"
   ]
  },
  {
   "cell_type": "code",
   "execution_count": 483,
   "id": "f7c2d00c",
   "metadata": {},
   "outputs": [
    {
     "name": "stdout",
     "output_type": "stream",
     "text": [
      "20 20 20\n"
     ]
    }
   ],
   "source": [
    "print(len(Product['Summary']),\n",
    "len(Product['Rating']),\n",
    "len(Product['Full_Review']))"
   ]
  },
  {
   "cell_type": "code",
   "execution_count": 484,
   "id": "a49178e3",
   "metadata": {},
   "outputs": [],
   "source": [
    "next = driver.find_element_by_xpath('/html/body/div[1]/div/div[3]/div/div/div[2]/div[13]/div/div/nav/a[12]')\n",
    "next.click()\n"
   ]
  },
  {
   "cell_type": "code",
   "execution_count": 485,
   "id": "7e3b02d6",
   "metadata": {},
   "outputs": [],
   "source": [
    "rating = driver.find_elements_by_xpath('//div[@class=\"col _2wzgFH K0kLPL\"]')\n",
    "summary = driver.find_elements_by_xpath('//p[@class=\"_2-N8zT\"]')\n",
    "review = driver.find_elements_by_xpath('//div[@class=\"t-ZTKy\"]')"
   ]
  },
  {
   "cell_type": "code",
   "execution_count": 486,
   "id": "8172fd0b",
   "metadata": {},
   "outputs": [],
   "source": [
    "r1 = []\n",
    "\n",
    "for i in range(0,len(rating)):\n",
    "    r1.append(rating[i].text)\n",
    "for j in range(0,len(r1)):\n",
    "    Product['Rating'].append(r1[j][0])\n",
    "    \n",
    "for i in summary:\n",
    "    Product['Summary'].append(i.text)\n",
    "\n",
    "for i in review:\n",
    "    Product['Full_Review'].append(i.text.replace('\\n',''))"
   ]
  },
  {
   "cell_type": "code",
   "execution_count": 487,
   "id": "11596ce0",
   "metadata": {},
   "outputs": [],
   "source": [
    "next = driver.find_element_by_xpath('/html/body/div[1]/div/div[3]/div/div/div[2]/div[13]/div/div/nav/a[12]')\n",
    "next.click()\n"
   ]
  },
  {
   "cell_type": "code",
   "execution_count": 488,
   "id": "bce464d0",
   "metadata": {},
   "outputs": [],
   "source": [
    "rating = driver.find_elements_by_xpath('//div[@class=\"col _2wzgFH K0kLPL\"]')\n",
    "summary = driver.find_elements_by_xpath('//p[@class=\"_2-N8zT\"]')\n",
    "review = driver.find_elements_by_xpath('//div[@class=\"t-ZTKy\"]')"
   ]
  },
  {
   "cell_type": "code",
   "execution_count": 489,
   "id": "b3f7cc91",
   "metadata": {},
   "outputs": [],
   "source": [
    "r1 = []\n",
    "\n",
    "for i in range(0,len(rating)):\n",
    "    r1.append(rating[i].text)\n",
    "for j in range(0,len(r1)):\n",
    "    Product['Rating'].append(r1[j][0])\n",
    "    \n",
    "for i in summary:\n",
    "    Product['Summary'].append(i.text)\n",
    "\n",
    "for i in review:\n",
    "    Product['Full_Review'].append(i.text.replace('\\n',''))"
   ]
  },
  {
   "cell_type": "code",
   "execution_count": 490,
   "id": "c14ded52",
   "metadata": {},
   "outputs": [
    {
     "name": "stdout",
     "output_type": "stream",
     "text": [
      "40 40 40\n"
     ]
    }
   ],
   "source": [
    "print(len(Product['Summary']),\n",
    "len(Product['Rating']),\n",
    "len(Product['Full_Review']))"
   ]
  },
  {
   "cell_type": "code",
   "execution_count": 491,
   "id": "cb775cc6",
   "metadata": {},
   "outputs": [],
   "source": [
    "next = driver.find_element_by_xpath('/html/body/div[1]/div/div[3]/div/div/div[2]/div[13]/div/div/nav/a[12]')\n",
    "next.click()\n"
   ]
  },
  {
   "cell_type": "code",
   "execution_count": 492,
   "id": "19d01a04",
   "metadata": {},
   "outputs": [],
   "source": [
    "rating = driver.find_elements_by_xpath('//div[@class=\"col _2wzgFH K0kLPL\"]')\n",
    "summary = driver.find_elements_by_xpath('//p[@class=\"_2-N8zT\"]')\n",
    "review = driver.find_elements_by_xpath('//div[@class=\"t-ZTKy\"]')"
   ]
  },
  {
   "cell_type": "code",
   "execution_count": 493,
   "id": "ef20a94c",
   "metadata": {},
   "outputs": [],
   "source": [
    "r1 = []\n",
    "\n",
    "for i in range(0,len(rating)):\n",
    "    r1.append(rating[i].text)\n",
    "for j in range(0,len(r1)):\n",
    "    Product['Rating'].append(r1[j][0])\n",
    "    \n",
    "for i in summary:\n",
    "    Product['Summary'].append(i.text)\n",
    "\n",
    "for i in review:\n",
    "    Product['Full_Review'].append(i.text.replace('\\n',''))"
   ]
  },
  {
   "cell_type": "code",
   "execution_count": 494,
   "id": "6cc6d730",
   "metadata": {},
   "outputs": [],
   "source": [
    "time.sleep(3)\n",
    "next = driver.find_element_by_xpath('/html/body/div[1]/div/div[3]/div/div/div[2]/div[13]/div/div/nav/a[12]')\n",
    "next.click()\n"
   ]
  },
  {
   "cell_type": "code",
   "execution_count": 495,
   "id": "f4cf5368",
   "metadata": {},
   "outputs": [],
   "source": [
    "rating = driver.find_elements_by_xpath('//div[@class=\"col _2wzgFH K0kLPL\"]')\n",
    "summary = driver.find_elements_by_xpath('//p[@class=\"_2-N8zT\"]')\n",
    "review = driver.find_elements_by_xpath('//div[@class=\"t-ZTKy\"]')"
   ]
  },
  {
   "cell_type": "code",
   "execution_count": 496,
   "id": "0e53892f",
   "metadata": {},
   "outputs": [],
   "source": [
    "r1 = []\n",
    "\n",
    "for i in range(0,len(rating)):\n",
    "    r1.append(rating[i].text)\n",
    "for j in range(0,len(r1)):\n",
    "    Product['Rating'].append(r1[j][0])\n",
    "    \n",
    "for i in summary:\n",
    "    Product['Summary'].append(i.text)\n",
    "\n",
    "for i in review:\n",
    "    Product['Full_Review'].append(i.text.replace('\\n',''))"
   ]
  },
  {
   "cell_type": "code",
   "execution_count": 497,
   "id": "2ca2e0f0",
   "metadata": {},
   "outputs": [],
   "source": [
    "next = driver.find_element_by_xpath('/html/body/div[1]/div/div[3]/div/div/div[2]/div[13]/div/div/nav/a[12]')\n",
    "next.click()\n"
   ]
  },
  {
   "cell_type": "code",
   "execution_count": 498,
   "id": "79132013",
   "metadata": {},
   "outputs": [],
   "source": [
    "rating = driver.find_elements_by_xpath('//div[@class=\"col _2wzgFH K0kLPL\"]')\n",
    "summary = driver.find_elements_by_xpath('//p[@class=\"_2-N8zT\"]')\n",
    "review = driver.find_elements_by_xpath('//div[@class=\"t-ZTKy\"]')"
   ]
  },
  {
   "cell_type": "code",
   "execution_count": 499,
   "id": "08b79577",
   "metadata": {},
   "outputs": [],
   "source": [
    "r1 = []\n",
    "\n",
    "for i in range(0,len(rating)):\n",
    "    r1.append(rating[i].text)\n",
    "for j in range(0,len(r1)):\n",
    "    Product['Rating'].append(r1[j][0])\n",
    "    \n",
    "for i in summary:\n",
    "    Product['Summary'].append(i.text)\n",
    "\n",
    "for i in review:\n",
    "    Product['Full_Review'].append(i.text.replace('\\n',''))"
   ]
  },
  {
   "cell_type": "code",
   "execution_count": 500,
   "id": "3eb636d6",
   "metadata": {},
   "outputs": [
    {
     "name": "stdout",
     "output_type": "stream",
     "text": [
      "70 70 70\n"
     ]
    }
   ],
   "source": [
    "print(len(Product['Summary']),\n",
    "len(Product['Rating']),\n",
    "len(Product['Full_Review']))"
   ]
  },
  {
   "cell_type": "code",
   "execution_count": 501,
   "id": "e28885d7",
   "metadata": {},
   "outputs": [],
   "source": [
    "time.sleep(2)\n",
    "next = driver.find_element_by_xpath('/html/body/div[1]/div/div[3]/div/div/div[2]/div[13]/div/div/nav/a[12]')\n",
    "next.click()\n"
   ]
  },
  {
   "cell_type": "code",
   "execution_count": 502,
   "id": "158b799a",
   "metadata": {},
   "outputs": [],
   "source": [
    "rating = driver.find_elements_by_xpath('//div[@class=\"col _2wzgFH K0kLPL\"]')\n",
    "summary = driver.find_elements_by_xpath('//p[@class=\"_2-N8zT\"]')\n",
    "review = driver.find_elements_by_xpath('//div[@class=\"t-ZTKy\"]')"
   ]
  },
  {
   "cell_type": "code",
   "execution_count": 503,
   "id": "29f01ad3",
   "metadata": {},
   "outputs": [],
   "source": [
    "r1 = []\n",
    "\n",
    "for i in range(0,len(rating)):\n",
    "    r1.append(rating[i].text)\n",
    "for j in range(0,len(r1)):\n",
    "    Product['Rating'].append(r1[j][0])\n",
    "    \n",
    "for i in summary:\n",
    "    Product['Summary'].append(i.text)\n",
    "\n",
    "for i in review:\n",
    "    Product['Full_Review'].append(i.text.replace('\\n',''))"
   ]
  },
  {
   "cell_type": "code",
   "execution_count": 504,
   "id": "b751b580",
   "metadata": {},
   "outputs": [
    {
     "name": "stdout",
     "output_type": "stream",
     "text": [
      "80 80 80\n"
     ]
    }
   ],
   "source": [
    "print(len(Product['Summary']),\n",
    "len(Product['Rating']),\n",
    "len(Product['Full_Review']))"
   ]
  },
  {
   "cell_type": "code",
   "execution_count": 505,
   "id": "dc9f61c6",
   "metadata": {},
   "outputs": [],
   "source": [
    "next = driver.find_element_by_xpath('/html/body/div[1]/div/div[3]/div/div/div[2]/div[13]/div/div/nav/a[12]')\n",
    "next.click()\n"
   ]
  },
  {
   "cell_type": "code",
   "execution_count": 508,
   "id": "c9c60f61",
   "metadata": {},
   "outputs": [],
   "source": [
    "time.sleep(2)\n",
    "rating = driver.find_elements_by_xpath('//div[@class=\"col _2wzgFH K0kLPL\"]')\n",
    "summary = driver.find_elements_by_xpath('//p[@class=\"_2-N8zT\"]')\n",
    "review = driver.find_elements_by_xpath('//div[@class=\"t-ZTKy\"]')"
   ]
  },
  {
   "cell_type": "code",
   "execution_count": 509,
   "id": "6437c341",
   "metadata": {},
   "outputs": [],
   "source": [
    "r1 = []\n",
    "\n",
    "for i in range(0,len(rating)):\n",
    "    r1.append(rating[i].text)\n",
    "for j in range(0,len(r1)):\n",
    "    Product['Rating'].append(r1[j][0])\n",
    "    \n",
    "for i in summary:\n",
    "    Product['Summary'].append(i.text)\n",
    "\n",
    "for i in review:\n",
    "    Product['Full_Review'].append(i.text.replace('\\n',''))"
   ]
  },
  {
   "cell_type": "code",
   "execution_count": 510,
   "id": "30d90861",
   "metadata": {},
   "outputs": [
    {
     "name": "stdout",
     "output_type": "stream",
     "text": [
      "90 90 90\n"
     ]
    }
   ],
   "source": [
    "print(len(Product['Summary']),\n",
    "len(Product['Rating']),\n",
    "len(Product['Full_Review']))"
   ]
  },
  {
   "cell_type": "code",
   "execution_count": 511,
   "id": "10b3cb39",
   "metadata": {},
   "outputs": [],
   "source": [
    "next = driver.find_element_by_xpath('/html/body/div[1]/div/div[3]/div/div/div[2]/div[13]/div/div/nav/a[12]')\n",
    "next.click()"
   ]
  },
  {
   "cell_type": "code",
   "execution_count": 514,
   "id": "29d55693",
   "metadata": {},
   "outputs": [],
   "source": [
    "time.sleep(2)\n",
    "rating = driver.find_elements_by_xpath('//div[@class=\"col _2wzgFH K0kLPL\"]')\n",
    "summary = driver.find_elements_by_xpath('//p[@class=\"_2-N8zT\"]')\n",
    "review = driver.find_elements_by_xpath('//div[@class=\"t-ZTKy\"]')"
   ]
  },
  {
   "cell_type": "code",
   "execution_count": 515,
   "id": "ab1ee678",
   "metadata": {},
   "outputs": [],
   "source": [
    "r1 = []\n",
    "\n",
    "for i in range(0,len(rating)):\n",
    "    r1.append(rating[i].text)\n",
    "for j in range(0,len(r1)):\n",
    "    Product['Rating'].append(r1[j][0])\n",
    "    \n",
    "for i in summary:\n",
    "    Product['Summary'].append(i.text)\n",
    "\n",
    "for i in review:\n",
    "    Product['Full_Review'].append(i.text.replace('\\n',''))"
   ]
  },
  {
   "cell_type": "code",
   "execution_count": 516,
   "id": "a8bbaca5",
   "metadata": {},
   "outputs": [
    {
     "name": "stdout",
     "output_type": "stream",
     "text": [
      "100 100 100\n"
     ]
    }
   ],
   "source": [
    "print(len(Product['Summary']),\n",
    "len(Product['Rating']),\n",
    "len(Product['Full_Review']))"
   ]
  },
  {
   "cell_type": "code",
   "execution_count": 517,
   "id": "d012eb38",
   "metadata": {},
   "outputs": [],
   "source": [
    "Product = pd.DataFrame(Product)"
   ]
  },
  {
   "cell_type": "code",
   "execution_count": 518,
   "id": "c2eccaaf",
   "metadata": {},
   "outputs": [
    {
     "data": {
      "text/html": [
       "<div>\n",
       "<style scoped>\n",
       "    .dataframe tbody tr th:only-of-type {\n",
       "        vertical-align: middle;\n",
       "    }\n",
       "\n",
       "    .dataframe tbody tr th {\n",
       "        vertical-align: top;\n",
       "    }\n",
       "\n",
       "    .dataframe thead th {\n",
       "        text-align: right;\n",
       "    }\n",
       "</style>\n",
       "<table border=\"1\" class=\"dataframe\">\n",
       "  <thead>\n",
       "    <tr style=\"text-align: right;\">\n",
       "      <th></th>\n",
       "      <th>Rating</th>\n",
       "      <th>Summary</th>\n",
       "      <th>Full_Review</th>\n",
       "    </tr>\n",
       "  </thead>\n",
       "  <tbody>\n",
       "    <tr>\n",
       "      <th>0</th>\n",
       "      <td>5</td>\n",
       "      <td>Brilliant</td>\n",
       "      <td>The Best Phone for the MoneyThe iPhone 11 offe...</td>\n",
       "    </tr>\n",
       "    <tr>\n",
       "      <th>1</th>\n",
       "      <td>5</td>\n",
       "      <td>Perfect product!</td>\n",
       "      <td>Amazing phone with great cameras and better ba...</td>\n",
       "    </tr>\n",
       "    <tr>\n",
       "      <th>2</th>\n",
       "      <td>5</td>\n",
       "      <td>Fabulous!</td>\n",
       "      <td>This is my first iOS phone. I am very happy wi...</td>\n",
       "    </tr>\n",
       "    <tr>\n",
       "      <th>3</th>\n",
       "      <td>5</td>\n",
       "      <td>Simply awesome</td>\n",
       "      <td>Really satisfied with the Product I received.....</td>\n",
       "    </tr>\n",
       "    <tr>\n",
       "      <th>4</th>\n",
       "      <td>5</td>\n",
       "      <td>Worth every penny</td>\n",
       "      <td>Previously I was using one plus 3t it was a gr...</td>\n",
       "    </tr>\n",
       "    <tr>\n",
       "      <th>...</th>\n",
       "      <td>...</td>\n",
       "      <td>...</td>\n",
       "      <td>...</td>\n",
       "    </tr>\n",
       "    <tr>\n",
       "      <th>95</th>\n",
       "      <td>5</td>\n",
       "      <td>Best in the market!</td>\n",
       "      <td>The best all rounder iphone. Flipkart is doing...</td>\n",
       "    </tr>\n",
       "    <tr>\n",
       "      <th>96</th>\n",
       "      <td>5</td>\n",
       "      <td>Brilliant</td>\n",
       "      <td>A wort full value for money decision it’s . Si...</td>\n",
       "    </tr>\n",
       "    <tr>\n",
       "      <th>97</th>\n",
       "      <td>4</td>\n",
       "      <td>Wonderful</td>\n",
       "      <td>I genuinely liked it. One of the best mobile p...</td>\n",
       "    </tr>\n",
       "    <tr>\n",
       "      <th>98</th>\n",
       "      <td>4</td>\n",
       "      <td>Nice product</td>\n",
       "      <td>If you are looking for a premium phone under 5...</td>\n",
       "    </tr>\n",
       "    <tr>\n",
       "      <th>99</th>\n",
       "      <td>4</td>\n",
       "      <td>Good quality product</td>\n",
       "      <td>Awesome camera, smooth and fast UI, display is...</td>\n",
       "    </tr>\n",
       "  </tbody>\n",
       "</table>\n",
       "<p>100 rows × 3 columns</p>\n",
       "</div>"
      ],
      "text/plain": [
       "   Rating               Summary  \\\n",
       "0       5             Brilliant   \n",
       "1       5      Perfect product!   \n",
       "2       5             Fabulous!   \n",
       "3       5        Simply awesome   \n",
       "4       5     Worth every penny   \n",
       "..    ...                   ...   \n",
       "95      5   Best in the market!   \n",
       "96      5             Brilliant   \n",
       "97      4             Wonderful   \n",
       "98      4          Nice product   \n",
       "99      4  Good quality product   \n",
       "\n",
       "                                          Full_Review  \n",
       "0   The Best Phone for the MoneyThe iPhone 11 offe...  \n",
       "1   Amazing phone with great cameras and better ba...  \n",
       "2   This is my first iOS phone. I am very happy wi...  \n",
       "3   Really satisfied with the Product I received.....  \n",
       "4   Previously I was using one plus 3t it was a gr...  \n",
       "..                                                ...  \n",
       "95  The best all rounder iphone. Flipkart is doing...  \n",
       "96  A wort full value for money decision it’s . Si...  \n",
       "97  I genuinely liked it. One of the best mobile p...  \n",
       "98  If you are looking for a premium phone under 5...  \n",
       "99  Awesome camera, smooth and fast UI, display is...  \n",
       "\n",
       "[100 rows x 3 columns]"
      ]
     },
     "execution_count": 518,
     "metadata": {},
     "output_type": "execute_result"
    }
   ],
   "source": [
    "Product"
   ]
  },
  {
   "cell_type": "markdown",
   "id": "39a86ebe",
   "metadata": {},
   "source": [
    "_____________________________________________________"
   ]
  },
  {
   "cell_type": "markdown",
   "id": "3774fca6",
   "metadata": {},
   "source": [
    "### Q8: Scrape data for first 100 sneakers you find when you visit flipkart.com and search for “sneakers” in the search field."
   ]
  },
  {
   "cell_type": "markdown",
   "id": "1954feac",
   "metadata": {},
   "source": [
    "Scrape 4 attributes of each sneaker :\n",
    "1. Brand\n",
    "2. Product Description\n",
    "3. Price\n",
    "4. discount %\n"
   ]
  },
  {
   "cell_type": "code",
   "execution_count": 69,
   "id": "42b97e4a",
   "metadata": {},
   "outputs": [],
   "source": [
    "import selenium\n",
    "import pandas as pd\n",
    "from selenium import webdriver\n",
    "from time import sleep\n",
    "import time"
   ]
  },
  {
   "cell_type": "code",
   "execution_count": 81,
   "id": "173621d3",
   "metadata": {},
   "outputs": [],
   "source": [
    "    driver = webdriver.Chrome(r\"C:\\Users\\91977\\Downloads\\chromedriver_win32\\chromedriver.exe\")\n",
    "    url8 = 'https://www.flipkart.com/'\n",
    "\n",
    "    driver.get(url8)    \n",
    "    close = driver.find_element_by_xpath('//button[@class=\"_2KpZ6l _2doB4z\"]')\n",
    "    close.click()\n",
    "\n",
    "    search_product8 = driver.find_element_by_xpath('/html/body/div[1]/div/div[1]/div[1]/div[2]/div[2]/form/div/div/input')\n",
    "    search_product8.send_keys('sneakers')\n",
    "\n",
    "    search_btn8 = driver.find_element_by_xpath('//button[@class=\"L0Z3Pu\"]')\n",
    "    search_btn8.click()\n",
    "    \n",
    "    time.sleep(3)\n",
    "    for j in range(100):\n",
    "        brand8 = driver.find_elements_by_xpath('//div[@class=\"_2WkVRV\"]')\n",
    "        Brand1 = []\n",
    "        for i in brand8:\n",
    "            Brand1.append(i.text)\n",
    "\n",
    "        desc8 = driver.find_elements_by_xpath('//div[@class=\"_2B099V\"]//a')\n",
    "        description1 = []\n",
    "        for i in range(0,len(desc8),2):\n",
    "            description1.append(desc8[i].text)\n",
    "        description1\n",
    "\n",
    "        price = driver.find_elements_by_xpath('//div[@class=\"_25b18c\"]//div[1]')\n",
    "        price1 = []\n",
    "        for i in price:\n",
    "            price1.append(i.text)\n",
    "        price1 = price1[:40]\n",
    "\n",
    "        dis = driver.find_elements_by_xpath('//div[@class=\"_3Ay6Sb\"]//span')\n",
    "        discount1 = []\n",
    "        for i in dis:\n",
    "             discount1.append(i.text)\n",
    "        break\n",
    "    \n",
    "    time.sleep(3)\n",
    "    # going on next page\n",
    "    next_page1 = driver.find_element_by_xpath('//a[@class=\"ge-49M\"]')\n",
    "    next_page1.click()\n",
    "    time.sleep(3)\n",
    "    for j in range(100):\n",
    "        brand8 = driver.find_elements_by_xpath('//div[@class=\"_2WkVRV\"]')\n",
    "        Brand2 = []\n",
    "        for i in brand8:\n",
    "            Brand2.append(i.text)\n",
    "\n",
    "        desc8 = driver.find_elements_by_xpath('//div[@class=\"_2B099V\"]//a')\n",
    "        description2 = []\n",
    "        for i in range(0,len(desc8),2):\n",
    "            description2.append(desc8[i].text)\n",
    "\n",
    "        price = driver.find_elements_by_xpath('//div[@class=\"_25b18c\"]//div[1]')\n",
    "        price2 = []\n",
    "        for i in price:\n",
    "            price2.append(i.text)\n",
    "        price2 = price2[:40]\n",
    "\n",
    "        dis = driver.find_elements_by_xpath('//div[@class=\"_25b18c\"]//span')\n",
    "        discount2 = []\n",
    "        for i in dis:\n",
    "             discount2.append(i.text)\n",
    "        discount2 = discount2[:40]\n",
    "        break\n",
    "    \n",
    "    time.sleep(3)                \n",
    "    next_page2 = driver.find_element_by_xpath('/html/body/div[1]/div/div[3]/div[1]/div[2]/div[12]/div/div/nav/a[4]')\n",
    "    next_page2.click()\n",
    "    time.sleep(3)\n",
    "    for j in range(100):\n",
    "        brand8 = driver.find_elements_by_xpath('//div[@class=\"_2WkVRV\"]')\n",
    "        Brand3 = []\n",
    "        for i in range(0,20):\n",
    "            Brand3.append(brand8[i].text)\n",
    "\n",
    "        desc8 = driver.find_elements_by_xpath('//div[@class=\"_2B099V\"]//a')\n",
    "        description3 = []\n",
    "        for i in range(0,len(desc8),2):\n",
    "            description3.append(desc8[i].text)\n",
    "        description3 = description3[:20]\n",
    "\n",
    "        price = driver.find_elements_by_xpath('//div[@class=\"_25b18c\"]//div[1]')\n",
    "        price3 = []\n",
    "        for i in price:\n",
    "            price3.append(i.text)\n",
    "        price3 = price3[:20]\n",
    "\n",
    "        dis = driver.find_elements_by_xpath('//div[@class=\"_25b18c\"]//span')\n",
    "        discount3 = []\n",
    "        for i in dis:\n",
    "             discount3.append(i.text)\n",
    "        discount3 = discount3[:20]\n",
    "        break\n",
    "        \n"
   ]
  },
  {
   "cell_type": "code",
   "execution_count": 84,
   "id": "470e0194",
   "metadata": {},
   "outputs": [
    {
     "data": {
      "text/html": [
       "<div>\n",
       "<style scoped>\n",
       "    .dataframe tbody tr th:only-of-type {\n",
       "        vertical-align: middle;\n",
       "    }\n",
       "\n",
       "    .dataframe tbody tr th {\n",
       "        vertical-align: top;\n",
       "    }\n",
       "\n",
       "    .dataframe thead th {\n",
       "        text-align: right;\n",
       "    }\n",
       "</style>\n",
       "<table border=\"1\" class=\"dataframe\">\n",
       "  <thead>\n",
       "    <tr style=\"text-align: right;\">\n",
       "      <th></th>\n",
       "      <th>Brand</th>\n",
       "      <th>Description</th>\n",
       "      <th>Price</th>\n",
       "      <th>Discount</th>\n",
       "    </tr>\n",
       "  </thead>\n",
       "  <tbody>\n",
       "    <tr>\n",
       "      <th>0</th>\n",
       "      <td>DUCATI</td>\n",
       "      <td>Sneakers For Men</td>\n",
       "      <td>₹1,403</td>\n",
       "      <td>62% off</td>\n",
       "    </tr>\n",
       "    <tr>\n",
       "      <th>1</th>\n",
       "      <td>ROCKFIELD</td>\n",
       "      <td>Sneakers For Men</td>\n",
       "      <td>₹474</td>\n",
       "      <td>52% off</td>\n",
       "    </tr>\n",
       "    <tr>\n",
       "      <th>2</th>\n",
       "      <td>Labbin</td>\n",
       "      <td>Sneakers For Men</td>\n",
       "      <td>₹499</td>\n",
       "      <td>50% off</td>\n",
       "    </tr>\n",
       "    <tr>\n",
       "      <th>3</th>\n",
       "      <td>Robbie jones</td>\n",
       "      <td>Casual Sneakers Shoes For Men Sneakers For Men</td>\n",
       "      <td>₹379</td>\n",
       "      <td>62% off</td>\n",
       "    </tr>\n",
       "    <tr>\n",
       "      <th>4</th>\n",
       "      <td>CALCADOS</td>\n",
       "      <td>Modern Trendy Shoes Combo pack of 4 Sneakers F...</td>\n",
       "      <td>₹748</td>\n",
       "      <td>62% off</td>\n",
       "    </tr>\n",
       "    <tr>\n",
       "      <th>...</th>\n",
       "      <td>...</td>\n",
       "      <td>...</td>\n",
       "      <td>...</td>\n",
       "      <td>...</td>\n",
       "    </tr>\n",
       "    <tr>\n",
       "      <th>95</th>\n",
       "      <td>Deals4you</td>\n",
       "      <td>Sneakers For Men</td>\n",
       "      <td>₹359</td>\n",
       "      <td>64% off</td>\n",
       "    </tr>\n",
       "    <tr>\n",
       "      <th>96</th>\n",
       "      <td>World Wear Footwear</td>\n",
       "      <td>Combo Pack of 4 Latest Collection Stylish Casu...</td>\n",
       "      <td>₹499</td>\n",
       "      <td>81% off</td>\n",
       "    </tr>\n",
       "    <tr>\n",
       "      <th>97</th>\n",
       "      <td>RODDICK SHOES</td>\n",
       "      <td>Fashion Outdoor Canvas Casual Light Weight Lac...</td>\n",
       "      <td>₹499</td>\n",
       "      <td>50% off</td>\n",
       "    </tr>\n",
       "    <tr>\n",
       "      <th>98</th>\n",
       "      <td>Bonexy</td>\n",
       "      <td>Sneakers For Men</td>\n",
       "      <td>₹474</td>\n",
       "      <td>52% off</td>\n",
       "    </tr>\n",
       "    <tr>\n",
       "      <th>99</th>\n",
       "      <td>Next INN</td>\n",
       "      <td>Sneakers For Men</td>\n",
       "      <td>₹599</td>\n",
       "      <td>40% off</td>\n",
       "    </tr>\n",
       "  </tbody>\n",
       "</table>\n",
       "<p>100 rows × 4 columns</p>\n",
       "</div>"
      ],
      "text/plain": [
       "                  Brand                                        Description  \\\n",
       "0                DUCATI                                   Sneakers For Men   \n",
       "1             ROCKFIELD                                   Sneakers For Men   \n",
       "2                Labbin                                   Sneakers For Men   \n",
       "3          Robbie jones     Casual Sneakers Shoes For Men Sneakers For Men   \n",
       "4              CALCADOS  Modern Trendy Shoes Combo pack of 4 Sneakers F...   \n",
       "..                  ...                                                ...   \n",
       "95            Deals4you                                   Sneakers For Men   \n",
       "96  World Wear Footwear  Combo Pack of 4 Latest Collection Stylish Casu...   \n",
       "97        RODDICK SHOES  Fashion Outdoor Canvas Casual Light Weight Lac...   \n",
       "98               Bonexy                                   Sneakers For Men   \n",
       "99             Next INN                                   Sneakers For Men   \n",
       "\n",
       "     Price Discount  \n",
       "0   ₹1,403  62% off  \n",
       "1     ₹474  52% off  \n",
       "2     ₹499  50% off  \n",
       "3     ₹379  62% off  \n",
       "4     ₹748  62% off  \n",
       "..     ...      ...  \n",
       "95    ₹359  64% off  \n",
       "96    ₹499  81% off  \n",
       "97    ₹499  50% off  \n",
       "98    ₹474  52% off  \n",
       "99    ₹599  40% off  \n",
       "\n",
       "[100 rows x 4 columns]"
      ]
     },
     "execution_count": 84,
     "metadata": {},
     "output_type": "execute_result"
    }
   ],
   "source": [
    "    Flipkart_Sneakers = pd.DataFrame()\n",
    "\n",
    "    Flipkart_Sneakers['Brand'] = Brand1 + Brand2 + Brand3\n",
    "    Flipkart_Sneakers['Description'] = description1 + description2 + description3\n",
    "    Flipkart_Sneakers['Price'] = price1 + price2 + price3\n",
    "    Flipkart_Sneakers['Discount'] = discount1 + discount2 + discount3\n",
    "    \n",
    "    Flipkart_Sneakers"
   ]
  },
  {
   "cell_type": "markdown",
   "id": "b76b518e",
   "metadata": {},
   "source": [
    "#### Q9: Set Price filter to “Rs. 6649 to Rs. 13099” , Color filter to “Black” And then scrape First 100 shoes data you get. The data should include “Brand” of the shoes , Short Shoe description, price of the shoe \n",
    "\n",
    "link - https://www.myntra.com/shoes"
   ]
  },
  {
   "cell_type": "code",
   "execution_count": 657,
   "id": "cff3879b",
   "metadata": {},
   "outputs": [],
   "source": [
    "    driver = webdriver.Chrome(r\"C:\\Users\\91977\\Downloads\\chromedriver_win32\\chromedriver.exe\")\n",
    "    url8 = 'https://www.myntra.com/shoes'\n",
    "    driver.get(url8)\n",
    "    \n",
    "    time.sleep(3)\n",
    "    price_filt = driver.find_element_by_xpath('//ul[@class=\"price-list\"]//li[2]')\n",
    "    price_filt.click()\n",
    "    "
   ]
  },
  {
   "cell_type": "code",
   "execution_count": 658,
   "id": "be067095",
   "metadata": {},
   "outputs": [],
   "source": [
    "    time.sleep(3)\n",
    "    color_filt = driver.find_element_by_xpath('//li[@class=\"colour-listItem\"]//span[2]')\n",
    "    color_filt.click()"
   ]
  },
  {
   "cell_type": "code",
   "execution_count": 659,
   "id": "4c5f0480",
   "metadata": {},
   "outputs": [],
   "source": [
    "    time.sleep(3)\n",
    "    price_filt = driver.find_element_by_xpath('//ul[@class=\"price-list\"]//li[2]')\n",
    "    price_filt.click()"
   ]
  },
  {
   "cell_type": "code",
   "execution_count": 660,
   "id": "2b3ab07f",
   "metadata": {},
   "outputs": [],
   "source": [
    "    Shoe_Brand = {}\n",
    "    Shoe_Brand['Brand'] = []\n",
    "    Shoe_Brand['Short_Description'] = []\n",
    "    Shoe_Brand['Price'] = []"
   ]
  },
  {
   "cell_type": "code",
   "execution_count": 661,
   "id": "5f4afd32",
   "metadata": {},
   "outputs": [
    {
     "data": {
      "text/plain": [
       "50"
      ]
     },
     "execution_count": 661,
     "metadata": {},
     "output_type": "execute_result"
    }
   ],
   "source": [
    "    \n",
    "    \n",
    "    time.sleep(3)\n",
    "    brd1 = driver.find_elements_by_xpath('//div[@class=\"product-productMetaInfo\"]/h3')\n",
    "    for i in brd1:\n",
    "        Shoe_Brand['Brand'].append(i.text)\n",
    "    len(Shoe_Brand['Brand'])\n",
    "    \n",
    "    time.sleep(3)\n",
    "    brd_d1 = driver.find_elements_by_xpath('//div[@class=\"product-productMetaInfo\"]/h4[1]')\n",
    "    for i in brd_d1:\n",
    "        Shoe_Brand['Short_Description'].append(i.text)\n",
    "    len(Shoe_Brand['Short_Description'])  "
   ]
  },
  {
   "cell_type": "code",
   "execution_count": 662,
   "id": "85c1dc5a",
   "metadata": {
    "scrolled": true
   },
   "outputs": [
    {
     "data": {
      "text/plain": [
       "50"
      ]
     },
     "execution_count": 662,
     "metadata": {},
     "output_type": "execute_result"
    }
   ],
   "source": [
    "len(Shoe_Brand['Brand'])"
   ]
  },
  {
   "cell_type": "code",
   "execution_count": 663,
   "id": "b11de7f3",
   "metadata": {
    "scrolled": false
   },
   "outputs": [],
   "source": [
    "    time.sleep(3)\n",
    "    brd_p1 = driver.find_elements_by_xpath('//div[@class=\"product-price\"]/span[1]')\n",
    "    \n",
    "    p = []\n",
    "    \n",
    "    for i in brd_p1:\n",
    "        p.append(i.text.replace('Rs.',' '))\n",
    "    for j in range(0,len(p)):\n",
    "        Shoe_Brand['Price'].append(p[j][:7])\n",
    "        "
   ]
  },
  {
   "cell_type": "code",
   "execution_count": 664,
   "id": "7c30680d",
   "metadata": {},
   "outputs": [
    {
     "data": {
      "text/plain": [
       "['  12316',\n",
       " '  8236 ',\n",
       " '  12316',\n",
       " '  9999',\n",
       " '  7195 ',\n",
       " '  8999',\n",
       " '  7375 ',\n",
       " '  7499 ',\n",
       " '  9999',\n",
       " '  10999',\n",
       " '  11999',\n",
       " '  7349 ',\n",
       " '  10999',\n",
       " '  7499 ',\n",
       " '  6999',\n",
       " '  8999',\n",
       " '  6999',\n",
       " '  7699 ',\n",
       " '  7375 ',\n",
       " '  9999',\n",
       " '  9659 ',\n",
       " '  9099 ',\n",
       " '  6999',\n",
       " '  6990',\n",
       " '  8999',\n",
       " '  6999',\n",
       " '  8999',\n",
       " '  6999 ',\n",
       " '  11249',\n",
       " '  7999',\n",
       " '  7857 ',\n",
       " '  7499',\n",
       " '  6999 ',\n",
       " '  6990',\n",
       " '  7999',\n",
       " '  9999',\n",
       " '  9999',\n",
       " '  6899 ',\n",
       " '  9999',\n",
       " '  6999 ',\n",
       " '  6990',\n",
       " '  6999',\n",
       " '  9990',\n",
       " '  7006 ',\n",
       " '  6999',\n",
       " '  6990',\n",
       " '  7495 ',\n",
       " '  6990',\n",
       " '  7499',\n",
       " '  9371 ']"
      ]
     },
     "execution_count": 664,
     "metadata": {},
     "output_type": "execute_result"
    }
   ],
   "source": [
    "Shoe_Brand['Price']"
   ]
  },
  {
   "cell_type": "code",
   "execution_count": 665,
   "id": "3cfa1039",
   "metadata": {},
   "outputs": [
    {
     "data": {
      "text/plain": [
       "50"
      ]
     },
     "execution_count": 665,
     "metadata": {},
     "output_type": "execute_result"
    }
   ],
   "source": [
    "len(Shoe_Brand['Price'])"
   ]
  },
  {
   "cell_type": "code",
   "execution_count": 666,
   "id": "66fe52d8",
   "metadata": {},
   "outputs": [],
   "source": [
    "Next_Page = driver.find_element_by_xpath('//li[@class=\"pagination-next\"]')\n",
    "Next_Page.click()"
   ]
  },
  {
   "cell_type": "code",
   "execution_count": 667,
   "id": "018ae0da",
   "metadata": {},
   "outputs": [
    {
     "data": {
      "text/plain": [
       "100"
      ]
     },
     "execution_count": 667,
     "metadata": {},
     "output_type": "execute_result"
    }
   ],
   "source": [
    "    \n",
    "    time.sleep(3)\n",
    "    brd2 = driver.find_elements_by_xpath('//div[@class=\"product-productMetaInfo\"]/h3')\n",
    "    for i in brd2:\n",
    "        Shoe_Brand['Brand'].append(i.text)\n",
    "    len(Shoe_Brand['Brand'])\n",
    "    \n",
    "    time.sleep(3)\n",
    "    brd_d2 = driver.find_elements_by_xpath('//div[@class=\"product-productMetaInfo\"]/h4[1]')\n",
    "    for i in brd_d2:\n",
    "        Shoe_Brand['Short_Description'].append(i.text)\n",
    "    len(Shoe_Brand['Short_Description'])  "
   ]
  },
  {
   "cell_type": "code",
   "execution_count": 668,
   "id": "b8638aaf",
   "metadata": {},
   "outputs": [],
   "source": [
    "    time.sleep(3)\n",
    "    brd_p2 = driver.find_elements_by_xpath('//div[@class=\"product-price\"]/span[1]')\n",
    "    \n",
    "    p2 = []\n",
    "    \n",
    "    for i in brd_p2:\n",
    "        p2.append(i.text.replace('Rs.',' '))\n",
    "    for j in range(0,len(p2)):\n",
    "        Shoe_Brand['Price'].append(p2[j][:7])"
   ]
  },
  {
   "cell_type": "code",
   "execution_count": 670,
   "id": "ab8d8c24",
   "metadata": {},
   "outputs": [
    {
     "name": "stdout",
     "output_type": "stream",
     "text": [
      "100 100 100\n"
     ]
    }
   ],
   "source": [
    "print(len(Shoe_Brand['Brand']),len(Shoe_Brand['Short_Description']),len(Shoe_Brand['Price']))"
   ]
  },
  {
   "cell_type": "code",
   "execution_count": 671,
   "id": "80a8f8c4",
   "metadata": {},
   "outputs": [],
   "source": [
    "    Shoe_Brand = pd.DataFrame(Shoe_Brand)"
   ]
  },
  {
   "cell_type": "code",
   "execution_count": 672,
   "id": "70ee3789",
   "metadata": {},
   "outputs": [
    {
     "data": {
      "text/html": [
       "<div>\n",
       "<style scoped>\n",
       "    .dataframe tbody tr th:only-of-type {\n",
       "        vertical-align: middle;\n",
       "    }\n",
       "\n",
       "    .dataframe tbody tr th {\n",
       "        vertical-align: top;\n",
       "    }\n",
       "\n",
       "    .dataframe thead th {\n",
       "        text-align: right;\n",
       "    }\n",
       "</style>\n",
       "<table border=\"1\" class=\"dataframe\">\n",
       "  <thead>\n",
       "    <tr style=\"text-align: right;\">\n",
       "      <th></th>\n",
       "      <th>Brand</th>\n",
       "      <th>Short_Description</th>\n",
       "      <th>Price</th>\n",
       "    </tr>\n",
       "  </thead>\n",
       "  <tbody>\n",
       "    <tr>\n",
       "      <th>0</th>\n",
       "      <td>Nike</td>\n",
       "      <td>Unisex LEBRON XVIII Basketball</td>\n",
       "      <td>12316</td>\n",
       "    </tr>\n",
       "    <tr>\n",
       "      <th>1</th>\n",
       "      <td>Nike</td>\n",
       "      <td>Men AIR ZOOM Running Shoes</td>\n",
       "      <td>8236</td>\n",
       "    </tr>\n",
       "    <tr>\n",
       "      <th>2</th>\n",
       "      <td>Nike</td>\n",
       "      <td>LEBRON XVIII Basketball Shoes</td>\n",
       "      <td>12316</td>\n",
       "    </tr>\n",
       "    <tr>\n",
       "      <th>3</th>\n",
       "      <td>ALDO</td>\n",
       "      <td>Men Sneakers</td>\n",
       "      <td>9999</td>\n",
       "    </tr>\n",
       "    <tr>\n",
       "      <th>4</th>\n",
       "      <td>Nike</td>\n",
       "      <td>Women FREE RN 5.0 Shoes</td>\n",
       "      <td>7195</td>\n",
       "    </tr>\n",
       "    <tr>\n",
       "      <th>...</th>\n",
       "      <td>...</td>\n",
       "      <td>...</td>\n",
       "      <td>...</td>\n",
       "    </tr>\n",
       "    <tr>\n",
       "      <th>95</th>\n",
       "      <td>Cole Haan</td>\n",
       "      <td>Women Sneakers</td>\n",
       "      <td>12999</td>\n",
       "    </tr>\n",
       "    <tr>\n",
       "      <th>96</th>\n",
       "      <td>Geox</td>\n",
       "      <td>Women Solid Leather Loafers</td>\n",
       "      <td>7999</td>\n",
       "    </tr>\n",
       "    <tr>\n",
       "      <th>97</th>\n",
       "      <td>Geox</td>\n",
       "      <td>Men Leather Formal Monks</td>\n",
       "      <td>7999</td>\n",
       "    </tr>\n",
       "    <tr>\n",
       "      <th>98</th>\n",
       "      <td>Heel &amp; Buckle London</td>\n",
       "      <td>Men Leather Formal Oxfords</td>\n",
       "      <td>7693</td>\n",
       "    </tr>\n",
       "    <tr>\n",
       "      <th>99</th>\n",
       "      <td>Geox</td>\n",
       "      <td>Women Woven Design Slip-On Sneakers</td>\n",
       "      <td>11990</td>\n",
       "    </tr>\n",
       "  </tbody>\n",
       "</table>\n",
       "<p>100 rows × 3 columns</p>\n",
       "</div>"
      ],
      "text/plain": [
       "                   Brand                    Short_Description    Price\n",
       "0                   Nike       Unisex LEBRON XVIII Basketball    12316\n",
       "1                   Nike           Men AIR ZOOM Running Shoes    8236 \n",
       "2                   Nike        LEBRON XVIII Basketball Shoes    12316\n",
       "3                   ALDO                         Men Sneakers     9999\n",
       "4                   Nike              Women FREE RN 5.0 Shoes    7195 \n",
       "..                   ...                                  ...      ...\n",
       "95             Cole Haan                       Women Sneakers    12999\n",
       "96                  Geox          Women Solid Leather Loafers     7999\n",
       "97                  Geox             Men Leather Formal Monks    7999 \n",
       "98  Heel & Buckle London           Men Leather Formal Oxfords    7693 \n",
       "99                  Geox  Women Woven Design Slip-On Sneakers    11990\n",
       "\n",
       "[100 rows x 3 columns]"
      ]
     },
     "execution_count": 672,
     "metadata": {},
     "output_type": "execute_result"
    }
   ],
   "source": [
    "    Shoe_Brand"
   ]
  },
  {
   "cell_type": "markdown",
   "id": "737a2df7",
   "metadata": {},
   "source": [
    "_________________________________"
   ]
  },
  {
   "cell_type": "markdown",
   "id": "4ff3bd6b",
   "metadata": {},
   "source": [
    "### Amazon Webscrapping"
   ]
  },
  {
   "cell_type": "code",
   "execution_count": 72,
   "id": "5d3511ae",
   "metadata": {},
   "outputs": [],
   "source": [
    "    driver = webdriver.Chrome(r\"C:\\Users\\91977\\Downloads\\chromedriver_win32\\chromedriver.exe\")\n"
   ]
  },
  {
   "cell_type": "code",
   "execution_count": 73,
   "id": "88657872",
   "metadata": {},
   "outputs": [],
   "source": [
    "    url9 = 'https://www.amazon.in/'\n",
    "    driver.get(url9)\n",
    "    \n",
    "    search_laptop = driver.find_element_by_id('twotabsearchtextbox')\n",
    "    search_laptop.send_keys('Laptop')\n",
    "\n",
    "    search_btn10 = driver.find_element_by_id('nav-search-submit-button')\n",
    "    search_btn10.click()"
   ]
  },
  {
   "cell_type": "code",
   "execution_count": 74,
   "id": "58ac1596",
   "metadata": {},
   "outputs": [],
   "source": [
    "    filter1 = driver.find_element_by_xpath('/html/body/div[1]/div[2]/div[1]/div/div[2]/div/div[3]/span/div[1]/span/div/div/div[6]/ul[1]/li[26]/span/a/span')\n",
    "    filter1.click()\n"
   ]
  },
  {
   "cell_type": "code",
   "execution_count": 75,
   "id": "fbe6fbab",
   "metadata": {},
   "outputs": [],
   "source": [
    "    \n",
    "    filter2 = driver.find_element_by_xpath('//*[@id=\"p_n_feature_thirteen_browse-bin/16757432031\"]/span/a/span')\n",
    "    filter2.click()"
   ]
  },
  {
   "cell_type": "code",
   "execution_count": 76,
   "id": "5bb7116a",
   "metadata": {},
   "outputs": [],
   "source": [
    "    Laptop = {}\n",
    "    Laptop['Title'] = []\n",
    "    Laptop['Ratings'] = []\n",
    "    Laptop['Price'] = []"
   ]
  },
  {
   "cell_type": "code",
   "execution_count": 77,
   "id": "d5029d8e",
   "metadata": {},
   "outputs": [],
   "source": [
    "    title = driver.find_elements_by_xpath('//span[@class=\"a-size-medium a-color-base a-text-normal\"]')\n",
    "    for i in title:\n",
    "        Laptop['Title'].append(i.text)\n",
    "    Laptop['Title'] = Laptop['Title'][:10]"
   ]
  },
  {
   "cell_type": "code",
   "execution_count": 78,
   "id": "f8002398",
   "metadata": {},
   "outputs": [
    {
     "data": {
      "text/plain": [
       "['MSI GS66 Stealth, Intel 10th Gen. i7-10875H, 15.6\" (39.62cms) FHD Gaming Laptop (16GB*2/1TB NVMe SSD/Windows 10 Home/Nvidia RTX 2070 Super Max-Q/ Black/2.1Kg), 10SFS-488IN',\n",
       " 'HP Pavilion (2021) Thin & Light 11th Gen Core i7 Laptop, 16 GB RAM, 1TB SSD, Iris Xe Graphics, 14\" (35.56cms) FHD Screen, Windows 10, MS Office, Backlit Keyboard (14-dv0058TU)',\n",
       " 'Dell 14 (2021) i7-1165G7 2in1 Touch Screen Laptop, 16Gb RAM, 512Gb SSD, 14” (35.56 cms) FHD Display, Win 10 + MSO, Backlit KB + FPR + Active Pen, Silver Metal Color (Inspiron 5410, D560469WIN9S)',\n",
       " 'HP Pavilion Gaming 10th Gen Intel Core i7 Processor 15.6-inch FHD Gaming Laptop (16GB/512GB SSD + 32GB Intel Optane/Windows 10/NVIDIA 1650Ti 4GB/Shadow Black), 15-dk1509TX',\n",
       " 'Mi Notebook Horizon Edition 14 Intel Core i7-10510U 10th Gen 14-inch (35.56 cms) Thin and Light Laptop(8GB/512GB SSD/Windows 10/Nvidia MX350 2GB Graphics/Grey/1.35Kg), XMA1904-AF+Webcam',\n",
       " 'Lenovo Legion Y540 Intel Core i7 9th Gen 15.6” FHD Gaming (8GB/256SSD + 1TBHDD/Win10/NVIDIA GeForce GTX 1650 4GB/Raven Black/2.3kg), 81SY00U7IN',\n",
       " 'Lenovo Ideapad 5 Intel i7 11th Gen 15.6\" Thin and Light (16GB/512SSD/Win10 +Office Home/Intel Iris Xe Graphics/Graphite Grey/1.66kg), 82FG0117IN',\n",
       " 'HP Pavilion x360 (2021) 14\" (35.56cms) FHD Touchscreen Laptop, 11th Gen Core i7, 8 GB RAM, 512GB SSD, 2-in-1 Convertible, Windows 10, MS Office, Finger Print Reader (14-dw1040TU)',\n",
       " '(Renewed) Dell Intel Core i7 4th Gen 14 Inch(35.56 cms) 1366x768 HD Laptop (16GB RAM /1TB SSD/Windows 10 Pro/MS Office 2019/Intel Integrated HD Graphics 4600/2.1Kg,Silver) Latitude E6440',\n",
       " 'ASUS ROG Zephyrus S17 (2020), 17.3\" FHD 300Hz/3ms, Intel Core i7-10750H 10th Gen, RTX 2080 Super Max-Q 8GB Graphics Gaming Laptop (32GB/1TB SSD/Office 2019/Windows 10/Black/2.6 Kg), GX701LXS-HG002TS']"
      ]
     },
     "execution_count": 78,
     "metadata": {},
     "output_type": "execute_result"
    }
   ],
   "source": [
    "    Laptop['Title']"
   ]
  },
  {
   "cell_type": "code",
   "execution_count": 79,
   "id": "217e89fd",
   "metadata": {},
   "outputs": [],
   "source": [
    "    laptop_price = driver.find_elements_by_xpath('//span[@class=\"a-price-whole\"]')\n",
    "    for i in laptop_price:\n",
    "        Laptop['Price'].append(i.text)\n",
    "    Laptop['Price'] = Laptop['Price'][:10]"
   ]
  },
  {
   "cell_type": "code",
   "execution_count": 80,
   "id": "f5b588fc",
   "metadata": {},
   "outputs": [
    {
     "data": {
      "text/plain": [
       "['2,71,823',\n",
       " '84,990',\n",
       " '91,390',\n",
       " '96,555',\n",
       " '59,999',\n",
       " '69,990',\n",
       " '84,990',\n",
       " '78,993',\n",
       " '49,999',\n",
       " '1,65,990']"
      ]
     },
     "execution_count": 80,
     "metadata": {},
     "output_type": "execute_result"
    }
   ],
   "source": [
    "    Laptop['Price']"
   ]
  },
  {
   "cell_type": "code",
   "execution_count": 81,
   "id": "0c36683e",
   "metadata": {},
   "outputs": [
    {
     "data": {
      "text/plain": [
       "10"
      ]
     },
     "execution_count": 81,
     "metadata": {},
     "output_type": "execute_result"
    }
   ],
   "source": [
    "len(Laptop['Price'])"
   ]
  },
  {
   "cell_type": "code",
   "execution_count": 82,
   "id": "b4261989",
   "metadata": {},
   "outputs": [],
   "source": [
    "    Image_URL = []\n",
    "    Imagelink = driver.find_elements_by_xpath('//a[@class=\"a-link-normal a-text-normal\"]')\n",
    "    for i in Imagelink:\n",
    "        Image_URL.append(i.get_attribute('href'))"
   ]
  },
  {
   "cell_type": "code",
   "execution_count": 83,
   "id": "9d50c7d8",
   "metadata": {},
   "outputs": [
    {
     "data": {
      "text/plain": [
       "['https://www.amazon.in/gp/slredirect/picassoRedirect.html/ref=pa_sp_atf_computers_sr_pg1_1?ie=UTF8&adId=A014119429EI5XB7GMHC7&url=%2FMSI-GS66-Stealth-i7-10875H-10SFS-488IN%2Fdp%2FB08KG3CHVR%2Fref%3Dsr_1_1_sspa%3Fdchild%3D1%26keywords%3DLaptop%26qid%3D1625991160%26refinements%3Dp_n_feature_thirteen_browse-bin%253A12598163031%257C16757432031%26rnid%3D12598141031%26s%3Dcomputers%26sr%3D1-1-spons%26psc%3D1&qualifier=1625991160&id=6669019823979390&widgetName=sp_atf',\n",
       " 'https://www.amazon.in/HP-Pavilion-Graphics-35-56cms-14-dv0058TU/dp/B08WB857GB/ref=sr_1_2?dchild=1&keywords=Laptop&qid=1625991160&refinements=p_n_feature_thirteen_browse-bin%3A12598163031%7C16757432031&rnid=12598141031&s=computers&sr=1-2',\n",
       " 'https://www.amazon.in/Dell-i7-1165G7-Inspiron-5410-D560469WIN9S/dp/B095S9NJ4S/ref=sr_1_3?dchild=1&keywords=Laptop&qid=1625991160&refinements=p_n_feature_thirteen_browse-bin%3A12598163031%7C16757432031&rnid=12598141031&s=computers&sr=1-3',\n",
       " 'https://www.amazon.in/HP-Pavilion-Processor-15-6-inch-15-dk1509TX/dp/B08ZN7GBQ5/ref=sr_1_4?dchild=1&keywords=Laptop&qid=1625991160&refinements=p_n_feature_thirteen_browse-bin%3A12598163031%7C16757432031&rnid=12598141031&s=computers&sr=1-4',\n",
       " 'https://www.amazon.in/Notebook-Horizon-i7-10510U-Graphics-XMA1904-AF/dp/B089F2W1KW/ref=sr_1_5?dchild=1&keywords=Laptop&qid=1625991160&refinements=p_n_feature_thirteen_browse-bin%3A12598163031%7C16757432031&rnid=12598141031&s=computers&sr=1-5',\n",
       " 'https://www.amazon.in/Lenovo-Legion-Gaming-GeForce-81SY00U7IN/dp/B092MRQCJ6/ref=sr_1_6?dchild=1&keywords=Laptop&qid=1625991160&refinements=p_n_feature_thirteen_browse-bin%3A12598163031%7C16757432031&rnid=12598141031&s=computers&sr=1-6',\n",
       " 'https://www.amazon.in/Lenovo-Ideapad-Graphics-Graphite-82FG0117IN/dp/B092MV9ZF6/ref=sr_1_7?dchild=1&keywords=Laptop&qid=1625991160&refinements=p_n_feature_thirteen_browse-bin%3A12598163031%7C16757432031&rnid=12598141031&s=computers&sr=1-7',\n",
       " 'https://www.amazon.in/HP-Pavilion-Touchscreen-Convertible-14-dw1040TU/dp/B08R843NHL/ref=sr_1_8?dchild=1&keywords=Laptop&qid=1625991160&refinements=p_n_feature_thirteen_browse-bin%3A12598163031%7C16757432031&rnid=12598141031&s=computers&sr=1-8',\n",
       " 'https://www.amazon.in/Dell-1366x768-Integrated-Graphics-Latitude/dp/B09752NVNF/ref=sr_1_9?dchild=1&keywords=Laptop&qid=1625991160&refinements=p_n_feature_thirteen_browse-bin%3A12598163031%7C16757432031&rnid=12598141031&s=computers&sr=1-9',\n",
       " 'https://www.amazon.in/ASUS-Zephyrus-i7-10750H-RTX-2080-GX701LXS-HG002TS/dp/B08PFD2Z9M/ref=sr_1_10?dchild=1&keywords=Laptop&qid=1625991160&refinements=p_n_feature_thirteen_browse-bin%3A12598163031%7C16757432031&rnid=12598141031&s=computers&sr=1-10',\n",
       " 'https://www.amazon.in/ASUS-VivoBook-i7-1165G7-Graphics-S433EA-AM702TS/dp/B08SN9GJXH/ref=sr_1_11?dchild=1&keywords=Laptop&qid=1625991160&refinements=p_n_feature_thirteen_browse-bin%3A12598163031%7C16757432031&rnid=12598141031&s=computers&sr=1-11',\n",
       " 'https://www.amazon.in/MSI-i7-10750H-IPS-Level-Windows-10SCXR-654IN/dp/B093L8QGL7/ref=sr_1_12?dchild=1&keywords=Laptop&qid=1625991160&refinements=p_n_feature_thirteen_browse-bin%3A12598163031%7C16757432031&rnid=12598141031&s=computers&sr=1-12',\n",
       " 'https://www.amazon.in/Dell-15-6-inch-i7-10750H-NVIDIA1650-D560260WIN9BE/dp/B08H9PTSYR/ref=sr_1_13?dchild=1&keywords=Laptop&qid=1625991160&refinements=p_n_feature_thirteen_browse-bin%3A12598163031%7C16757432031&rnid=12598141031&s=computers&sr=1-13',\n",
       " 'https://www.amazon.in/gp/slredirect/picassoRedirect.html/ref=pa_sp_mtf_computers_sr_pg1_1?ie=UTF8&adId=A02653902UKZ2EJPLDFRL&url=%2FNotebook-Horizon-i5-10210U-Graphics-XMA1904-AR%2Fdp%2FB089F5JGM1%2Fref%3Dsr_1_14_sspa%3Fdchild%3D1%26keywords%3DLaptop%26qid%3D1625991160%26refinements%3Dp_n_feature_thirteen_browse-bin%253A12598163031%257C16757432031%26rnid%3D12598141031%26s%3Dcomputers%26sr%3D1-14-spons%26psc%3D1&qualifier=1625991160&id=6669019823979390&widgetName=sp_mtf',\n",
       " 'https://www.amazon.in/Lenovo-Touchscreen-Fingerprint-Graphite-82HS0092IN/dp/B08WRZQBQ6/ref=sr_1_15?dchild=1&keywords=Laptop&qid=1625991160&refinements=p_n_feature_thirteen_browse-bin%3A12598163031%7C16757432031&rnid=12598141031&s=computers&sr=1-15',\n",
       " 'https://www.amazon.in/ASUS-Zephyrus-i7-10875H-RTX-2080-GX550LXS-HC145TS/dp/B08GQZZQY3/ref=sr_1_16?dchild=1&keywords=Laptop&qid=1625991160&refinements=p_n_feature_thirteen_browse-bin%3A12598163031%7C16757432031&rnid=12598141031&s=computers&sr=1-16',\n",
       " 'https://www.amazon.in/Dell-Inspiron-i7-1165G7-Integrated-D560414WIN9S/dp/B0919LL313/ref=sr_1_17?dchild=1&keywords=Laptop&qid=1625991160&refinements=p_n_feature_thirteen_browse-bin%3A12598163031%7C16757432031&rnid=12598141031&s=computers&sr=1-17',\n",
       " 'https://www.amazon.in/Lenovo-250Nits-Graphics-Phantom-82AU00PNIN/dp/B097TY6PTN/ref=sr_1_18?dchild=1&keywords=Laptop&qid=1625991160&refinements=p_n_feature_thirteen_browse-bin%3A12598163031%7C16757432031&rnid=12598141031&s=computers&sr=1-18',\n",
       " 'https://www.amazon.in/ASUS-TUF-F15-i7-11370H-FX516PE-HN088TS/dp/B094RDLV5P/ref=sr_1_19?dchild=1&keywords=Laptop&qid=1625991160&refinements=p_n_feature_thirteen_browse-bin%3A12598163031%7C16757432031&rnid=12598141031&s=computers&sr=1-19',\n",
       " 'https://www.amazon.in/Lenovo-ThinkPad-Graphics-Aluminium-20TDS0G200/dp/B095SPWBKF/ref=sr_1_20?dchild=1&keywords=Laptop&qid=1625991160&refinements=p_n_feature_thirteen_browse-bin%3A12598163031%7C16757432031&rnid=12598141031&s=computers&sr=1-20',\n",
       " 'https://www.amazon.in/Inspiron-5593-15-6-inch-i7-1065G7-Graphics/dp/B07ZG4S91Z/ref=sr_1_21?dchild=1&keywords=Laptop&qid=1625991160&refinements=p_n_feature_thirteen_browse-bin%3A12598163031%7C16757432031&rnid=12598141031&s=computers&sr=1-21',\n",
       " 'https://www.amazon.in/Lenovo-Touchscreen-Graphics-Fingerprint-82A300BEIN/dp/B094XHDWWF/ref=sr_1_22?dchild=1&keywords=Laptop&qid=1625991160&refinements=p_n_feature_thirteen_browse-bin%3A12598163031%7C16757432031&rnid=12598141031&s=computers&sr=1-22',\n",
       " 'https://www.amazon.in/Dell-1366x768-Integrated-Graphics-Latitude/dp/B0974XBX64/ref=sr_1_23?dchild=1&keywords=Laptop&qid=1625991160&refinements=p_n_feature_thirteen_browse-bin%3A12598163031%7C16757432031&rnid=12598141031&s=computers&sr=1-23',\n",
       " 'https://www.amazon.in/Lenovo-IdeaPad-15-6-inch-Windows-81Y400VAIN/dp/B08PV48PYW/ref=sr_1_24?dchild=1&keywords=Laptop&qid=1625991160&refinements=p_n_feature_thirteen_browse-bin%3A12598163031%7C16757432031&rnid=12598141031&s=computers&sr=1-24',\n",
       " 'https://www.amazon.in/Lenovo-Touchscreen-Fingerprint-Aluminium-82BH004HIN/dp/B08P3M22QQ/ref=sr_1_25?dchild=1&keywords=Laptop&qid=1625991160&refinements=p_n_feature_thirteen_browse-bin%3A12598163031%7C16757432031&rnid=12598141031&s=computers&sr=1-25',\n",
       " 'https://www.amazon.in/ASUS-i7-10750H-Graphics-Windows-G512LU-HN263TS/dp/B08CR6C9LJ/ref=sr_1_26?dchild=1&keywords=Laptop&qid=1625991160&refinements=p_n_feature_thirteen_browse-bin%3A12598163031%7C16757432031&rnid=12598141031&s=computers&sr=1-26']"
      ]
     },
     "execution_count": 83,
     "metadata": {},
     "output_type": "execute_result"
    }
   ],
   "source": [
    "    Image_URL"
   ]
  },
  {
   "cell_type": "code",
   "execution_count": 84,
   "id": "67935ce2",
   "metadata": {},
   "outputs": [],
   "source": [
    "from selenium.common.exceptions import NoSuchElementException\n"
   ]
  },
  {
   "cell_type": "code",
   "execution_count": 85,
   "id": "5133c3ba",
   "metadata": {},
   "outputs": [],
   "source": [
    "Laptop['Ratings'] = []"
   ]
  },
  {
   "cell_type": "code",
   "execution_count": 86,
   "id": "f142b3ee",
   "metadata": {},
   "outputs": [],
   "source": [
    "\n",
    "for i in Image_URL:\n",
    "    try:\n",
    "        driver.get(i)\n",
    "        R = driver.find_element_by_xpath('//span[@class=\"a-size-medium a-color-base\"]')\n",
    "        R1=[]\n",
    "        R1.append(R.text.replace('o',' '))\n",
    "        for k in range(0,len(R1)):\n",
    "            Laptop['Ratings'].append(R1[k][:3])\n",
    "    \n",
    "    except NoSuchElementException:\n",
    "        N = ['No Ratings']\n",
    "        for i in N:\n",
    "            Laptop['Ratings'].append(i)\n",
    "        pass"
   ]
  },
  {
   "cell_type": "code",
   "execution_count": 87,
   "id": "795d0815",
   "metadata": {},
   "outputs": [],
   "source": [
    "Laptop['Ratings'] = Laptop['Ratings'][:10]"
   ]
  },
  {
   "cell_type": "code",
   "execution_count": 88,
   "id": "1a3fed29",
   "metadata": {},
   "outputs": [
    {
     "data": {
      "text/plain": [
       "['2  ', '4.4', '4.6', '4.2', '4.4', '4.3', '4.5', '4  ', '1  ', '3.6']"
      ]
     },
     "execution_count": 88,
     "metadata": {},
     "output_type": "execute_result"
    }
   ],
   "source": [
    "Laptop['Ratings']"
   ]
  },
  {
   "cell_type": "code",
   "execution_count": 89,
   "id": "f4eeed9d",
   "metadata": {},
   "outputs": [],
   "source": [
    "Amazon_Laptop = pd.DataFrame(Laptop)"
   ]
  },
  {
   "cell_type": "code",
   "execution_count": 90,
   "id": "843976e0",
   "metadata": {
    "scrolled": true
   },
   "outputs": [
    {
     "data": {
      "text/html": [
       "<div>\n",
       "<style scoped>\n",
       "    .dataframe tbody tr th:only-of-type {\n",
       "        vertical-align: middle;\n",
       "    }\n",
       "\n",
       "    .dataframe tbody tr th {\n",
       "        vertical-align: top;\n",
       "    }\n",
       "\n",
       "    .dataframe thead th {\n",
       "        text-align: right;\n",
       "    }\n",
       "</style>\n",
       "<table border=\"1\" class=\"dataframe\">\n",
       "  <thead>\n",
       "    <tr style=\"text-align: right;\">\n",
       "      <th></th>\n",
       "      <th>Title</th>\n",
       "      <th>Ratings</th>\n",
       "      <th>Price</th>\n",
       "    </tr>\n",
       "  </thead>\n",
       "  <tbody>\n",
       "    <tr>\n",
       "      <th>0</th>\n",
       "      <td>MSI GS66 Stealth, Intel 10th Gen. i7-10875H, 1...</td>\n",
       "      <td>2</td>\n",
       "      <td>2,71,823</td>\n",
       "    </tr>\n",
       "    <tr>\n",
       "      <th>1</th>\n",
       "      <td>HP Pavilion (2021) Thin &amp; Light 11th Gen Core ...</td>\n",
       "      <td>4.4</td>\n",
       "      <td>84,990</td>\n",
       "    </tr>\n",
       "    <tr>\n",
       "      <th>2</th>\n",
       "      <td>Dell 14 (2021) i7-1165G7 2in1 Touch Screen Lap...</td>\n",
       "      <td>4.6</td>\n",
       "      <td>91,390</td>\n",
       "    </tr>\n",
       "    <tr>\n",
       "      <th>3</th>\n",
       "      <td>HP Pavilion Gaming 10th Gen Intel Core i7 Proc...</td>\n",
       "      <td>4.2</td>\n",
       "      <td>96,555</td>\n",
       "    </tr>\n",
       "    <tr>\n",
       "      <th>4</th>\n",
       "      <td>Mi Notebook Horizon Edition 14 Intel Core i7-1...</td>\n",
       "      <td>4.4</td>\n",
       "      <td>59,999</td>\n",
       "    </tr>\n",
       "    <tr>\n",
       "      <th>5</th>\n",
       "      <td>Lenovo Legion Y540 Intel Core i7 9th Gen 15.6”...</td>\n",
       "      <td>4.3</td>\n",
       "      <td>69,990</td>\n",
       "    </tr>\n",
       "    <tr>\n",
       "      <th>6</th>\n",
       "      <td>Lenovo Ideapad 5 Intel i7 11th Gen 15.6\" Thin ...</td>\n",
       "      <td>4.5</td>\n",
       "      <td>84,990</td>\n",
       "    </tr>\n",
       "    <tr>\n",
       "      <th>7</th>\n",
       "      <td>HP Pavilion x360 (2021) 14\" (35.56cms) FHD Tou...</td>\n",
       "      <td>4</td>\n",
       "      <td>78,993</td>\n",
       "    </tr>\n",
       "    <tr>\n",
       "      <th>8</th>\n",
       "      <td>(Renewed) Dell Intel Core i7 4th Gen 14 Inch(3...</td>\n",
       "      <td>1</td>\n",
       "      <td>49,999</td>\n",
       "    </tr>\n",
       "    <tr>\n",
       "      <th>9</th>\n",
       "      <td>ASUS ROG Zephyrus S17 (2020), 17.3\" FHD 300Hz/...</td>\n",
       "      <td>3.6</td>\n",
       "      <td>1,65,990</td>\n",
       "    </tr>\n",
       "  </tbody>\n",
       "</table>\n",
       "</div>"
      ],
      "text/plain": [
       "                                               Title Ratings     Price\n",
       "0  MSI GS66 Stealth, Intel 10th Gen. i7-10875H, 1...     2    2,71,823\n",
       "1  HP Pavilion (2021) Thin & Light 11th Gen Core ...     4.4    84,990\n",
       "2  Dell 14 (2021) i7-1165G7 2in1 Touch Screen Lap...     4.6    91,390\n",
       "3  HP Pavilion Gaming 10th Gen Intel Core i7 Proc...     4.2    96,555\n",
       "4  Mi Notebook Horizon Edition 14 Intel Core i7-1...     4.4    59,999\n",
       "5  Lenovo Legion Y540 Intel Core i7 9th Gen 15.6”...     4.3    69,990\n",
       "6  Lenovo Ideapad 5 Intel i7 11th Gen 15.6\" Thin ...     4.5    84,990\n",
       "7  HP Pavilion x360 (2021) 14\" (35.56cms) FHD Tou...     4      78,993\n",
       "8  (Renewed) Dell Intel Core i7 4th Gen 14 Inch(3...     1      49,999\n",
       "9  ASUS ROG Zephyrus S17 (2020), 17.3\" FHD 300Hz/...     3.6  1,65,990"
      ]
     },
     "execution_count": 90,
     "metadata": {},
     "output_type": "execute_result"
    }
   ],
   "source": [
    "Amazon_Laptop"
   ]
  },
  {
   "cell_type": "markdown",
   "id": "9d4cfd6c",
   "metadata": {},
   "source": [
    "__________________________________"
   ]
  }
 ],
 "metadata": {
  "kernelspec": {
   "display_name": "Python 3",
   "language": "python",
   "name": "python3"
  },
  "language_info": {
   "codemirror_mode": {
    "name": "ipython",
    "version": 3
   },
   "file_extension": ".py",
   "mimetype": "text/x-python",
   "name": "python",
   "nbconvert_exporter": "python",
   "pygments_lexer": "ipython3",
   "version": "3.8.8"
  }
 },
 "nbformat": 4,
 "nbformat_minor": 5
}
